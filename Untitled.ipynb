{
 "cells": [
  {
   "cell_type": "code",
   "execution_count": 1,
   "metadata": {
    "ExecuteTime": {
     "end_time": "2019-02-23T13:53:34.861478Z",
     "start_time": "2019-02-23T13:53:32.574318Z"
    },
    "run_control": {
     "frozen": false,
     "read_only": false
    }
   },
   "outputs": [],
   "source": [
    "import pylab as pl\n",
    "import requests\n",
    "from bs4 import BeautifulSoup\n",
    "import numpy as np"
   ]
  },
  {
   "cell_type": "code",
   "execution_count": 2,
   "metadata": {
    "ExecuteTime": {
     "end_time": "2019-02-23T13:53:37.031871Z",
     "start_time": "2019-02-23T13:53:34.866884Z"
    },
    "run_control": {
     "frozen": false,
     "read_only": false
    }
   },
   "outputs": [],
   "source": [
    "page = requests.get(\"https://www.lsst.org/submitted-whitepaper-2018\")"
   ]
  },
  {
   "cell_type": "code",
   "execution_count": 3,
   "metadata": {
    "ExecuteTime": {
     "end_time": "2019-02-23T13:53:37.087981Z",
     "start_time": "2019-02-23T13:53:37.036084Z"
    },
    "run_control": {
     "frozen": false,
     "read_only": false
    }
   },
   "outputs": [],
   "source": [
    "soup = BeautifulSoup(page.text, 'html.parser')\n"
   ]
  },
  {
   "cell_type": "code",
   "execution_count": 4,
   "metadata": {
    "ExecuteTime": {
     "end_time": "2019-02-23T13:53:37.251442Z",
     "start_time": "2019-02-23T13:53:37.093866Z"
    },
    "run_control": {
     "frozen": false,
     "read_only": false
    }
   },
   "outputs": [
    {
     "data": {
      "text/plain": [
       "<div class=\"field-item even\" property=\"content:encoded\"><table cellpadding=\"0\" cellspacing=\"0\" id=\"whitepapers\" style=\"width: 100%\"><thead><tr><th scope=\"col\" style=\"width: 200px;\"><p style=\"text-align: left;\">Title</p></th><th scope=\"col\"><p style=\"text-align: left;\">Authors</p></th><th scope=\"col\"><p style=\"text-align: left;\">Link</p></th></tr></thead><tbody><tr><td><p style=\"text-align: left;\">A Big Sky Approach to Cadence Diplomacy</p></td><td><p style=\"text-align: left;\">Knut Olsen (SMWLV), Marcella Di Criscienzo (SMWLV, TVS), R. Lynne Jones (Solar System), Megan E. Schwamb (Solar System), Hsing Wen “Edward” Lin (Solar System), Humna Awan (DESC), Phil Marshall (DESC, Strong Lensing), Eric Gawiser (Galaxies, DESC), Adam Bolton, Daniel Eisenstein</p></td><td><p style=\"text-align: left;\"><a href=\"https://docushare.lsstcorp.org/docushare/dsweb/Get/Document-30591/olsen_bigsky_all.pdf\">Docushare</a></p></td></tr><tr><td> </td><td style=\"text-align: left;\">The LSST survey was designed to deliver transformative scientific results for four primary objectives: constraining dark energy and dark matter, taking an inventory of the Solar System, exploring the transient optical sky, and mapping the Milky Way. While the LSST Wide-Fast-Deep survey and accompanying Deep Drilling and minisurveys will be ground-breaking for each of these areas, there remain competing demands on the survey area, depth, and temporal coverage amid a desire to maximize all three. In this white paper, we seek to address a principal source of tension between the different LSST science collaborations, that of the survey area and depth that they each need in the parts of the sky that they care about. We present simple tools which can be used to explore trades between the area surveyed by LSST and the number of visits available per field and then use these tools to propose a change to the baseline survey strategy. Specifically, we propose to reconfigure the WFD footprint to consist of low-extinction regions (limited by galactic latitude), with the number of visits per field in WFD limited by the LSST Science Requirements Document (SRD) ‘design’ goal, and suggest assignment of the remaining LSST visits to the full visible LSST sky. This proposal addresses concerns with the WFD footprint raised by the DESC (as ∼ 25% of the current baseline WFD region is not usable for dark energy science due to MW dust extinction), eases the time required for the NES and SCP mini-surveys (since in our proposal they would partially fall into the modified WFD footprint), raises the number of visits previously assigned to the GP region, and increases the overlap with DESI and other Northern hemisphere follow-up facilities. This proposal alleviates many of the current concerns of Science Collaborations that represent the four scientific pillars of LSST and provides a Big Sky approach to cadence diplomacy.</td><td> </td></tr><tr><td><p style=\"text-align: left;\">A Cadence to Reduce Aliasing in LSST</p></td><td><p style=\"text-align: left;\">Keaton J. Bell, Kelly M. Hambleton, Michael B. Lund and R ́obert Szab ́o</p></td><td><p style=\"text-align: left;\"><a href=\"https://docushare.lsstcorp.org/docushare/dsweb/Get/Document-30582/bell_antialiasing_wfd.pdf\">Docushare</a></p></td></tr><tr><td> </td><td style=\"text-align: left;\">Regular sampling in the time domain results in aliasing in the frequency domain that complicates the accurate determination of the periods of astrophysical variables. We propose to actively break the regularity of this sampling by providing an additional consideration for the scheduler that weights fields according to when observations will contribute the least to aliasing. The current aliases for each field can be computed during daytime from the history of observations. We can then calculate the times when additional observations would worsen or alleviate these aliases for different fields. The scheduler should give preference to observation epochs that lessen the effect of aliasing, while still meeting all other cadence requirements.</td><td> </td></tr><tr><td><p style=\"text-align: left;\">A Higher Cadence Subsurvey Located in the Galactic Plane</p></td><td><p style=\"text-align: left;\">M.B. Lund, K.G. Stassun, J. Farihi, E. Agol, M. Rabus, A. Shporer, and K.J. Bell</p></td><td><p style=\"text-align: left;\"><a href=\"https://docushare.lsstcorp.org/docushare/dsweb/Get/Document-30602/lund_transits_gp.pdf\">Docushare</a></p></td></tr><tr><td> </td><td style=\"text-align: left;\">Presently, the Galactic plane receives relatively few observations compared to most of the LSST footprint. While this may address static science, the plane will also represent the highest density of variable Galactic sources. The proper characterization of variability of these sources will benefit greatly from observations at a higher cadence.</td><td> </td></tr><tr><td><p style=\"text-align: left;\">A Northern Ecliptic Survey for Solar System Science</p></td><td><p style=\"text-align: left;\">Megan E. Schwamb, Kathryn Volk, Hsing Wen (Edward) Lin, Michael S. P. Kelley, Michele T. Bannister, Henry H. Hsieh, R. Lynne Jones, Michael Mommert, Colin Snodgrass, Darin Ragozzine, Steven R. Chesley, Scott S. Sheppard, Mario Juri ́c, Marc W. Buie</p></td><td><p style=\"text-align: left;\"><a href=\"https://docushare.lsstcorp.org/docushare/dsweb/Get/Document-30596/schwamb_sso_nes.pdf\">Docushare</a></p></td></tr><tr><td> </td><td style=\"text-align: left;\">Making an inventory of the Solar System is one of the four fundamental science requirements for the Large Synoptic Survey Telescope (LSST). The current baseline footprint for LSST’s main Wide-Fast-Deep (WFD) Survey observes the sky below 0◦ declination, which includes only half of the ecliptic plane. Critically, key Solar System populations are asymmetrically distributed on the sky: they will be entirely missed, or only partially mapped, if only the WFD occurs. We propose a Northern Ecliptic Spur (NES) mini survey, observing the northern sky up to +10◦ ecliptic latitude, to maximize Solar System science with LSST. The mini survey comprises a total area of ∼5800 deg2/604 fields, with 255 observations/field over the decade, split between g,r, and z bands. Our proposed survey will 1) obtain a census of main-belt comets; 2) probe Neptune’s past migration history, by exploring the resonant structure of the Kuiper belt and the Neptune Trojan population; 3) explore the origin of Inner Oort cloud objects and place significant constraints on the existence of a hypothesized planet beyond Neptune; and 4) enable precise predictions of KBO stellar occultations. These high-ranked science goals of the Solar System Science Collaboration are only achievable with this proposed northern survey.</td><td> </td></tr><tr><td><p style=\"text-align: left;\">A Smart and Colorful Cadence for the Wide-Fast Deep Survey</p></td><td><p style=\"text-align: left;\">Suvi Gezari*, (University of Maryland), Sjoert van Velzen (University of Maryland and NYU), Tiara Hung (University of California Santa Cruz), Brad Cenko (NASA/Goddard), and Iair Arcavi (Tel Aviv University)</p></td><td><p style=\"text-align: left;\"><a href=\"https://docushare.lsstcorp.org/docushare/dsweb/Get/Document-30580/gezari_tde_rolling_wfd.pdf\">Docushare</a></p></td></tr><tr><td> </td><td style=\"text-align: left;\">Tidal disruption events (TDEs) are rare, 10−7 yr−1 Mpc−3 (Hung et al. 2018), yet the large survey volume of LSST implies a very large detection rate of 200 yr−1 /1000 deg2 (van Velzen et al. 2011), a factor of 250 increase in the detection capability of the current generation of optical synoptic surveys, e.g. ZTF, ASAS-SN, Pan-STARRS, and ATLAS. The goal of this LSST cadence white paper is to determine which survey strategy will ensure the efficient selection and characterization of TDEs in the LSST Wide-Fast-Deep Survey transient alert stream. We conclude that the baseline cadence design fails miserably to 1) measure the u − r color and color evolution of transients, a critical parameter for distinguishing TDEs from SNe, and to 2) catch the pre-peak light curves of transients, an essential measurement for probing their rise times, which are in turn a probe of black hole mass in TDEs. If we do not harvest the fruits of the LSST transient alert stream with photometric classification and early detections, both TDE and SN science will be greatly limited. Hence, we propose for a “smart” and ”colorful” rolling cadence in the Wide-Fast Deep (WFD) Survey, that allows for efficient photometric transient classification from well sampled multi-band light curves, with the 20,000 deg2 survey divided into eight 2500 deg2 strips each observed for one year in Years 2-9, with the full WFD area observed in Years 1 &amp; 10. This will yield a legacy sample of 200 TDEs per year with early detections in u, g, and r bands for efficient classification and full light curve characterization</td><td> </td></tr><tr><td><p style=\"text-align: left;\">A strategy for LSST to unveil a population of kilonovae</p><p style=\"text-align: left;\">without gravitational-wave triggers.</p></td><td><p style=\"text-align: left;\">Igor Andreoni, Caltech; Shreya Anand, Caltech;</p><p style=\"text-align: left;\">Federica B. Bianco, NYU CUSP/CCPP NYU, University of Delaware;</p><p style=\"text-align: left;\">Brad Cenko, NASA-GSFC; Philip Cowperthwaite, Carnegie;</p><p style=\"text-align: left;\">Michael W. Coughlin, Caltech; Maria Drout, Dunlap Institute, University of Toronto;</p><p style=\"text-align: left;\">Danny Goldstein, Caltech; V. Zach Golkhou, University of Washington;</p><p style=\"text-align: left;\">Anna Ho, Caltech; David Kaplan, UW-Milwaukee;</p><p style=\"text-align: left;\">Kunal P. Mooley, Caltech; Tyler A. Pritchard, NYU;</p><p style=\"text-align: left;\">Mickael Rigault, CNRS; Leo P. Singer, NASA-GSFC</p></td><td><p style=\"text-align: left;\"><a href=\"https://arxiv.org/pdf/1812.03161.pdf\">arXiv</a></p></td></tr><tr><td> </td><td style=\"text-align: left;\">We propose a cadence optimization strategy for the Large Synoptic Survey Telescope (LSST) to unveil a large population of kilonovae. These transients are generated during binary neutron star and potentially neutron-star black-hole mergers and are electromagnetic counterparts to gravitational-wave signals detectable in nearby events with Advanced LIGO, Advanced Virgo, and other interferometers that will come online in the near future. Discovering a large population of kilonovae will allow us to determine how heavy element production varies with the intrinsic parameters of the merger and across cosmic time. The rate of binary neutron star mergers is still uncertain and . 15 events with associated kilonovae are expected to be detectable per year within the LIGO horizon. The rapid evolution (∼ days) at optical/infrared wavelengths, relatively low luminosity, and the low volumetric rate of kilonovae makes their discovery difficult, especially during blind surveys of the sky. With the current LSST cadence design, . 7.5 poorly-sampled kilonovae are expected to be discovered in both the WFD and DDF surveys per year, under optimistic assumptions on their rate and luminosity. We propose to adopt a rolling cadence for the WFD survey in which gi observations are taken for a particular 750 deg2 tract of sky every night for 10 consecutive nights, with the total yearly exposure time in gi being equivalent to the WFD baseline across the survey. We expect this strategy to return ∼ 272 GW170817-like kilonovae throughout the survey discovered independently from gravitational-wave triggers.</td><td> </td></tr><tr><td><p style=\"text-align: left;\">Active Galaxy Science in the LSST Deep-Drilling Fields: Footprints, Cadence Requirements, and Total-Depth Requirements</p></td><td><p style=\"text-align: left;\">W.N. Brandt (Penn State), Q. Ni (Penn State), G. Yang (Penn State), S.F. Anderson (Univ Washington), R.J. Assef (Univ Diego Portales), A.J. Barth (UC Irvine), F.E. Bauer (Cat ́olica), A. Bongiorno (Oss Ast Roma), C.-T. Chen (MSFC), D. De Cicco (Cat ́olica), S. Gezari (Univ Maryland), C.J. Grier (Penn State), P.B. Hall (York Univ), S.F. Hoenig (Univ Southampton), M. Lacy (NRAO), J. Li (Univ Illinois), B. Luo (Nanjing Univ), M. Paolillo (Univ Naples Fed II), B.M. Peterson (Ohio State), L.C. Popovi ́c (Ast Obs Belgrade), G.T. Richards (Drexel Univ), O. Shemmer (Univ N Texas), Y. Shen (Univ Illinois), M. Sun (USTC), J.D. Timlin (Penn State), J.R. You-Know-Who (Univ Connecticut), F. Vito (Cat ́olica), Z. Yu (Ohio State)</p></td><td><p style=\"text-align: left;\"><a href=\"https://docushare.lsstcorp.org/docushare/dsweb/Get/Document-30468/AGN-DDF-WP-02.pdf\">Docushare</a></p></td></tr><tr><td> </td><td style=\"text-align: left;\">This white paper specifies the footprints, cadence requirements, and total-depth requirements needed to allow the most-successful AGN studies in the four currently selected LSST Deep-Drilling Fields (DDFs): ELAIS-S1, XMM-LSS, CDF-S, and COSMOS. The information provided on cadence and total-depth requirements will also likely be applicable to enabling effective AGN science in any additional DDFs that are chosen.</td><td> </td></tr><tr><td><p style=\"text-align: left;\">Blazars and Fast Radio Bursts with LSST</p></td><td><p style=\"text-align: left;\">C.M. Raiteri, M.I. Carnerero, B. Balmaverde, F. D’Ammando, C. Righi et al.</p></td><td><p style=\"text-align: left;\"><a href=\"https://docushare.lsstcorp.org/docushare/dsweb/Get/Document-30503/raiteri_blazars_wfd.pdf\">Docushare</a></p></td></tr><tr><td> </td><td style=\"text-align: left;\">The aim of this white paper is to discuss the observing strategies for the LSST Wide-Fast-Deep that would improve the study of blazars (emission variability, census, environment) and Fast Radio Bursts (FRBs). For blazars, these include the adoption of: i) a reference filter to allow reconstruction of a well-sampled light curve not affected by colour changes effects; ii) two snapshots/visit with different exposure times to avoid saturation during flaring states; iii) a rolling cadence to get better-sampled light curves at least in some time intervals. We also address the potential importance of Target of Opportunity (ToO) observations of blazar neutrino sources, and the advantages of a Minisurvey with a star trail cadence (see white paper by David Thomas et al.) for both the blazar science and the detection of possible very fast optical counterparts of FRBs.</td><td> </td></tr><tr><td><p style=\"text-align: left;\">Calibrating Milky Way Maps: An LSST Bright(ish) Star Survey</p></td><td><p style=\"text-align: left;\">John E. Gizis</p></td><td><p style=\"text-align: left;\"><a href=\"https://docushare.lsstcorp.org/docushare/dsweb/Get/Document-30579/gizis_brightstar_minisurvey.pdf\">Docushare</a></p></td></tr><tr><td> </td><td style=\"text-align: left;\">We propose a mini-survey aimed at extending the LSST photometric system to brighter stars that are otherside saturated in the 15s/30s images. The scientific goal is to put the use of faint stellar samples in the LSST surveys on a more secure footing by providing the actual LSST ugrizy photometry of the Gaia survey sample instead of relying on indirect calibrations and transformations from other photometric systems. The mimimal survey would be five second LSST exposure to improve the bright limit by a factor of six, but if shorter exposures are possible, we advocate for additional exposures to extend the system to even brighter stars. This mini-survey does not include time domain coverage, but instead aims at calibrating the “static sky.”</td><td> </td></tr><tr><td><p style=\"text-align: left;\">Characterizing Variable Stars in a Single Night with LSST</p></td><td><p style=\"text-align: left;\">Eric D. Feigelson, Frederica Bianco and Sara Bonito</p></td><td><p style=\"text-align: left;\"><a href=\"https://docushare.lsstcorp.org/docushare/dsweb/Get/Document-30576/feigelson_variables_mini.pdf\">Docushare</a></p></td></tr><tr><td> </td><td style=\"text-align: left;\">Stars exhibit a bewildering variety of variable behaviors ranging from explosive magnetic flares to stochastically changing accretion to periodic pulsations or rotations. The principal LSST surveys will have cadences too sparse and irregular to capture most of these phenomena. A novel idea is proposed here to observe a single Galactic field, rich in unobscured stars, in a continuous sequence of ∼ 15 second exposures for one long winter night in a single photometric band. The result will be a unique dataset of ∼ 1 million regularly spaced stellar lightcurves. The lightcurves will gives a particularly comprehensive collection of dM star variability. A powerful array of statistical procedures can be applied to the ensemble of lightcurves from the longstanding fields of time series analysis, signal processing and econometrics. Dozens of ‘features’ describing the variability can be extracted and subject to machine learning classification, giving a unique authoritative objective classification of rapidly variable stars. The most effective features can then inform the wider LSST community on the best approaches to variable star identification and classification from the sparse, irregular cadences that dominate the LSST project.</td><td> </td></tr><tr><td><p style=\"text-align: left;\">Continuous Cadence Acquisition of the LSST Deep Drilling Fields</p></td><td><p style=\"text-align: left;\">Keaton J. Bell and J. J. Hermes</p></td><td><p style=\"text-align: left;\"><a href=\"https://docushare.lsstcorp.org/docushare/dsweb/Get/Document-30583/bell_cadence_dd.pdf\">Docushare</a></p></td></tr><tr><td> </td><td style=\"text-align: left;\">To extend LSST’s coverage of the transient and variable sky down to minute timescales, we propose that observations of the Deep Drilling Fields are acquired in sequences of continuous exposures each lasting 2–4 hours. This will allow LSST to resolve rapid stellar variability such as short-period pulsations, exoplanet transits, ultracompact binary systems, and flare morphologies, while still achieving the desired co-added depths for the selected fields. The greater number of observations of each Deep Drilling Field pushes these mini-surveys deep in terms of both sensitivity to lowamplitude variability and co-added depth. Saving the individual 15-second exposures will yield an effective Nyquist limit of ≈ 0.031 Hz (32 seconds). Resolved short-period variability of targets in these fields will aid the interpretation of more sparse observations of a greater number of variables in the main survey. If this cadence strategy conflicts with the science goals of individual Deep Drilling Fields, at least a subset of the additional observations of each field should be obtained continuously. This strategy should also be considered for the proposed Galactic Plane mini survey, which will observe a greater number of stellar variables and transients.</td><td> </td></tr><tr><td><p style=\"text-align: left;\">Deep Drilling Fields for Solar System Science</p></td><td><p style=\"text-align: left;\">David E. Trilling, Michele Bannister, Cesar Fuentes, David Gerdes, Michael Mommert, Megan E. Schwamb, Chad Trujillo</p></td><td><p style=\"text-align: left;\"><a href=\"https://docushare.lsstcorp.org/docushare/dsweb/Get/Document-30500/trilling_solarsystem_dd.pdf\">Docushare</a></p></td></tr><tr><td> </td><td style=\"text-align: left;\">We propose an ecliptic Deep Drilling Field that will discover some 10,000 small and faint Kuiper Belt Objects (KBOs) — primitive rocky/icy bodies that orbit at the outside of our Solar System and uniquely record the processes of planetary system formation and evolution. The primary goals are to measure the KBO size and shape distributions down to 25 km, a size that probes both the early and ongoing evolution of this population. These goals can be met with around 10 hours total of on-sky time (five separate fields that are observed for 2.1 hours each). Additional science will result from downstream observations that provide colors and orbit refinement, for a total time request of 40 hours over the ten year LSST main survey.</td><td> </td></tr><tr><td><p style=\"text-align: left;\">Discovery of Strongly-lensed Gravitational Waves –Implications for the LSST Observing Strategy</p></td><td><p style=\"text-align: left;\">Graham P. Smith, Andrew Robertson, Matteo Bianconi, and Mathilde Jauzac on behalf of the Strong Lensing Science Collaboration and the Gravitationally Lensed Gravitational Wave Hunters</p></td><td><p style=\"text-align: left;\"><a href=\"https://docushare.lsstcorp.org/docushare/dsweb/Get/Document-30578/smith_stronglens_too.pdf\">Docushare</a></p></td></tr><tr><td> </td><td style=\"text-align: left;\">LSST’s wide-field of view and sensitivity will revolutionize studies of the transient sky by finding extraordinary numbers of new transients every night. The recent discovery of a kilonova counterpart to LIGO/Virgo’s first detection of gravitational waves (GWs) from a double neutron star (NS-NS) merger also creates an exciting opportunity for LSST to offer a Target of Opportunity (ToO) mode of observing. We have been exploring the possibility of detecting strongly lensed GWs, that would enable new tests of GR, extend multi-messenger astronomy out to z &amp; 1, and deliver a new class of sub-millisecond precision time-delay constraints on lens mass distributions. We forecast that the rate of detection of lensed NS-NS mergers in the 2020s will be ∼ 0.1 per Earth year, that the typical source will be at z ' 2, and that the multiply-imaged kilonova counterpart will have a magnitude of AB ' 25.4 in g/r/i-band filters – i.e. fainter than the sensitivity of a single LSST WFD visit. We therefore advocate (1) creating a flexible and efficient Target of Opportunity programme within the LSST observing strategy that is capable of discovering sources fainter than single-visit depth, and (2) surveying the entire observable extragalactic sky as rapidly as possible in the WFD survey. The latter will enable a very broad range of early science that relies on wide survey area for detection of large samples of objects and/or maximizing the fraction of sky over which reference imaging is available. For example, it will enable prompt discovery of a uniform and all-sky sample of galaxy/group/cluster-scale lenses that will underpin LSST strong-lensing science. This white paper complements submissions from DESC, SLSC, and TVSSC, that discuss kilonova, GW, and strong lensing.</td><td> </td></tr><tr><td><p style=\"text-align: left;\">Enabling Cosmological Synergies between the LSST and WFIRST High Latitude Survey</p></td><td><p style=\"text-align: left;\"> Olivier Dor´e, Tim Eifler, Shoubaneh Hemmati, Chris Hirata, Mike Jarvis, Elisabeth Krause, Rachel Mandelbaum, Michael Troxel and the Cosmology with the WFIRST High Latitude Survey Science Investigation Team</p></td><td><p style=\"text-align: left;\"><a href=\"https://docushare.lsstcorp.org/docushare/dsweb/Get/Document-30588/hirata_wfirst_wfd.pdf\">Docushare</a></p></td></tr><tr><td> </td><td style=\"text-align: left;\">The High-Latitude Survey (HLS) will implement in a joint observing program two of the three dark energy probes that are defining objectives of the Wide-Field Infrared Survey Telescope (WFIRST). In its current design, the HLS imaging survey (4 filters spanning 0.93–2.00 µm) will measure accurate galaxy shapes for weak lensing while the HLS spectroscopic survey will measure galaxy redshifts using emission lines redshifted to &gt; 1 µm. Both programs take advantage of WFIRST’s wide field of view, its extreme optical stability, and the low NIR sky background available in space. Considering only the cosmological science enabled by the HLS, we discuss the remarkable science impact of the WFIRST HLS and LSST combination. It goes well beyond the science enabled by any of the data sets alone. In particular, this combination will be critical for photometric redshifts (object by object or in cross-correlation), source deblending, galaxy shape measument validation, and modeling in the nonlinear regime. The key requirement is for the LSST WFD to overlap with the WFIRST HLS and observe in at least ugriz. The needs from the WFIRST side are met by what the LSST WFD survey is currently planning to do. We are documenting it here primarily to ensure retention of the features that enable these powerful WFIRST HLS+LSST scientific synergies as the LSST observing strategy is adjusted.</td><td> </td></tr><tr><td><p style=\"text-align: left;\">Enabling Deep All-Sky Searches of Outer Solar System Objects</p></td><td><p style=\"text-align: left;\">Mario Juri ́c, R. Lynne Jones, J. Bryce Kalmbach, Peter Whidden, Dino Bekteˇsevi ́c, Hayden Smotherman, Joachim Moeyens, Andrew J. Connolly, Wesley Fraser, David Gerdes, Megan E. Schwamb, David Trilling, and Michael Mommert</p></td><td><p style=\"text-align: left;\"><a href=\"https://docushare.lsstcorp.org/docushare/dsweb/Get/Document-30600/juric_shiftstack_wfd.pdf\">Docushare</a></p></td></tr><tr><td> </td><td style=\"text-align: left;\">A foundational goal of the Large Synoptic Survey Telescope (LSST) is to map the Solar System small body populations that provide key windows into understanding of its formation and evolution (Ivezi´c et al., 2008; LSST Science Collaboration et al., 2009). This is especially true of the populations of the Outer Solar System – objects at the orbit of Neptune r &gt; 30 AU and beyond. In this whitepaper, we propose a minimal change to the LSST cadence that can greatly enhance LSST’s ability to discover faint distant Solar System objects across the entire wide-fast-deep (WFD) survey area. Specifically, we propose that the WFD cadence be constrained so as to deliver least one sequence of &amp; 10 visits per year taken in a ∼ 10 day period in any combination of g, r, and i bands. Combined with advanced shift-and-stack algorithms (e.g. Whidden et al., 2018) this modification would enable a nearly complete census of the outer Solar System to ∼ 25.5 magnitude, yielding 4 − 8x more KBO discoveries than with single-epoch baseline, and enabling rapid identification and follow-up of unusual distant Solar System objects in &amp; 5x greater volume of space. These increases would enhance the science cases discussed in Schwamb et al. 2018 whitepaper, including probing Neptune’s past migration history as well as discovering hypothesized planet(s) beyond the orbit of Neptune (or at least placing significant constraints on their existence).</td><td> </td></tr><tr><td><p style=\"text-align: left;\">Enhancing LSST Science with Euclid Synergy</p></td><td><p style=\"text-align: left;\">P. Capak, J-C. Cuillandre, F. Bernardeau, F. Castander, R. Bowler, C. Chang, C. Grillmair, P. Gris, T. Eiffler, C. Hirata, I. Hook, B. Jain, K. Kuijken, M. Lochner, P. Oesch, S. Paltani, J. Rhodes, B. Robertson, D. Rubin, R. Scaramella, C. Scarlata, D. Scolnic, J. Silverman, S. Wachter, Y. Wang, The Tri-Agency Working Group</p></td><td><p style=\"text-align: left;\"><a href=\"https://docushare.lsstcorp.org/docushare/dsweb/Get/Document-30593/capak_euclid_mini.pdf\">Docushare</a></p></td></tr><tr><td> </td><td style=\"text-align: left;\">This white paper is the result of the Tri-Agency Working Group (TAG) appointed to develop synergies between missions and is intended to clarify what LSST observations are needed in order to maximally enhance the combined science output of LSST and Euclid. To facilitate LSST planning we provide a range of possible LSST surveys with clear metrics based on the improvement in the Dark Energy figure of merit (FOM). To provide a quantifiable metric we present five survey options using only between 0.3 and 3.8% of the LSST 10 year survey. We also provide information so that the LSST DDF cadence can possibly be matched to those of Euclid in common deep fields, SXDS, COSMOS, CDFS, and a proposed new LSST deep field (near the Akari Deep Field South). Co-coordination of observations from the Large Synoptic Survey Telescope (LSST) and Euclid will lead to a significant number of synergies. The combination of optical multi-band imaging from LSST with high resolution optical and near-infrared photometry and spectroscopy from Euclid will not only improve constraints on Dark Energy, but provide a wealth of science on the Milky Way, local group, local large scale structure, and even on first galaxies during the epoch of reionization. A detailed paper has been published on the Dark Energy science case [1] by a joint LSST/Euclid working group as well as a white paper describing LSST/Euclid/WFIRST synergies [2], and we will briefly describe other science cases here. A companion white paper argues the general science case for an extension of the LSST footprint to the north at airmass &lt; 1.8, and we support the white papers for southern extensions of the LSST survey. We also endorse the white papers from the LSST Dark Energy Science Collaboration (DESC) arguing for modifications to the Wide Fast Deep (WFD) and Deep Drilling Field (DDF) surveys, the Big Sky white paper, and the white paper from the WFIRST team arguing for a deep field on the Akari Deep Field South.</td><td> </td></tr><tr><td><p style=\"text-align: left;\">Investigating the population of Galactic star formation regions and star clusters within a Wide-Fast-Deep Coverage of the Galactic Plane</p></td><td><p style=\"text-align: left;\">Loredana Prisinzan and Laura Magrini</p></td><td><p style=\"text-align: left;\"><a href=\"https://docushare.lsstcorp.org/docushare/dsweb/Get/Document-30483/prisinzano_starformation_gp.pdf\">Docushare</a></p></td></tr><tr><td> </td><td style=\"text-align: left;\">One of the aims of LSST is to perform a systematic survey of star clusters and star forming regions (SFRs) in our Galaxy. In particular, the observations obtained with LSST will make a big difference in Galactic regions that have been poorly studied in the past, such as the anticenter and the disk beyond the Galactic center, and they will have a strong impact in discovering new distant SFRs. These results can be achieved by exploiting the exquisite depth that will be attained if the wide-fast-deep (WFD) observing strategy of the main survey is also adopted for the Galactic plane, in the g, r, and i filters. </td><td> </td></tr><tr><td><p style=\"text-align: left;\">Large Synoptic Survey Telescope White Paper; The Case for Matching U-band on Deep Drilling Fields</p></td><td><p style=\"text-align: left;\">B.W. Holwerda (University of Louisville), A. Baker (Rutgers University), S. Blyth (University of Cape Town), S. Kannappan (University of North Carolina), D. Obreschkov (ICRAR), S. Ravindranath (STSCI), E. Elson (University of Western Cape), M. Vaccari (University of Western Cape), S. Crawford (STSCI), M. Bershady (University of Wisconsin-Madison), N. Hathi (STSCI), N. Maddox (Ludwig Maximilians University Munich), Russ Taylor (University of Cape Town), Matt Jarvis (University of Oxford), Joanna Bridge (University of Louisville)</p></td><td><p style=\"text-align: left;\"><a href=\"https://docushare.lsstcorp.org/docushare/dsweb/Get/Document-30586/holwerda_uband_dd.pdf\">Docushare</a></p></td></tr><tr><td> </td><td style=\"text-align: left;\">U-band observations with the LSST have yet to be fully optimized in cadence. The straw man survey design is a simple coverage of the medium-deep-fast survey. Here we argue that deep coverage of the four deep drilling fields (XMM-LSS, ECDFS, ELAIS-S1 and COSMOS) has a much higher scientific return, given that these are also the target of the Southern Hemisphere’s Square Kilometer Array Pathfinder, the MeerKAT specifically, deep radio observations.</td><td> </td></tr><tr><td><p style=\"text-align: left;\">Leveraging Differential Chromatic Refraction in LSST</p></td><td><p style=\"text-align: left;\">Gordon Richards (Drexel), Christina Peters (Toronto), Bee Martin (Drexel), J. Bryce Kalmbach(UW), John Parejko (UW), Ian Sullivan (UW), Franz E. Bauer (PUC/SSI)</p></td><td><p style=\"text-align: left;\"><a href=\"https://docushare.lsstcorp.org/docushare/dsweb/Get/Document-30573/richard_dcr_wfd.pdf\">Docushare</a></p></td></tr><tr><td> </td><td style=\"text-align: left;\">Our goal is to increase the accuracy of photometric reshifts (and object classification) in LSST by suggesting cadence changes that will increase the amplitude of the effect of differential chromatic refraction (DCR). This improvement could be realized by either extending the observing season or through a dedicated twilight campaign. We provide a metric for determining the expected photo-z improvement for quasars for different opSims.</td><td> </td></tr><tr><td><p style=\"text-align: left;\">LSST Cadence Optimization White Paper in Support of Observations of Unresolved Tidal Stellar Streams in Galaxies beyond the Local Group</p></td><td><p style=\"text-align: left;\">Seppo Laine, David Martınez-Delgado2, Ignacio Trujillo, Pierre–Alain Duc, Carl J. Grillmair, Carlos S. Frenk, David Hendel, Kathryn V. Johnston, J.Chris Mihos, John Moustakas, Rachael L. Beaton, Aaron J.Romanowsky, Johnny Greco, and Denis Erkal</p></td><td><p style=\"text-align: left;\"><a href=\"https://docushare.lsstcorp.org/docushare/dsweb/Get/Document-30590/laine_lsb_streams_wfd.pdf\">Docushare</a></p></td></tr><tr><td> </td><td style=\"text-align: left;\">Deep observations of faint surface brightness stellar tidal streams in external galaxies with LSST are addressed in this White Paper contribution. We propose using the Wide–Fast–Deep survey that contains several nearby galaxies (at distances where the stars themselves are not resolved, i.e., beyond 20 Mpc). In the context of hierarchical 1 galaxy formation, it is necessary to understand the prevalence and properties of tidal substructure around external galaxies based on integrated (i.e., unresolved) diffuse light. This requires collecting observations on much larger samples of galaxies than the Milky Way and M31. We will compare the observed structures to the predictions of cosmological models of galactic halo formation that inform us about the number and properties of streams around Milky Way-like galaxies. The insight gained from these comparisons will allow us to infer the properties of stream progenitors (masses, dynamics, metallicities, stellar populations). The changes in the host galaxies caused by the interactions with the dissolving companion galaxies will be another focus of our studies. We conclude by discussing synergies with WFIRST and Euclid, and also provide concrete suggestions for how the effects of scattered light could be minimized in LSST images to optimize the search for low surface brightness features, such as faint unresolved stellar tidal streams.</td><td> </td></tr><tr><td><p style=\"text-align: left;\">LSST Local Volume mini-survey</p></td><td><p style=\"text-align: left;\">Eric F. Bell, Michael Boylan-Kolchin, Jeffrey L. Carlin, Denija Crnojevi´c, Roelof S. de Jong, Richard D’Souza, Henry C. Ferguson, Nitya Kallivayalil, Sergey Koposov, Ting Li, Kristen B. W. McQuinn, Antonela Monachesi, Annika Peter, R. Michael Rich, Ian U. Roederer, Laura Sales, Colin T. Slater, Adam Smercina, Elisa Toloba, Monica Valluri, Benjamin Williams</p></td><td><p style=\"text-align: left;\"><a href=\"https://docushare.lsstcorp.org/docushare/dsweb/Get/Document-30599/bell_localvolume_mini.pdf\">Docushare</a></p></td></tr><tr><td> </td><td style=\"text-align: left;\">LSST aims to allow major advancements in our understanding of dark matter on sub-galactic scales, its impact on galaxies and how it relates to dwarf galaxies. LSST will reveal many Local Group satellites and tidal streams and aims to inspire progress in understanding these issues in the Milky Way and Local Group. Yet, it has become clear in the last few years that there are dramatic galaxy-to-galaxy variations in terms of satellite populations and past mergers (as quantified by stellar halos). Given these variations, it is unclear what features of the Local Group reflect galaxy formation processes and dark matter, and which are accidents of accretion history. A census of satellites, halos and faint tidal features for a sizeable sample of galaxies, with a range of halo masses and accretion histories, and as deep as our current census for M31, is required to answer this question. While LSST’s r and i-bands will resolve RGB stars in the halos and satellites of D &lt; 6 Mpc galaxies, LSST’s g-band WFD dataset will be shallower than all current resolved star surveys on 8-meter class telescopes, and will not provide the necessary star-galaxy separation and stellar population information that allows the community to capitalize on LSST’s investment. We propose a ∼ 87 hour mini-survey targeting the environs of ten nearby M∗ &gt; 2 × 109M galaxies to increase the depth in the g-band to match that of the r and i-bands for resolved stellar populations. This will reveal the 25-100 MV &lt; −6 satellites, new dwarf ultra-diffuse galaxies and faint tidal features that are required to connect our learning about dark matter and dwarf galaxies in the Local Group to the wider galaxy population.</td><td> </td></tr><tr><td><p style=\"text-align: left;\">LSST Observations of WFIRST Deep Fields</p></td><td><p style=\"text-align: left;\">The WFIRST Deep Field Working Group, WFIRST Science Investigation Team Members, and Community Members: R. J. Foley, A. M. Koekemoer, D. N. Spergel, F. B. Bianco, P. Capak, L. Dai, O. Dor ́e, G. G. Fazio, H. Ferguson, A. V. Filippenko, B. Frye, L. Galbany, E. Gawiser, C. Gronwall, N. P. Hathi, C. Hirata, R. Hounsell, S. W. Jha, A. G. Kim, P. L. Kelly, J. W. Kruk, S. Malhotra, K. S. Mandel, R. Margutti, D. Marrone, K. B. W. McQuinn, P. Melchior, L. Moustakas, J. A. Newman, J. E. G. Peek, S. Perlmutter, J. D. Rhodes, B. Robertson, D. Rubin, D. Scolnic, R. Somerville, R. Street, Y. Wang, D. J. Whalen, R. A. Windhorst, E. J. Wollack</p></td><td><p style=\"text-align: left;\"><a href=\"https://docushare.lsstcorp.org/docushare/dsweb/Get/Document-30587/foley_wfirst_mini.pdf\">Docushare</a></p></td></tr><tr><td> </td><td style=\"text-align: left;\">The Wide-Field Infrared Survey Telescope (WFIRST) is expected to launch in the mid-2020s. With its wide-field near-infrared (NIR) camera, it will survey the sky to unprecedented detail. As part of normal operations and as the result of multiple expected dedicated surveys, WFIRST will produce several relatively wide-field (tens of square degrees) deep (limiting magnitude of 28 or fainter) fields. In particular, a planned supernova survey is expected to image 3 deep fields in the LSST footprint roughly every 5 days over 2 years. Stacking all data, this survey will produce, over all WFIRST supernova fields in the LSST footprint, ∼12–25 deg2 and ∼5–15 deg2 regions to depths of ∼28 mag and ∼29 mag, respectively. We suggest LSST undertake mini-surveys that will match the WFIRST cadence and simultaneously observe the supernova survey fields during the 2-year WFIRST supernova survey, achieving a stacked depth similar to that of the WFIRST data. We also suggest additional observations of these same regions throughout the LSST survey to get deep images earlier, have long-term monitoring in the fields, and produce deeper images overall. These fields will provide a legacy for cosmology, extragalactic, and transient/variable science.</td><td> </td></tr><tr><td><p style=\"text-align: left;\">LSST Target of Opportunity proposal for locating a core collapse supernova in our galaxy triggered by a neutrino supernova alert</p></td><td><p style=\"text-align: left;\">C.W. Walter, D. Scolnic, A. Slosar</p></td><td><p style=\"text-align: left;\"><a href=\"https://arxiv.org/pdf/1901.01599\">arXiv</a></p></td></tr><tr><td> </td><td style=\"text-align: left;\">A few times a century, a core collapse supernova (CCSN) occurs in our galaxy. When such galactic CCSNe happen, over 99% of its gravitational binding energy is released in the form of neutrinos. Over a period of tens of seconds, a powerful neutrino flux is emitted from the collapsing star. When the exploding shock wave finally reaches the surface of the star, optical photons escaping the expanding stellar envelope leave the star and eventually arrive at Earth as a visible brightening. By combining the multi-messenger signal from optical, neutrino, and gravitational waves, we afford an unprecedented opportunity to learn about the astrophysics of these rare objects. Carefully measuring the optical light curve of the explosion will give critical information about the size and composition of the progenitor star and help understand the dynamics of the explosion. Crucially, although the neutrino signal is prompt, the time to the shock wave breakout can be minutes to many hours later. This means that the neutrino signal will serve as an alert, warning the optical astronomy community the light from the explosion is coming. Quickly identifying the location of the supernova on the sky and disseminating it to the all available ground and spaced-based instruments will be critical to learn as much as possible about the event. Some neutrino experiments can report pointing information for these galactic CCSNe. In particular, the Super-Kamiokande experiment can point to a few degrees for CCSNe near the center of our galaxy. A CCSN located 10 kpc from Earth is expected to result in a pointing resolution of the order of 3◦ . LSST’s field of view (FOV) is well matched to this initial search box. LSSTs depth is also uniquely suited for identifying CCSNe even if they fail or are obscured by the dust of the galactic plane. This is a proposal to, upon receipt of such an alert, prioritize the use of LSST for a full day of observing to continuously monitor a pre-identified region of sky and, by using difference imaging, identify and announce the location of the supernova. In this proposal, we propose to use one night (approximately 0.03% of the survey period) if a galactic supernova occurs. Based on estimates of the rate of such CCSNe there is approximately a 20% chance that a CCSN will occur during the survey period.</td><td> </td></tr><tr><td><p style=\"text-align: left;\">Mapping the Periphery and Variability of the Magellanic Clouds</p></td><td><p style=\"text-align: left;\">Knut Olsen, Paula Szkody, Maria-Rosa Cioni, Marcella Di Criscienzo, Ilaria Musella, Vincenzo Ripepi, Francesco Borsa, Marcella Marconi, L ́eo Girardi, Giada Pastorelli, Michele Trabucchi, Paolo Ventura, Marc Moniiez</p></td><td><p style=\"text-align: left;\"><a href=\"https://docushare.lsstcorp.org/docushare/dsweb/Get/Document-30645/olsen_mc_mini.pdf\">Docushare</a></p></td></tr><tr><td> </td><td style=\"text-align: left;\">We propose a combination of a modified Wide-Fast-Deep survey, a mini-survey of the South Celestial Pole, and a Deep Drilling-style survey to produce a 3-D map of the Magellanic System and to provide a detailed census of the transient and variable populations in the Clouds. We support modifying the Wide-Fast-Deep survey to cover the declination range −72.25 deg &lt; Dec &lt; 12.4 deg and the Galactic latitude range |b| &gt; 15 deg, as proposed in a separate white paper. We additionally propose a minisurvey covering the 950deg2 with Dec &lt; −72.25 in ugriz to the standard LSST singleexposure depth and with 40 visits per filter per field. Finally, we propose a mini-survey covering ∼ 100 deg2 of the main bodies of the Clouds with twelve total pointings, 2000 total visits per field, and shorter exposure time.</td><td> </td></tr><tr><td><p style=\"text-align: left;\">Maximizing the Joint Science Return of LSST and DESI</p></td><td><p style=\"text-align: left;\">Adam S. Bolton, Daniel J. Eisenstein, Knut Olsen, Segev BenZvi, Tim Eifler, Satya Gontcho A Gontcho, Or Graur, Alex G. Kim, Elisabeth Krause, Ofer Lahav, Alexie Leauthaud, Patrick McDonald, John Moustakas, Eva-Maria Mueller, Jeffrey A. Newman, David J. Schlegel, Risa H. Wechsler, Martin White, and Michael J. Wilson</p></td><td><p style=\"text-align: left;\"><a href=\"https://docushare.lsstcorp.org/docushare/dsweb/Get/Document-30603/bolton_desi_overlap_mini.pdf\">Docushare</a></p></td></tr><tr><td> </td><td style=\"text-align: left;\">LSST will deliver the forefront optical astronomy imaging survey of the next decade, providing new insights into our Solar System, the Milky Way Galaxy, the dark Universe, and the transient and variable sky. Many additional astrophysical applications of LSST will rely on the availability of comparably ambitious survey spectroscopy of the LSST fields. In this white paper, we highlight the near-term opportunity for imaging+spectroscopic synergy between LSST and the Dark Energy Spectroscopic Instrument (DESI), and advocate in favor of a proposed LSST footprint that would maximize the science return from this combination of facilities.</td><td> </td></tr><tr><td><p style=\"text-align: left;\">Mini-survey of the northern sky to Dec &lt; +30</p></td><td><p style=\"text-align: left;\">P. Capak, D. Sconlic, J-C. Cuillandre, F. Castander, A. Bolton, R. Bowler, C. Chang, A. Dey, T. Eiffler, D. Eisenstein, C. Grillmair, P. Gris, N. Hernitschek, I. Hook, C. Hirata, B. Jain K. Kuijken, M. Lochner, J. Newman, P. Oesch, K. Olsen, J. Rhodes, B. Robertson, D. Rubin, C. Scarlata, J. Silverman, S. Wachter, Y. Wang, The Tri-Agency Working Group</p></td><td><p style=\"text-align: left;\"><a href=\"https://docushare.lsstcorp.org/docushare/dsweb/Get/Document-30592/capak_north_mini.pdf\">Docushare</a></p></td></tr><tr><td> </td><td style=\"text-align: left;\">We propose an extension of the LSST survey to cover the northern sky to DEC &lt; +30 (accessible at airmass &lt; 1.8). This survey will increase the LSST sky coverage by ∼ 9, 600 square degrees from 18,900 to 28,500 square degrees (a 50% increase) but use only 0.6 − 2.5% of the time depending on the synergies with other surveys. This increased area addresses a wide range of science cases that enhance all of the primary LSST science goals by significant amounts. The science enabled includes: increasing the area of the sky accessible for follow-up of multi-messenger transients including gravitational waves, mapping the milky way halo and halo dwarfs including discovery of RR Lyrae stars in the outer galactic halo, discovery of z &gt; 7 quasars in combination with Euclid, enabling a second generation DESI and other spectroscopic surveys, and enhancing all areas of science by improving synergies with Euclid, WFIRST, and unique northern survey facilities. This white paper is the result of the Tri-Agency Working Group (TAG) appointed to develop synergies between missions and presents a unified plan for northern coverage. The range of time estimates reflects synergies with other surveys. If the modified DESC WFD survey, the ecliptic plane mini survey, and the north galactic spur mini survey are executed this plan would only need 0.6% of the LSST time, however if none of these are included the overall request is 2.5% of the 10 year survey life. In other words, the majority of these observations are already suggested as part of these other surveys and the intent of this white paper is to propose a unified baseline plan to carry out a broad range of objectives to facilitate a combination of multiple science objectives. A companion white paper gives Euclid specific science goals, and we support the white papers for southern extensions of the LSST survey. We also endorse the white papers from the LSST Dark Energy Science Collaboration (DESC) arguing for modifications to the Wide Fast Deep (WFD), and the Big Sky white paper.</td><td> </td></tr><tr><td><p style=\"text-align: left;\">Optimizing the LSST Observing Strategy for Dark Energy Science:  DESC Recommendations for the Deep Drilling Fields and other Special Programs</p></td><td><p style=\"text-align: left;\">Daniel M. Scolnic,  Michelle Lochner,  Phillipe   Gris, Nicolas Regnault, Ren ́ee Hloˇzek, Greg Aldering, Tarek Allam Jr, Humna Awan, Rahul Biswas, Jonathan  Blazek,  Chihway  Chang,  Eric  Gawiser,  Ariel  Goobar,  Iso-bel  M.  Hook,  Saurabh  W.  Jha,  Jason  D.  McEwen9,  Rachel  Mandelbaum, Phil Marshall, Eric Neilsen, Jason Rhodes, Daniel Rothchild, Ignacio Sevilla-Noarbe, Anˇze Slosar, Peter Yoachim</p></td><td><p style=\"text-align: left;\"><a href=\"https://docushare.lsstcorp.org/docushare/dsweb/Get/Document-30501/desc_dd.pdf\">Docushare</a></p></td></tr><tr><td> </td><td style=\"text-align: left;\">We review the measurements of dark energy enabled by observations of the Deep Drilling Fields (DDFs) and the optimization of survey design for cosmological measurements. This white paper is the result of efforts by the LSST DESC Observing Strategy Task Force (OSTF), which represents the entire collaboration, and aims to make recommendations on observing strategy for the DDFs that will benefit all cosmological analyses with LSST. It is accompanied by the DESC-WFD white paper (Lochner et al.). We argue for altering the nominal deep drilling plan to have &gt; 6 month seasons, interweaving gri and zy observations every 3 days with 2, 4, 8, 25, 4 visits in grizy, respectively. These recommendations are guided by metrics optimizing constraints on dark energy and mitigation of systematic uncertainties, including specific requirements on total number of visits after Y1 and Y10 for photometric redshifts (photo-z) and weak lensing systematics. We specify the precise locations for the previously-chosen LSST deep fields (ELAIS-S1, XMM-LSS, CDF-S, and COSMOS) and recommend Akari Deep Field South as the planned fifth deep field in order to synergize with Euclid and WFIRST. Our recommended DDF strategy uses 6.2% of the LSST survey time. We briefly discuss synergy with white papers from other collaborations, as well as additional mini-surveys and Target-of-Opportunity programs that lead to better measurements of dark energy.</td><td> </td></tr><tr><td><p style=\"text-align: left;\">Optimizing the LSST Observing Strategy for Dark Energy Science: DESC Recommendations for the Wide-Fast-Deep Survey</p></td><td><p style=\"text-align: left;\">Michelle  Lochner,   Daniel  M.  Scolnic,   Humna  Awan,   Nicolas  Regnault, Philippe Gris, Rachel Mandelbaum, Eric Gawiser, Husni Almoubayyed, Christian  N.  Setzer,  Simon Huber,  Melissa  L.  Graham,  Ren'ee  Hloˇzek, Rahul    Biswas, Tim Eifler, Daniel    Rothchild, Tarek Allam Jr, Jonathan  Blazek,  Chihway Chang, Thomas Collett,  Ariel  Goobar,  Isobel M. Hook, Mike Jarvis, Saurabh W. Jha, Alex G. Kim, Phil Marshall, Jason D. McEwen, Marc Moniez, Jeffrey A. Newman, Hiranya V. Peiris, Jason Rhodes, Ignacio Sevilla-Noarbe,  Anˇze  Slosar,  Sherry  H.  Suyu, J. Anthony Tyson, Peter Yoachim</p></td><td><p style=\"text-align: left;\"><a href=\"https://docushare.lsstcorp.org/docushare/dsweb/Get/Document-30502/desc_wfd.pdf\">Docushare</a></p></td></tr><tr><td> </td><td style=\"text-align: left;\">Cosmology is one of the four science pillars of LSST, which promises to be transformative for our understanding of dark energy and dark matter. The LSST Dark Energy Science Collaboration (DESC) has been tasked with deriving constraints on cosmological parameters from LSST data. Each of the cosmological probes for LSST is heavily impacted by the choice of observing strategy. This white paper is written by the LSST DESC Observing Strategy Task Force (OSTF), which represents the entire collaboration, and aims to make recommendations on observing strategy that will benefit all cosmological analyses with LSST. It is accompanied by the DESC DDF (Deep Drilling Fields) white paper (Scolnic et al.). We use a variety of metrics to understand the effects of the observing strategy on measurements of weak lensing, large-scale structure, clusters, photometric redshifts, supernovae, strong lensing and kilonovae. In order to reduce systematic uncertainties, we conclude that the current baseline observing strategy needs to be significantly modified to result in the best possible cosmological constraints. We provide some key recommendations: moving the WFD (Wide-Fast-Deep) footprint to avoid regions of high extinction, taking visit pairs in different filters, changing the 2×15s snaps to a single exposure to improve efficiency, focusing on strategies that reduce long gaps (&gt;15 days) between observations, and prioritizing spatial uniformity at several intervals during the 10-year survey.</td><td> </td></tr><tr><td><p style=\"text-align: left;\">Presto-Color: An LSST Cadence for Explosive Physics &amp; Fast Transients</p></td><td><p style=\"text-align: left;\">Federica B. Bianco,* New York Univeristy CUSP/CCPP, University of Delaware; Melissa Graham, University of Washington; Maria R. Drout, University of Toronto, Carnegie Observatories; Igor Andreoni, Caltech; Rahul Biswas, Stockholm University; Philip Cowperthwaite, Carnegie; Gautham Narayan, STScI; Tyler A. Pritchard, NYU; Tiago Ribeiro, LSST;</p></td><td><p style=\"text-align: left;\"><a href=\"https://docushare.lsstcorp.org/docushare/dsweb/Get/Document-30610/bianco_fast_transients_wfd.pdf\">Docushare</a></p></td></tr><tr><td> </td><td style=\"text-align: left;\">We propose a cadence for the LSST survey in which three visits are obtained per night: two different filters within a short time window (e.g., g &amp; i or r &amp; z within &lt; 0.5 hours) and a repeat of one of those filters with a longer time window (e.g., &gt; 1.5 hours). We colloquially refer to this as the Presto-Color strategy (quick-color). This observing strategy delivers both the color and lightcurve evolution of transients on the same night. This will enable us to identify and characterize fast transients – or fast features of longer timescale transients – such as rapidly-declining supernovae (SNe), kilonovae (KNe), and the signatures of SN ejecta interacting with binary companion stars or circumstellar material. Such extragalactic transients are intrinsically rare, thus LSST could dramatically improve our understanding of their origin and properties. This cadence can be implemented as a Mini-Survey or as part of a Wide-Fast-Deep survey on selected portions of the extragalactic sky.</td><td> </td></tr><tr><td><p style=\"text-align: left;\">Searching for white dwarf transits with LSST</p></td><td><p style=\"text-align: left;\">Roberto Silvotti, Francesca Faedi</p></td><td><p style=\"text-align: left;\"><a href=\"https://docushare.lsstcorp.org/docushare/dsweb/Get/Document-30609/silvotti_wd_transits_snaps.pdf\">Docushare</a></p></td></tr><tr><td> </td><td style=\"text-align: left;\">What happens to the planetary systems at the end of the stellar evolution is largely unknown. To date, not a single planet has been identified orbiting a (single) white dwarf (WD). Nevertheless, in the last two decades accumulating evidence has shown that the excess of metals that we see in the atmosphere of 30-40% of so called “polluted white dwarfs” is due to asteroid tidal disruption. The ongoing tidal disruption of a planetesimal has been watched live for the first time by K2 in WD1145+017. In contrast to observations of planets transiting main-sequence (MS) stars, which provide only mean densities (from mass and radius measurements) and some insight into the composition of their atmospheres, the study of debris-polluted WDs has already revealed that the bulk compositions of exo-planetary bodies resembles those found in the solar system, including evidence for water-rich planetesimals. The fact that Kepler/K2, observing in total about 500 white dwarfs, has found only one case of (irregular) transits tells us that WD transits are rare. TESS and PLATO, targeting bright stars, will not improve the situation much observing about 1000 and a few thousands WDs at maximum, respectively. Much larger statistics can be obtained only with LSST, allowing – for the 1st time – to study WD transits and start understanding what happens to &gt;95% of planetary systems (all those with a MS stellar mass below 8-10 M), when the host star evolves beyond the red giant phase, until it becomes a white dwarf.</td><td> </td></tr><tr><td><p style=\"text-align: left;\">Simultaneous LSST and Euclid observations –advantages for Solar System Objects</p></td><td><p style=\"text-align: left;\">C. Snodgrass, B. Carry, J. Berthier, S. Eggl, M. Mommert,J.-M. Petit, F. Spoto, M. Granvik, R. Laureijs, B. Altieri, R. Vavrek, L. Conversi, A. Nucita, M. Popescu, G. Verdoes Kleijn, M. Kidger, G. H. Jones, D. Oszkiewicz, M. Juric, L. Jones for the Euclid Solar System Object Science Working Group (SSO SWG)</p></td><td><p style=\"text-align: left;\"><a href=\"https://docushare.lsstcorp.org/docushare/dsweb/Get/Document-30504/snodgrass_euclid_sso_wfd.pdf\">Docushare</a></p></td></tr><tr><td> </td><td style=\"text-align: left;\">The ESA Euclid mission is a space telescope that will survey ∼15,000 square degrees of the sky, primarily to study the distant universe (constraining cosmological parameters through the lensing of galaxies). It is also expected to observe ∼150,000 Solar System Objects (SSOs), primarily in poorly understood high inclination populations, as it will mostly avoid ±15◦ from the ecliptic plane. With a launch date of 2022 and a 6 year survey, Euclid and LSST will operate at the same time, and have complementary capabilities. We propose a LSST mini-survey to coordinate quasi-simultaneous observations between these two powerful observatories, when possible, with the primary aim of greatly improving the orbits of SSOs discovered by these facilities. As Euclid will operate from a halo orbit around the Sun-Earth L2 Lagrangian point, there will be significant parallax between observations from Earth and Euclid (0.01 AU). This means that simultaneous observations will give an independent distance measurement to SSOs, giving additional constraints on orbits compared to single Euclid visits.</td><td> </td></tr><tr><td><p style=\"text-align: left;\">Strong Lensing considerations for the LSST observing strategy</p></td><td><p style=\"text-align: left;\">Aprajita Verma, Thomas Collett, Graham P. Smith, on behalf of the Strong Lensing Science Collaboration and in collaboration with the DESC Strong Lensing Science Working Group</p></td><td><p style=\"text-align: left;\"><a href=\"https://docushare.lsstcorp.org/docushare/dsweb/Get/Document-30577/verma_stronglens_wfd.pdf\">Docushare</a></p></td></tr><tr><td> </td><td style=\"text-align: left;\">Strong gravitational lensing enables a wide range of science: probing cosmography; testing dark matter models; understanding galaxy evolution; and magnifying the faint, small and distant Universe. However to date exploiting strong lensing as a tool for these numerous cosmological and astrophysical applications has been severely hampered by limited sample sized. LSST will drive studies of strongly lensed galaxies, galaxy groups and galaxy clusters into the statistical age. Time variable lensing events, e.g. measuring cosmological time delays from strongly lensed supernovae and quasars, place the strongest constraints on LSST’s observing strategy and have been considered in the DESC observing strategy white papers. Here we focus on aspects of “static” lens discovery that will be affected by the observing strategy. In summary, we advocate (1) ensuring comparable (sub-arcsecond) seeing in the g-band as in r &amp; i to facilitate discovery of gravitational lenses, and (2) initially surveying the entire observable extragalactic sky as rapidly as possible to enable early science spanning a broad range of static and transient interests.</td><td> </td></tr><tr><td><p style=\"text-align: left;\">Target of Opportunity Observations of Gravitational Wave Events with LSST</p></td><td><p style=\"text-align: left;\">The TVS Multiwavelength Characterization/GW Counterparts subgroup, Raffaella Margutti (chair, Northwestern), Section leaders: P. Cowperthwaite (Carnegie), Z. Doctor (UChicago), K. Mortensen (Northwestern), C. P. Pankow (Northwestern), O. Salafia (INAF), V. A. Villar (Harvard), Contributors (alphabetical order): K. Alexander (Northwestern), J. Annis (Fermilab), I. Andreoni (Caltech), A. Baldeschi (Northwestern), B. Balmaverde (UNIFI), E. Berger (Harvard), M. G. Bernardini (INAF), C. P. L. Berry (Northwestern), F. Bianco (NYU), P. K. Blanchard (Harvard), E. Brocato (INAF), M. I. Carnerero (INAF), R. Cartier (NOAO), S. B. Cenko (NASA/Goddard), R. Chornock (Ohio U), L. Chomiuk (MSU), C. M. Copperwheat (LJMU), M. W. Coughlin (Caltech), D. L. Coppejans (Northwestern), F. D’Ammando (INAF), L. Datrier (U Glasgow), P. D’Avanzo (INAF), G. Dimitriadis (UC Santa Cruz), R. J. Foley (UC Santa Cruz), W. Fong (Northwestern), O. Fox (STScl), G. Ghirlanda (INAF), D. Goldstein (Caltech), J. Grindlay (Harvard), C. Guidorzi (Ferrara), Z. Haiman (Columbia), M. Hendry (U Glasgow), D. Holz (UChicago), T. Hung (UC Santa Cruz), C. Inserra (Cardiff), V. Kalogera (Northwestern), C. D. Kilpatrick (UC Santa Cruz), G. Lamb (Leicester), T. Laskar (U Bath), A. Levan (Warwick), E. Mason (INAF), K. Maguire (Belfast), A. Melandri (INAF), D. Milisavljevic (Purdue), A. Miller (Northwestern), G. Narayan (STScl), E. Nielsen (Stanford), M. Nicholl (U Edinburgh), S. Nissanke (UvA), P. Nugent (UC Berkeley), D. Pasham (MIT), K. Paterson (Northwestern), S. Piranomonte (INAF), J. Racusin (NASA/Goddard), A. Rest (STScl, JHU), C. Righi (Insubria), D. Sand (Arizona), R. Seaman (NOAO), D. Scolnic (U Chicago), K. Siellez (UC Santa Cruz), L. Singer (NASA/Goddard), P. Szkody (U Washington), M. Smith (Southampton), D. Steeghs</p></td><td><p style=\"text-align: left;\"><a href=\"https://arxiv.org/pdf/1812.04051\">arXiv</a></p></td></tr><tr><td> </td><td style=\"text-align: left;\">The discovery of the electromagnetic counterparts to the binary neutron star merger GW170817 has opened the era of GW+EM multimessenger astronomy. Exploiting this breakthrough requires increasing samples to explore the diversity of kilonova behaviour and provide more stringent constraints on the Hubble constant, and tests of fundamental physics. LSST can play a key role in this field in the 2020s, when the gravitational wave detector network is expected to detect higher rates of merger events involving neutron stars (∼10s per year) out to distances of several hundred Mpc. Here we propose comprehensive target-of-opportunity (ToOs) strategies for follow-up of gravitational-wave sources that will make LSST the premiere machine for discovery and early characterization for neutron star mergers and other gravitational-wave sources.</td><td> </td></tr><tr><td><p style=\"text-align: left;\">TDEs with LSST</p></td><td><p style=\"text-align: left;\">Katja Bricman and Andreja Gomboc</p></td><td><p style=\"text-align: left;\"><a href=\"https://docushare.lsstcorp.org/docushare/dsweb/Get/Document-30574/bricman_tde_wfd.pdf\">Docushare</a></p></td></tr><tr><td> </td><td style=\"text-align: left;\">We investigate the prospects of observing Tidal Disruption Events (TDEs) with different LSST cadences proposed with the White paper call. We study their detection rates, the quality of their light curves and discuss which cadences sample TDEs better before or during the peak of the light curve. We suggest some constraints on the observing cadences that we believe will increase the number of reliable classifications of TDEs, in particular a WFD survey with 2 visits in different filters every night or at least every second night, observing the extra-galactic sky.</td><td> </td></tr><tr><td><p style=\"text-align: left;\">Testing of LSST AGN Selection Using Rolling Cadences</p></td><td><p style=\"text-align: left;\">Gordon Richards (Drexel), Weixiang Yu (Drexel), W.N. Brandt (Penn State), Qingling Ni (Penn State), Christina Peters (Toronto), Guang Yang (Penn State), Franz E. Bauer (PUC/SSI)</p></td><td><p style=\"text-align: left;\"><a href=\"https://docushare.lsstcorp.org/docushare/dsweb/Get/Document-30572/richards_agn_rolling_wfd.pdf\">Docushare</a></p></td></tr><tr><td> </td><td style=\"text-align: left;\">The Supernova community has expressed an interest in so-called “rolling cadences”, in order to achieve better sampling of SNe light curves. Here we explore how such rolling cadences would affect both the identification of AGNs and the science that can be derived from their resulting light curves. We present a metric that quantifies how well parameters of a particular variability model would be recovered for a given opSim cadence. We conclude that extreme rolling cadences (with few or no observations during some seasons) would be detrimental to AGN science. Less extreme rolling cadences require further investigation as the answer depends critically on both the science and the desired cadence.</td><td> </td></tr><tr><td><p style=\"text-align: left;\">The Definitive Map of the Galactic bulge</p></td><td><p style=\"text-align: left;\">Oscar A. Gonzalez, Will Clarkson, Victor P. Debattista, Christian I. Johnson, R. Michael Rich, Giuseppe Bono, Massimo Dall’Ora, John Gizis, Nitya Kallivayalil, Daisuke Kawata, Phil Lucas, Dante Minniti, Ricardo Schiavon, Jay Strader, Rachel Street, Elena Valenti, &amp; Manuela Zoccali</p></td><td><p style=\"text-align: left;\"><a href=\"https://docushare.lsstcorp.org/docushare/dsweb/Get/Document-30589/gonzalez_stellarpops_gp.pdf\">Docushare</a></p></td></tr><tr><td> </td><td style=\"text-align: left;\">We recommend configuring the LSST coverage of the inner Galactic plane to allow the production of the definitive age/metallicity map of the Galactic bulge from LSST data, matched to external surveys where appropriate. This will allow the formation history of the Galactic bulge to be reconstructed, as well as furnishing a huge legacy dataset to support one of the key LSST science goals (Mapping the Milky Way). We recommend precise multi-color grizy photometry as deeply as spatial crowding will allow (ideally completing early in the project), complemented by a single-filter survey spread over the entire 10-year time baseline. Both strands should cover as broad an area within the Bulge as possible, with image quality sufficient to reach at least the bulge main sequence turn-off in seeing-limited observations. We specify metrics and a figure of merit by which candidate observing strategies could be evaluated with respect to “static” bulge science (proper motions and photometry).</td><td> </td></tr><tr><td><p style=\"text-align: left;\">The Effects of Filter Choice on Outer Solar System Science with LSST</p></td><td><p style=\"text-align: left;\">Kathryn Volk, Megan E. Schwamb, Wes Fraser, Michael S. P. Kelley, Hsing Wen (Edward) Lin, Darin Ragozzine, R. Lynne Jones, Colin Snodgrass, Michele T. Bannister</p></td><td><p style=\"text-align: left;\"><a href=\"https://docushare.lsstcorp.org/docushare/dsweb/Get/Document-30594/volk_filter_pairs_wfd.pdf\">Docushare</a></p></td></tr><tr><td> </td><td style=\"text-align: left;\">Making an inventory of the Solar System is one of the four pillars that the requirements for the Large Synoptic Survey Telescope (LSST) are built upon. The choice between same-filter nightly pairs or different-filter nightly pairs in the Wide-Fast-Deep (WFD) Survey will have a dramatic effect on the ability of the Moving Object Pipeline System (MOPS) to detect certain classes of Solar System objects; many of the possible filter pairings would result in significant (∼ 50% or more) loss of Solar System object detections. In particular, outer Solar System populations can be significantly redder than those in the inner Solar System, and nightly pairs in r-band will result in the deepest survey for the outer Solar System. To maximize the potential for outer Solar System science, we thus advocate for ensuring that the WFD survey contains a sufficient number of r-r nightly pairs for each field during a discovery season to ensure detection and linking using MOPS. We also advocate for adding additional spectral energy distributions (SEDs) that more accurately model outer Solar System populations to the pipeline for evaluating the outputs of the LSST operations simulator. This will enable a better estimate of how many Solar System population detections are lost or gained for different filter choices in the WFD survey.</td><td> </td></tr><tr><td><p style=\"text-align: left;\">The First Extragalactic Exoplanets — What We Gain From High Cadence Observations of the Small Magellanic Cloud?</p></td><td><p style=\"text-align: left;\">Radoslaw Poleski and Przemek Mr ́oz</p></td><td><p style=\"text-align: left;\"><a href=\"https://docushare.lsstcorp.org/docushare/dsweb/Get/Document-30584/poleski_smc_mini.pdf\">Docushare</a></p></td></tr><tr><td> </td><td style=\"text-align: left;\">We propose to increase LSST cadence for the Small Magellanic Cloud which will enable finding dozens of microlensing events annually and potentially, a few planetary events over the course of the survey. These would be the first extragalactic exoplanets ever discovered and will give us a unique constraint on the planet formation and evolution in different environments. We discuss what changes in the LSST observing strategy are required. Presented analysis takes into account an extensive photometric follow-up program.</td><td> </td></tr><tr><td><p style=\"text-align: left;\">The Gaia-LSST Synergy: resolved stellar populations in selected Local Group stellar systems</p></td><td><p style=\"text-align: left;\">G. Clementini, I. Musella, A. Chieffi, M. Cignoni, F. Cusano, M. Di Criscienzo, M. Fabrizio, A. Garofalo, S. Leccia, M. Limongi, M. Marconi, E. Marini, A. Marino, P. Marrese, R. Molinaro, M.I. Moretti, T. Muraveva, V. Ripepi, G. Somma, P. Ventura</p></td><td><p style=\"text-align: left;\"><a href=\"https://docushare.lsstcorp.org/docushare/dsweb/Get/Document-30585/clementini_stellarpop_wfd.pdf\">Docushare</a></p></td></tr><tr><td> </td><td style=\"text-align: left;\">This project aims at exploiting the wide-field and limiting-magnitude capabilities of the LSST to fully characterise the resolved stellar populations in/around six Local Group stellar systems of different morphological type that are located from ∼30 to ∼400 kpc in distance from us. The adopted stellar tracers will be mainly red giants, pulsating variable stars of different types, and turn-off (TO) main sequence (MS) stars. In a synergistic and complemental approach, we have selected targets that host red giant branch (RGB) stars which are within the reach of Gaia and not yet (all) saturated with the LSST. In five of them we will reach at least one magnitude below the TO of the oldest stellar component (t ≥ 10 Gyr) with the LSST. Specifically, we plan to use pulsating variable stars populating the whole classical instability strip (namely: 1 RR Lyrae stars, Cepheids of different types, SX Phoenicis and delta Scuti stars) and Long Period Variables (LPVs), along with the Color Magnitude Diagram (CMD) of the resolved stellar populations in these 6 systems to: i) trace their different stellar generations over the large spatial extension and magnitude depth allowed by the LSST; ii) measure their distances using variable stars of different type/parent stellar population and the Tip of the Red Giant Branch (TRGB); iii) map their 3D structures all the way through to the farther periphery of their halos; iv) search for tidal streams which are supposed to connect some of these systems; and v) study their Star Formation Histories (SFHs) over an unprecedented large fraction of their bodies. Our ultimate goal is: i) to provide a complete picture of these nearby stellar systems all the way through to their periphery, and: ii) to directly link and cross-calibrate the Gaia and LSST projects. A valuable by-product will be the derivation, for the first time, of period-luminosity relations based on statistically significant samples of delta Scuti and SX Phoenicis stars, in different environments.</td><td> </td></tr><tr><td><p style=\"text-align: left;\">The Plane’s The Thing: The Case for Wide-Fast-Deep Coverage of the Galactic Plane and Bulge</p></td><td><p style=\"text-align: left;\">Jay Strader (Michigan State),, Elias Aydi (Michigan State), Christopher Britt (STScI), Adam Burgasser (UCSD), Laura Chomiuk (Michigan State), Will Clarkson (UM-Dearborn), Brian D. Fields (Illinois), Poshak Gandhi (Southampton), Leo Girardi (Padova), John Gizis (Delaware), Jacob Hogan (Illinois), Michael A. C. Johnson (Southampton), James Lauroesch (Louisville), Michael Liu (Hawaii), Tom Maccarone (Texas Tech), Peregrine McGehee (College of the Canyons), Dante Minniti (Universidad Andr´es Bello), Koji Mukai (NASA/Goddard), Alexandre RomanLopez (La Serena), Simone Scaringi (Texas Tech), Jennifer Sobeck (Washington), Kirill Sokolovsky (Michigan State), C. Tanner Murphey (Illinois), Xilu Wang (Notre Dame) on behalf of the Stars, Milky Way, and Local Volume Collaboration</p></td><td><p style=\"text-align: left;\"><a href=\"https://docushare.lsstcorp.org/docushare/dsweb/Get/Document-30482/strader_plane_wfd.pdf\">Docushare</a></p></td></tr><tr><td> </td><td style=\"text-align: left;\">We argue that the exclusion of the Galactic Plane and Bulge from the uniform wide-fast-deep (WFD) cadence is fundamentally inconsistent with two of the main science drivers of LSST: Mapping the Milky Way and Exploring the Transient Optical Sky. We outline the philosophical basis for this claim and then describe a number of important science goals that can only be addressed by WFD-like coverage of the Plane and Bulge.</td><td> </td></tr><tr><td><p style=\"text-align: left;\">Unique Science from a Coordinated LSST-WFIRST Survey of the Galactic Bulge</p></td><td><p style=\"text-align: left;\">R.A. Street, M. Lund, M. Donachie, S. Khakpash, N. Golovich, M. Penny, D. Bennett, W.A. Dawson, J. Pepper, M. Rabus, P. Szkody, W.I. Clarkson, R. Di Stefano, N. Rattenbury, M.P.G. Hundertmark, Y. Tsapras, S. Ridgway, K. Stassun, V. Bozza, A. Bhattacharya, S. Calchi Novati,Y. Shvartzvald</p></td><td><p style=\"text-align: left;\"><a href=\"https://arxiv.org/pdf/1812.04445\">arXiv</a></p></td></tr><tr><td> </td><td style=\"text-align: left;\">NASA’s WFIRST mission will perform a wide-field, NIR survey of the Galactic Bulge to search for exoplanets via the microlensing techniques. As the mission is due to launch in the mid-2020s, around half-way through the LSST Main Survey, we have a unique opportunity to explore synergistic science from two landmark programs. LSST can survey the entire footprint of the WFIRST microlensing survey in a single Deep Drilling Field. Here we explore the great scientific potential of this proposal and recommend the most effective observing strategies.</td><td> </td></tr><tr><td><p style=\"text-align: left;\">unVEil the darknesS of The gAlactic bulge (VESTALE)</p></td><td><p style=\"text-align: left;\">G. Bono, M. Dall’Ora, M. Fabrizio, J. Crestani, V.F. Braga, G. Fiorentino, G.Altavilla, M.T. Botticella, A. Calamida, M. Castellani, M. Catelan,  B. Chaboyer,  C.  Chiappini,  W.  Clarkson,  R.  Contreras  Ramos, O.  Creevey, R.  da  Silva, V. Debattista, S. Degl’Innocenti, I. Ferraro,  C.K. Gilligan,  O. Gonzalez,  G. Iannicola, L. Inno, A. Kunder,  B. Lemasle, L. Magrini,  D. Magurno, M. Marconi, M. Marengo, S. Marinoni, P.M. Marrese, C.E. Mart ́ınez-Vazquez, N. Matsunaga, M. Monelli, P.G. Prada Moroni, I. Musella, M.G. Navarro, J. Neeley, M. Nonino, A. Pietrinferni, L.  Pulone,  M.R.  Rich, V.  Ripepi, G.  Sacco, A.  Saha, M.  Salaris, C.  Sneden,  P.B.  Stetson,  R.A  Street, R.  Szabo, M.  Tantalo,  E.  Tognelli, M.  Torelli,  E. Valenti, A.R. Walker, and M. Zoccali.</p></td><td><p style=\"text-align: left;\"><a href=\"https://docushare.lsstcorp.org/docushare/dsweb/Get/Document-30571/dalla_ora_vestale_gp.pdf\">Docushare</a></p></td></tr><tr><td> </td><td style=\"text-align: left;\">The main aim of this experiment is to provide a complete census of old (t ≥ 10 Gyr, RR Lyrae, type II Cepheids, red horizontal branch), intermediate age (red clump, Miras) and young (classical Cepheids) stellar tracers across the Galactic Bulge. To fully exploit the unique photometric quality of LSST images, we plan to perform a Shallow minisurvey (ugrizy, -20.l.20 deg, -15.b.10 deg) and a Deep minisurvey (izy, -20.l.20 deg, -3.b.3 deg). The former one is aimed at constraining the 3D structure of the galactic Bulge across the four quadrants, and in particular, the transition between inner and outer Bulge. The u, g, r, i, z, y LSST bands provide fundamental diagnostics to constrain the evolutionary properties of low and intermediate-mass stars when moving from a metal-poor to a metal-rich regime. The deep minisurvey is aimed at tracing RR Lyrae, Red Clump stars, Miras and classical Cepheids in highly reddened regions of the Galactic center. These images will allow us to investigate the role that baryonic mass and dark matter played in the early formation and evolution of the MW.</td><td> </td></tr><tr><td><p style=\"text-align: left;\">Unveiling the Rich and Diverse Universe of Subsecond Astrophysics through LSST Star Trails</p></td><td><p style=\"text-align: left;\">David Thomas, Steven Kahn, Federica Bianco, Zeljko Ivezi c, Claudia M. Raiteri, Andrea Possenti, John Peterson, Colin Burke, Robert Blum, George Jacoby, Steve Howell, Grzegorz Madejski</p></td><td><p style=\"text-align: left;\"><a href=\"https://docushare.lsstcorp.org/docushare/dsweb/Get/Document-30601/thomas_startrails_mini.pdf\">Docushare</a></p></td></tr><tr><td> </td><td style=\"text-align: left;\">We present a unique method that allows the LSST to scan the sky for stellar variability on short timescales. The operational component of the strategy requires LSST to take star trail images. The image processing component uses deep learning to sift for transient events on timescales down to 10 ms. We advocate for enabling this observing mode with LSST, as coupling this capability with the LSST’s tremendous 319.5 m2deg2 etendue will produce the first wide area optical survey of the universe on these timescales. We explain how these data will advance both planned lines of investigation and enable new research in the areas of stellar flares, cataclysmic variables, active galactic nuclei, Kuiper Belt objects, gamma-ray bursts, and fast radio bursts.</td><td> </td></tr><tr><td><p style=\"text-align: left;\">Young Stars and their Variability with LSST</p></td><td><p style=\"text-align: left;\">Rosaria (Sara) Bonito - Patrick Hartigan</p></td><td><p style=\"text-align: left;\"><a href=\"https://docushare.lsstcorp.org/docushare/dsweb/Get/Document-30505/bonito_carina_dd.pdf\">Docushare</a></p></td></tr><tr><td> </td><td style=\"text-align: left;\">Young stars are characterized by photometric variability due to diverse physical processes: mass accretion events from circumstellar disks, presence of warps in the inner disks, evolution of stellar angular momenta, starspot longevity and cycles, and flares. We aim at investigating in statistical samples in young stellar clusters the stellar variability due to accretion process, also in eruptive bursts (EXors); rotation; stellar activity; etc.. We propose to observe Carina with a cadence of 30 minutes every night for one consecutive week per year to sample the light curves in different bands to follow the short-term variability described and link this with the related physical processes. LSST will make a significant impact by providing large enough samples to allow us to relate these aspects of the young stars and their environments to stellar properties such as mass, age, binarity, and their location in a statistically significant manner.</td><td> </td></tr></tbody></table><p style=\"text-align: left;\"> </p></div>"
      ]
     },
     "execution_count": 4,
     "metadata": {},
     "output_type": "execute_result"
    }
   ],
   "source": [
    "paper_list = soup.find(class_='field-item')\n",
    "paper_list"
   ]
  },
  {
   "cell_type": "code",
   "execution_count": 5,
   "metadata": {
    "ExecuteTime": {
     "end_time": "2019-02-23T13:53:37.270142Z",
     "start_time": "2019-02-23T13:53:37.254745Z"
    },
    "run_control": {
     "frozen": false,
     "read_only": false
    },
    "scrolled": true
   },
   "outputs": [
    {
     "data": {
      "text/plain": [
       "array([False, False, False, False, False,  True, False, False,  True,\n",
       "       False, False,  True, False, False,  True, False, False,  True,\n",
       "       False, False, False, False, False, False, False, False, False,\n",
       "       False,  True, False, False,  True, False, False,  True, False,\n",
       "       False,  True, False, False,  True, False, False,  True, False,\n",
       "       False,  True, False, False,  True, False, False,  True, False,\n",
       "       False,  True, False, False,  True, False, False,  True, False,\n",
       "       False,  True, False, False,  True, False, False,  True, False,\n",
       "       False,  True, False, False,  True, False, False,  True, False,\n",
       "       False,  True, False, False,  True, False, False,  True, False,\n",
       "       False,  True, False, False,  True, False, False,  True, False,\n",
       "       False,  True, False, False,  True, False, False,  True, False,\n",
       "       False,  True, False, False,  True, False, False,  True, False,\n",
       "       False,  True, False, False,  True, False, False,  True, False,\n",
       "       False,  True, False, False,  True, False, False,  True, False,\n",
       "       False,  True, False, False,  True, False, False,  True, False])"
      ]
     },
     "execution_count": 5,
     "metadata": {},
     "output_type": "execute_result"
    }
   ],
   "source": [
    "tmp = np.array([(\"a href=\" in str(p) and (\"docushare\" in str(p)  or \n",
    "         \"arxiv\" in str(p) ) ) for p in paper_list.find_all('p')])\n",
    "tmp"
   ]
  },
  {
   "cell_type": "code",
   "execution_count": 6,
   "metadata": {
    "ExecuteTime": {
     "end_time": "2019-02-23T13:53:37.279391Z",
     "start_time": "2019-02-23T13:53:37.273196Z"
    },
    "run_control": {
     "frozen": false,
     "read_only": false
    }
   },
   "outputs": [],
   "source": [
    "tmp = np.hstack([tmp[1:], tmp[:1]])\n"
   ]
  },
  {
   "cell_type": "code",
   "execution_count": 7,
   "metadata": {
    "ExecuteTime": {
     "end_time": "2019-02-23T13:53:37.302176Z",
     "start_time": "2019-02-23T13:53:37.283225Z"
    },
    "run_control": {
     "frozen": false,
     "read_only": false
    }
   },
   "outputs": [],
   "source": [
    "import re\n",
    "plist = np.array([re.sub(\"([\\(\\[]).*?([\\)\\]])\", \n",
    "                         \"\\g<1>\\g<2>\", str(p)) for p in paper_list.find_all('p')])"
   ]
  },
  {
   "cell_type": "code",
   "execution_count": 8,
   "metadata": {
    "ExecuteTime": {
     "end_time": "2019-02-23T13:53:37.316608Z",
     "start_time": "2019-02-23T13:53:37.304447Z"
    },
    "run_control": {
     "frozen": false,
     "read_only": false
    }
   },
   "outputs": [],
   "source": [
    "def remove_non_ascii(text):\n",
    "    return ''.join(i for i in text if ord(i)<128)\n",
    "\n",
    "def initial_of_name(p):\n",
    "    \"\"\"Converts a name to initials and surname.\n",
    "\n",
    "    Ensures all initials are capitalised, even if the\n",
    "    first names aren't.\n",
    "\n",
    "    Examples:\n",
    "\n",
    "      >>> initial_of_name('Ram Chandra Giri')\n",
    "      'R.C.Giri'\n",
    "      >>> initial_of_name('Ram chandra Giri')\n",
    "      'R.C.Giri'\n",
    "\n",
    "    \"\"\"\n",
    "    if (('Group' in p) or\n",
    "                 ('group' in p) or\n",
    "                 ('Team' in p) or\n",
    "                 ('team' in p) or\n",
    "                 ('Collaboration' in p) or\n",
    "                 ('collaboration' in p) or\n",
    "                ('Hunters' in p) or\n",
    "                 ('subgroup' in p) or ('others' in p)): \n",
    "        return p\n",
    "\n",
    "    parts = p.split()\n",
    "    initials = [part.strip()[0].upper() for part in parts[:-1]]\n",
    "    #print (initials, parts)\n",
    "    if \"Jr\" in parts[-1]:\n",
    "        return ','.join(['.'.join(initials[:-1] + [remove_non_ascii(parts[-2])])] +  [parts[-1]])\n",
    "    return '.'.join(initials + [remove_non_ascii(parts[-1])])\n",
    "\n",
    "def initial_of_names(names):\n",
    "    if '' in names:\n",
    "        names.remove('')\n",
    "    return [initial_of_name(n) for n in names if not n=='']\n"
   ]
  },
  {
   "cell_type": "code",
   "execution_count": 9,
   "metadata": {
    "ExecuteTime": {
     "end_time": "2019-02-23T13:53:37.356523Z",
     "start_time": "2019-02-23T13:53:37.320335Z"
    },
    "run_control": {
     "frozen": false,
     "read_only": false
    },
    "scrolled": false
   },
   "outputs": [
    {
     "data": {
      "text/plain": [
       "[['K.Olsen',\n",
       "  'M.D.Criscienzo',\n",
       "  'R.L.Jones',\n",
       "  'M.E.Schwamb',\n",
       "  'H.W.E.Lin',\n",
       "  'H.Awan',\n",
       "  'P.Marshall',\n",
       "  'E.Gawiser',\n",
       "  'A.Bolton',\n",
       "  'D.Eisenstein'],\n",
       " ['K.J.Bell', 'K.M.Hambleton', 'M.B.Lund', 'R.Szabo'],\n",
       " ['M.B.Lund',\n",
       "  'K.G.Stassun',\n",
       "  'J.Farihi',\n",
       "  'E.Agol',\n",
       "  'M.Rabus',\n",
       "  'A.Shporer',\n",
       "  'K.J.Bell'],\n",
       " ['M.E.Schwamb',\n",
       "  'K.Volk',\n",
       "  'H.W.Lin',\n",
       "  'M.S.P.Kelley',\n",
       "  'M.T.Bannister',\n",
       "  'H.H.Hsieh',\n",
       "  'R.L.Jones',\n",
       "  'M.Mommert',\n",
       "  'C.Snodgrass',\n",
       "  'D.Ragozzine',\n",
       "  'S.R.Chesley',\n",
       "  'S.S.Sheppard',\n",
       "  'M.Juric',\n",
       "  'M.W.Buie'],\n",
       " ['S.Gezari', 'S.V.Velzen', 'T.Hung', 'B.Cenko', 'I.Arcavi'],\n",
       " ['M.Rigault', 'L.P.Singer'],\n",
       " ['W.N.Brandt',\n",
       "  'Q.Ni',\n",
       "  'G.Yang',\n",
       "  'S.F.Anderson',\n",
       "  'R.J.Assef',\n",
       "  'A.J.Barth',\n",
       "  'F.E.Bauer',\n",
       "  'A.Bongiorno',\n",
       "  'C.T.Chen',\n",
       "  'D.D.Cicco',\n",
       "  'S.Gezari',\n",
       "  'C.J.Grier',\n",
       "  'P.B.Hall',\n",
       "  'S.F.Hoenig',\n",
       "  'M.Lacy',\n",
       "  'J.Li',\n",
       "  'B.Luo',\n",
       "  'M.Paolillo',\n",
       "  'B.M.Peterson',\n",
       "  'L.C.Popovic',\n",
       "  'G.T.Richards',\n",
       "  'O.Shemmer',\n",
       "  'Y.Shen',\n",
       "  'M.Sun',\n",
       "  'J.D.Timlin',\n",
       "  'J.R.YouKnowWho',\n",
       "  'F.Vito',\n",
       "  'Z.Yu'],\n",
       " ['C.M.Raiteri',\n",
       "  'M.I.Carnerero',\n",
       "  'B.Balmaverde',\n",
       "  'F.DAmmando',\n",
       "  'C.Righi',\n",
       "  'and others'],\n",
       " ['J.E.Gizis'],\n",
       " ['E.D.Feigelson', 'F.Bianco', 'S.Bonito'],\n",
       " ['K.J.Bell', 'J.J.Hermes'],\n",
       " ['D.E.Trilling',\n",
       "  'M.Bannister',\n",
       "  'C.Fuentes',\n",
       "  'D.Gerdes',\n",
       "  'M.Mommert',\n",
       "  'M.E.Schwamb',\n",
       "  'C.Trujillo'],\n",
       " ['G.P.Smith',\n",
       "  'A.Robertson',\n",
       "  'M.Bianconi',\n",
       "  'M.Jauzac',\n",
       "  'Strong Lensing Science Collaboration',\n",
       "  'the Gravitationally Lensed Gravitational Wave Hunters'],\n",
       " ['O.Dore',\n",
       "  'T.Eifler',\n",
       "  'S.Hemmati',\n",
       "  'C.Hirata',\n",
       "  'M.Jarvis',\n",
       "  'E.Krause',\n",
       "  'R.Mandelbaum',\n",
       "  'M.Troxel',\n",
       "  'the Cosmology with the WFIRST High Latitude Survey Science Investigation Team'],\n",
       " ['M.Juric',\n",
       "  'R.L.Jones',\n",
       "  'J.B.Kalmbach',\n",
       "  'P.Whidden',\n",
       "  'D.Bektesevic',\n",
       "  'H.Smotherman',\n",
       "  'J.Moeyens',\n",
       "  'A.J.Connolly',\n",
       "  'W.Fraser',\n",
       "  'D.Gerdes',\n",
       "  'M.E.Schwamb',\n",
       "  'D.Trilling',\n",
       "  'M.Mommert'],\n",
       " ['P.Capak',\n",
       "  'J.Cuillandre',\n",
       "  'F.Bernardeau',\n",
       "  'F.Castander',\n",
       "  'R.Bowler',\n",
       "  'C.Chang',\n",
       "  'C.Grillmair',\n",
       "  'P.Gris',\n",
       "  'T.Eiffler',\n",
       "  'C.Hirata',\n",
       "  'I.Hook',\n",
       "  'B.Jain',\n",
       "  'K.Kuijken',\n",
       "  'M.Lochner',\n",
       "  'P.Oesch',\n",
       "  'S.Paltani',\n",
       "  'J.Rhodes',\n",
       "  'B.Robertson',\n",
       "  'D.Rubin',\n",
       "  'R.Scaramella',\n",
       "  'C.Scarlata',\n",
       "  'D.Scolnic',\n",
       "  'J.Silverman',\n",
       "  'S.Wachter',\n",
       "  'Y.Wang',\n",
       "  'The TriAgency Working Group'],\n",
       " ['L.Prisinzan', 'L.Magrini'],\n",
       " ['B.W.Holwerda',\n",
       "  'A.Baker',\n",
       "  'S.Blyth',\n",
       "  'S.Kannappan',\n",
       "  'D.Obreschkov',\n",
       "  'S.Ravindranath',\n",
       "  'E.Elson',\n",
       "  'M.Vaccari',\n",
       "  'S.Crawford',\n",
       "  'M.Bershady',\n",
       "  'N.Hathi',\n",
       "  'N.Maddox',\n",
       "  'R.Taylor',\n",
       "  'M.Jarvis',\n",
       "  'J.Bridge'],\n",
       " ['G.Richards',\n",
       "  'C.Peters',\n",
       "  'B.Martin',\n",
       "  'J.B.Kalmbach',\n",
       "  'J.Parejko',\n",
       "  'I.Sullivan',\n",
       "  'F.E.Bauer'],\n",
       " ['S.Laine',\n",
       "  'D.MartnezDelgado2',\n",
       "  'I.Trujillo',\n",
       "  'P.Duc',\n",
       "  'C.J.Grillmair',\n",
       "  'C.S.Frenk',\n",
       "  'D.Hendel',\n",
       "  'K.V.Johnston',\n",
       "  'J.C.Mihos',\n",
       "  'J.Moustakas',\n",
       "  'R.L.Beaton',\n",
       "  'A.J.Romanowsky',\n",
       "  'J.Greco',\n",
       "  'D.Erkal'],\n",
       " ['E.F.Bell',\n",
       "  'M.BoylanKolchin',\n",
       "  'J.L.Carlin',\n",
       "  'D.Crnojevic',\n",
       "  'R.S.D.Jong',\n",
       "  'R.DSouza',\n",
       "  'H.C.Ferguson',\n",
       "  'N.Kallivayalil',\n",
       "  'S.Koposov',\n",
       "  'T.Li',\n",
       "  'K.B.W.McQuinn',\n",
       "  'A.Monachesi',\n",
       "  'A.Peter',\n",
       "  'R.M.Rich',\n",
       "  'I.U.Roederer',\n",
       "  'L.Sales',\n",
       "  'C.T.Slater',\n",
       "  'A.Smercina',\n",
       "  'E.Toloba',\n",
       "  'M.Valluri',\n",
       "  'B.Williams'],\n",
       " ['The WFIRST Deep Field Working Group',\n",
       "  'WFIRST Science Investigation Team Members',\n",
       "  'R.J.Foley',\n",
       "  'A.M.Koekemoer',\n",
       "  'D.N.Spergel',\n",
       "  'F.B.Bianco',\n",
       "  'P.Capak',\n",
       "  'L.Dai',\n",
       "  'O.Dore',\n",
       "  'G.G.Fazio',\n",
       "  'H.Ferguson',\n",
       "  'A.V.Filippenko',\n",
       "  'B.Frye',\n",
       "  'L.Galbany',\n",
       "  'E.Gawiser',\n",
       "  'C.Gronwall',\n",
       "  'N.P.Hathi',\n",
       "  'C.Hirata',\n",
       "  'R.Hounsell',\n",
       "  'S.W.Jha',\n",
       "  'A.G.Kim',\n",
       "  'P.L.Kelly',\n",
       "  'J.W.Kruk',\n",
       "  'S.Malhotra',\n",
       "  'K.S.Mandel',\n",
       "  'R.Margutti',\n",
       "  'D.Marrone',\n",
       "  'K.B.W.McQuinn',\n",
       "  'P.Melchior',\n",
       "  'L.Moustakas',\n",
       "  'J.A.Newman',\n",
       "  'J.E.G.Peek',\n",
       "  'S.Perlmutter',\n",
       "  'J.D.Rhodes',\n",
       "  'B.Robertson',\n",
       "  'D.Rubin',\n",
       "  'D.Scolnic',\n",
       "  'R.Somerville',\n",
       "  'R.Street',\n",
       "  'Y.Wang',\n",
       "  'D.J.Whalen',\n",
       "  'R.A.Windhorst',\n",
       "  'E.J.Wollack'],\n",
       " ['C.W.Walter', 'D.Scolnic', 'A.Slosar'],\n",
       " ['K.Olsen',\n",
       "  'P.Szkody',\n",
       "  'M.Cioni',\n",
       "  'M.D.Criscienzo',\n",
       "  'I.Musella',\n",
       "  'V.Ripepi',\n",
       "  'F.Borsa',\n",
       "  'M.Marconi',\n",
       "  'L.Girardi',\n",
       "  'G.Pastorelli',\n",
       "  'M.Trabucchi',\n",
       "  'P.Ventura',\n",
       "  'M.Moniiez'],\n",
       " ['A.S.Bolton',\n",
       "  'D.J.Eisenstein',\n",
       "  'K.Olsen',\n",
       "  'S.BenZvi',\n",
       "  'T.Eifler',\n",
       "  'S.G.A.Gontcho',\n",
       "  'O.Graur',\n",
       "  'A.G.Kim',\n",
       "  'E.Krause',\n",
       "  'O.Lahav',\n",
       "  'A.Leauthaud',\n",
       "  'P.McDonald',\n",
       "  'J.Moustakas',\n",
       "  'E.Mueller',\n",
       "  'J.A.Newman',\n",
       "  'D.J.Schlegel',\n",
       "  'R.H.Wechsler',\n",
       "  'M.White',\n",
       "  'M.J.Wilson'],\n",
       " ['P.Capak',\n",
       "  'D.Sconlic',\n",
       "  'J.Cuillandre',\n",
       "  'F.Castander',\n",
       "  'A.Bolton',\n",
       "  'R.Bowler',\n",
       "  'C.Chang',\n",
       "  'A.Dey',\n",
       "  'T.Eiffler',\n",
       "  'D.Eisenstein',\n",
       "  'C.Grillmair',\n",
       "  'P.Gris',\n",
       "  'N.Hernitschek',\n",
       "  'I.Hook',\n",
       "  'C.Hirata',\n",
       "  'B.J.K.Kuijken',\n",
       "  'M.Lochner',\n",
       "  'J.Newman',\n",
       "  'P.Oesch',\n",
       "  'K.Olsen',\n",
       "  'J.Rhodes',\n",
       "  'B.Robertson',\n",
       "  'D.Rubin',\n",
       "  'C.Scarlata',\n",
       "  'J.Silverman',\n",
       "  'S.Wachter',\n",
       "  'Y.Wang',\n",
       "  'The TriAgency Working Group'],\n",
       " ['D.M.Scolnic',\n",
       "  'M.Lochner',\n",
       "  'P.Gris',\n",
       "  'N.Regnault',\n",
       "  'R.Hlozek',\n",
       "  'G.Aldering',\n",
       "  'T.Allam,Jr',\n",
       "  'H.Awan',\n",
       "  'R.Biswas',\n",
       "  'J.Blazek',\n",
       "  'C.Chang',\n",
       "  'E.Gawiser',\n",
       "  'A.Goobar',\n",
       "  'I.M.Hook',\n",
       "  'S.W.Jha',\n",
       "  'J.D.McEwen9',\n",
       "  'R.Mandelbaum',\n",
       "  'P.Marshall',\n",
       "  'E.Neilsen',\n",
       "  'J.Rhodes',\n",
       "  'D.Rothchild',\n",
       "  'I.SevillaNoarbe',\n",
       "  'A.Slosar',\n",
       "  'P.Yoachim'],\n",
       " ['M.Lochner',\n",
       "  'D.M.Scolnic',\n",
       "  'H.Awan',\n",
       "  'N.Regnault',\n",
       "  'P.Gris',\n",
       "  'R.Mandelbaum',\n",
       "  'E.Gawiser',\n",
       "  'H.Almoubayyed',\n",
       "  'C.N.Setzer',\n",
       "  'S.Huber',\n",
       "  'M.L.Graham',\n",
       "  'R.Hlozek',\n",
       "  'R.Biswas',\n",
       "  'T.Eifler',\n",
       "  'D.Rothchild',\n",
       "  'T.Allam,Jr',\n",
       "  'J.Blazek',\n",
       "  'C.Chang',\n",
       "  'T.Collett',\n",
       "  'A.Goobar',\n",
       "  'I.M.Hook',\n",
       "  'M.Jarvis',\n",
       "  'S.W.Jha',\n",
       "  'A.G.Kim',\n",
       "  'P.Marshall',\n",
       "  'J.D.McEwen',\n",
       "  'M.Moniez',\n",
       "  'J.A.Newman',\n",
       "  'H.V.Peiris',\n",
       "  'J.Rhodes',\n",
       "  'I.SevillaNoarbe',\n",
       "  'A.Slosar',\n",
       "  'S.H.Suyu',\n",
       "  'J.A.Tyson',\n",
       "  'P.Yoachim'],\n",
       " ['F.B.Bianco',\n",
       "  'M.Graham',\n",
       "  'M.R.Drout',\n",
       "  'I.Andreoni',\n",
       "  'R.Biswas',\n",
       "  'P.Cowperthwaite',\n",
       "  'G.Narayan',\n",
       "  'T.A.Pritchard',\n",
       "  'T.Ribeiro'],\n",
       " ['R.Silvotti', 'F.Faedi'],\n",
       " ['C.Snodgrass',\n",
       "  'B.Carry',\n",
       "  'J.Berthier',\n",
       "  'S.Eggl',\n",
       "  'M.Mommert',\n",
       "  'J.M.Petit',\n",
       "  'F.Spoto',\n",
       "  'M.Granvik',\n",
       "  'R.Laureijs',\n",
       "  'B.Altieri',\n",
       "  'R.Vavrek',\n",
       "  'L.Conversi',\n",
       "  'A.Nucita',\n",
       "  'M.Popescu',\n",
       "  'G.V.Kleijn',\n",
       "  'M.Kidger',\n",
       "  'G.H.Jones',\n",
       "  'D.Oszkiewicz',\n",
       "  'M.Juric',\n",
       "  'L.Jones',\n",
       "  'Euclid Solar System Object Science Working Group'],\n",
       " ['A.Verma',\n",
       "  'T.Collett',\n",
       "  'G.P.Smith',\n",
       "  'Strong Lensing Science Collaboration',\n",
       "  'in collaboration with the DESC Strong Lensing Science Working Group'],\n",
       " ['The TVS Multiwavelength Characterization/GW Counterparts subgroup',\n",
       "  'R.Margutti',\n",
       "  'S.L.P.Cowperthwaite',\n",
       "  'Z.Doctor',\n",
       "  'K.Mortensen',\n",
       "  'C.P.Pankow',\n",
       "  'O.Salafia',\n",
       "  'V.A.Villar',\n",
       "  'C.K.Alexander',\n",
       "  'J.Annis',\n",
       "  'I.Andreoni',\n",
       "  'A.Baldeschi',\n",
       "  'B.Balmaverde',\n",
       "  'E.Berger',\n",
       "  'M.G.Bernardini',\n",
       "  'C.P.L.Berry',\n",
       "  'F.Bianco',\n",
       "  'P.K.Blanchard',\n",
       "  'E.Brocato',\n",
       "  'M.I.Carnerero',\n",
       "  'R.Cartier',\n",
       "  'S.B.Cenko',\n",
       "  'R.Chornock',\n",
       "  'L.Chomiuk',\n",
       "  'C.M.Copperwheat',\n",
       "  'M.W.Coughlin',\n",
       "  'D.L.Coppejans',\n",
       "  'F.DAmmando',\n",
       "  'L.Datrier',\n",
       "  'P.DAvanzo',\n",
       "  'G.Dimitriadis',\n",
       "  'R.J.Foley',\n",
       "  'W.Fong',\n",
       "  'O.Fox',\n",
       "  'G.Ghirlanda',\n",
       "  'D.Goldstein',\n",
       "  'J.Grindlay',\n",
       "  'C.Guidorzi',\n",
       "  'Z.Haiman',\n",
       "  'M.Hendry',\n",
       "  'D.Holz',\n",
       "  'T.Hung',\n",
       "  'C.Inserra',\n",
       "  'V.Kalogera',\n",
       "  'C.D.Kilpatrick',\n",
       "  'G.Lamb',\n",
       "  'T.Laskar',\n",
       "  'A.Levan',\n",
       "  'E.Mason',\n",
       "  'K.Maguire',\n",
       "  'A.Melandri',\n",
       "  'D.Milisavljevic',\n",
       "  'A.Miller',\n",
       "  'G.Narayan',\n",
       "  'E.Nielsen',\n",
       "  'M.Nicholl',\n",
       "  'S.Nissanke',\n",
       "  'P.Nugent',\n",
       "  'D.Pasham',\n",
       "  'K.Paterson',\n",
       "  'S.Piranomonte',\n",
       "  'J.Racusin',\n",
       "  'A.Rest',\n",
       "  'C.Righi',\n",
       "  'D.Sand',\n",
       "  'R.Seaman',\n",
       "  'D.Scolnic',\n",
       "  'K.Siellez',\n",
       "  'L.Singer',\n",
       "  'P.Szkody',\n",
       "  'M.Smith',\n",
       "  'D.Steeghs'],\n",
       " ['K.Bricman', 'A.Gomboc'],\n",
       " ['G.Richards',\n",
       "  'W.Yu',\n",
       "  'W.N.Brandt',\n",
       "  'Q.Ni',\n",
       "  'C.Peters',\n",
       "  'G.Yang',\n",
       "  'F.E.Bauer'],\n",
       " ['O.A.Gonzalez',\n",
       "  'W.Clarkson',\n",
       "  'V.P.Debattista',\n",
       "  'C.I.Johnson',\n",
       "  'R.M.Rich',\n",
       "  'G.Bono',\n",
       "  'M.DallOra',\n",
       "  'J.Gizis',\n",
       "  'N.Kallivayalil',\n",
       "  'D.Kawata',\n",
       "  'P.Lucas',\n",
       "  'D.Minniti',\n",
       "  'R.Schiavon',\n",
       "  'J.Strader',\n",
       "  'R.Street',\n",
       "  'E.Valenti',\n",
       "  'M.Zoccali'],\n",
       " ['K.Volk',\n",
       "  'M.E.Schwamb',\n",
       "  'W.Fraser',\n",
       "  'M.S.P.Kelley',\n",
       "  'H.W.Lin',\n",
       "  'D.Ragozzine',\n",
       "  'R.L.Jones',\n",
       "  'C.Snodgrass',\n",
       "  'M.T.Bannister'],\n",
       " ['R.Poleski', 'P.Mroz'],\n",
       " ['G.Clementini',\n",
       "  'I.Musella',\n",
       "  'A.Chieffi',\n",
       "  'M.Cignoni',\n",
       "  'F.Cusano',\n",
       "  'M.D.Criscienzo',\n",
       "  'M.Fabrizio',\n",
       "  'A.Garofalo',\n",
       "  'S.Leccia',\n",
       "  'M.Limongi',\n",
       "  'M.Marconi',\n",
       "  'E.Marini',\n",
       "  'A.Marino',\n",
       "  'P.Marrese',\n",
       "  'R.Molinaro',\n",
       "  'M.I.Moretti',\n",
       "  'T.Muraveva',\n",
       "  'V.Ripepi',\n",
       "  'G.Somma',\n",
       "  'P.Ventura'],\n",
       " ['J.Strader',\n",
       "  'E.Aydi',\n",
       "  'C.Britt',\n",
       "  'A.Burgasser',\n",
       "  'L.Chomiuk',\n",
       "  'W.Clarkson',\n",
       "  'B.D.Fields',\n",
       "  'P.Gandhi',\n",
       "  'L.Girardi',\n",
       "  'J.Gizis',\n",
       "  'J.Hogan',\n",
       "  'M.A.C.Johnson',\n",
       "  'J.Lauroesch',\n",
       "  'M.Liu',\n",
       "  'T.Maccarone',\n",
       "  'P.McGehee',\n",
       "  'D.Minniti',\n",
       "  'K.Mukai',\n",
       "  'A.RomanLopez',\n",
       "  'S.Scaringi',\n",
       "  'J.Sobeck',\n",
       "  'K.Sokolovsky',\n",
       "  'C.T.Murphey',\n",
       "  'X.Wang',\n",
       "  'Stars',\n",
       "  'M.Way',\n",
       "  'Local Volume Collaboration'],\n",
       " ['R.A.Street',\n",
       "  'M.Lund',\n",
       "  'M.Donachie',\n",
       "  'S.Khakpash',\n",
       "  'N.Golovich',\n",
       "  'M.Penny',\n",
       "  'D.Bennett',\n",
       "  'W.A.Dawson',\n",
       "  'J.Pepper',\n",
       "  'M.Rabus',\n",
       "  'P.Szkody',\n",
       "  'W.I.Clarkson',\n",
       "  'R.D.Stefano',\n",
       "  'N.Rattenbury',\n",
       "  'M.P.G.Hundertmark',\n",
       "  'Y.Tsapras',\n",
       "  'S.Ridgway',\n",
       "  'K.Stassun',\n",
       "  'V.Bozza',\n",
       "  'A.Bhattacharya',\n",
       "  'S.C.Novati',\n",
       "  'Y.Shvartzvald'],\n",
       " ['G.Bono',\n",
       "  'M.DallOra',\n",
       "  'M.Fabrizio',\n",
       "  'J.Crestani',\n",
       "  'V.F.Braga',\n",
       "  'G.Fiorentino',\n",
       "  'G.Altavilla',\n",
       "  'M.T.Botticella',\n",
       "  'A.Calamida',\n",
       "  'M.Castellani',\n",
       "  'M.Catelan',\n",
       "  'B.Chaboyer',\n",
       "  'C.Chiappini',\n",
       "  'W.Clarkson',\n",
       "  'R.C.Ramos',\n",
       "  'O.Creevey',\n",
       "  'R.D.Silva',\n",
       "  'V.Debattista',\n",
       "  'S.DeglInnocenti',\n",
       "  'I.Ferraro',\n",
       "  'C.K.Gilligan',\n",
       "  'O.Gonzalez',\n",
       "  'G.Iannicola',\n",
       "  'L.Inno',\n",
       "  'A.Kunder',\n",
       "  'B.Lemasle',\n",
       "  'L.Magrini',\n",
       "  'D.Magurno',\n",
       "  'M.Marconi',\n",
       "  'M.Marengo',\n",
       "  'S.Marinoni',\n",
       "  'P.M.Marrese',\n",
       "  'C.E.MartnezVazquez',\n",
       "  'N.Matsunaga',\n",
       "  'M.Monelli',\n",
       "  'P.G.P.Moroni',\n",
       "  'I.Musella',\n",
       "  'M.G.Navarro',\n",
       "  'J.Neeley',\n",
       "  'M.Nonino',\n",
       "  'A.Pietrinferni',\n",
       "  'L.Pulone',\n",
       "  'M.R.Rich',\n",
       "  'V.Ripepi',\n",
       "  'G.Sacco',\n",
       "  'A.Saha',\n",
       "  'M.Salaris',\n",
       "  'C.Sneden',\n",
       "  'P.B.Stetson',\n",
       "  'R.A.Street',\n",
       "  'R.Szabo',\n",
       "  'M.Tantalo',\n",
       "  'E.Tognelli',\n",
       "  'M.Torelli',\n",
       "  'E.Valenti',\n",
       "  'A.R.Walker',\n",
       "  'M.Zoccali.'],\n",
       " ['D.Thomas',\n",
       "  'S.Kahn',\n",
       "  'F.Bianco',\n",
       "  'Z.I.c',\n",
       "  'C.M.Raiteri',\n",
       "  'A.Possenti',\n",
       "  'J.Peterson',\n",
       "  'C.Burke',\n",
       "  'R.Blum',\n",
       "  'G.Jacoby',\n",
       "  'S.Howell',\n",
       "  'G.Madejski'],\n",
       " ['R.B.P.Hartigan']]"
      ]
     },
     "execution_count": 9,
     "metadata": {},
     "output_type": "execute_result"
    }
   ],
   "source": [
    "authors = [initial_of_names(remove_non_ascii(\n",
    "    p.replace('<p style=\"text-align: left;\">','').replace('</p>','').\\\n",
    "            replace('-','').replace('&amp;','').\\\n",
    "            replace('.', '. ').replace('  ',' ').\\\n",
    "               replace(' and ',',').replace(' ()','').replace('()','').\\\n",
    "               replace('Tri-Agency','TriAgency').\\\n",
    "               replace('Community Members: ','').\\\n",
    "                replace('\\xa0','').replace(' ́','').\\\n",
    "                replace('C.-T. ', \"C. T.\").\\\n",
    "                replace('J-C.', \"J. C.\").replace('J-C.', \"J. C.\").\\\n",
    "                replace('-',',').replace('*','').replace(' CNRS; ','').\\\n",
    "               replace('NASA','').replace('GSFC','').\\\n",
    "               replace('New York Univeristy CUSP/CCPP','').\\\n",
    "               replace('University of Delaware; ','').\\\n",
    "               replace('University of Washington; ','').\\\n",
    "               replace('University of Toronto','').\\\n",
    "               replace('Carnegie Observatories; ','').\\\n",
    "               replace('Caltech; ','').\\\n",
    "              replace('Stockholm University; ','').\\\n",
    "              replace('Carnegie; ','').\\\n",
    "              replace('STScI; ','').\\\n",
    "              replace('NYU; ','').\\\n",
    "              replace('LSST;','').\\\n",
    "            replace('“','').\\\n",
    "            replace(\" et al.\",\", and others\").\\\n",
    "           replace(\"on behalf of the\", ',').replace(\"for the \", ',').\\\n",
    "           strip().replace(', ',',')).split(','))\n",
    "           for p in plist[tmp]]\n",
    "authors"
   ]
  },
  {
   "cell_type": "code",
   "execution_count": 43,
   "metadata": {
    "ExecuteTime": {
     "end_time": "2019-02-23T14:22:33.780534Z",
     "start_time": "2019-02-23T14:22:33.770966Z"
    }
   },
   "outputs": [
    {
     "data": {
      "text/plain": [
       "['K.Olsen',\n",
       " 'K.J.Bell',\n",
       " 'M.B.Lund',\n",
       " 'M.E.Schwamb',\n",
       " 'S.Gezari',\n",
       " 'M.Rigault',\n",
       " 'W.N.Brandt',\n",
       " 'C.M.Raiteri',\n",
       " 'J.E.Gizis',\n",
       " 'E.D.Feigelson',\n",
       " 'K.J.Bell',\n",
       " 'D.E.Trilling',\n",
       " 'G.P.Smith',\n",
       " 'O.Dore',\n",
       " 'M.Juric',\n",
       " 'P.Capak',\n",
       " 'L.Prisinzan',\n",
       " 'B.W.Holwerda',\n",
       " 'G.Richards',\n",
       " 'S.Laine',\n",
       " 'E.F.Bell',\n",
       " 'The WFIRST Deep Field Working Group',\n",
       " 'C.W.Walter',\n",
       " 'K.Olsen',\n",
       " 'A.S.Bolton',\n",
       " 'P.Capak',\n",
       " 'D.M.Scolnic',\n",
       " 'M.Lochner',\n",
       " 'F.B.Bianco',\n",
       " 'R.Silvotti',\n",
       " 'C.Snodgrass',\n",
       " 'A.Verma',\n",
       " 'The TVS Multiwavelength Characterization/GW Counterparts subgroup',\n",
       " 'K.Bricman',\n",
       " 'G.Richards',\n",
       " 'O.A.Gonzalez',\n",
       " 'K.Volk',\n",
       " 'R.Poleski',\n",
       " 'G.Clementini',\n",
       " 'J.Strader',\n",
       " 'R.A.Street',\n",
       " 'G.Bono',\n",
       " 'D.Thomas',\n",
       " 'R.B.P.Hartigan']"
      ]
     },
     "execution_count": 43,
     "metadata": {},
     "output_type": "execute_result"
    }
   ],
   "source": [
    "fa = [a[0] for a in authors]\n",
    "fa"
   ]
  },
  {
   "cell_type": "code",
   "execution_count": 50,
   "metadata": {
    "ExecuteTime": {
     "end_time": "2019-02-23T14:24:59.452289Z",
     "start_time": "2019-02-23T14:24:59.439346Z"
    },
    "run_control": {
     "frozen": false,
     "read_only": false
    }
   },
   "outputs": [],
   "source": [
    "\n",
    "scs = {'A.S.Bolton':'Galaxies',\n",
    " 'A.Verma':'SL',\n",
    " 'B.W.Holwerda':'TVS',\n",
    " 'C.M.Raiteri':'TVS',\n",
    " 'C.Snodgrass':'SS',\n",
    " 'C.W.Walter':'DESC',\n",
    " 'D.E.Trilling':'SS',\n",
    " 'D.M.Scolnic':'DESC',\n",
    " 'D.Thomas':'TVS',\n",
    " 'E.D.Feigelson':'IS',\n",
    " 'E.F.Bell':'TVS',\n",
    " 'F.B.Bianco':'TVS',\n",
    " 'G.Bono':'MW',\n",
    " 'G.Clementini':'TVS',\n",
    " 'G.P.Smith':'SL',\n",
    " 'G.Richards':'AGN',\n",
    " 'J.E.Gizis':'MW',\n",
    " 'J.Strader':'MW',\n",
    " 'K.Bricman':'TVS',\n",
    " 'K.J.Bell':'TVS',\n",
    " 'K.Olsen':'MW',\n",
    " 'K.Volk':'SS',\n",
    " 'L.Prisinzan':'MW',\n",
    " 'M.B.Lund':'TVS',\n",
    " 'M.E.Schwamb':'SS',\n",
    " 'M.Juric':'SS',\n",
    " 'M.Lochner':'DESC',\n",
    " 'M.Rigault':'MW',\n",
    " 'O.A.Gonzalez':'MW',\n",
    " 'O.Dore':'other',\n",
    " 'P.Capak':'other',\n",
    " 'R.A.Street':'TVS',\n",
    " 'R.B.P.Hartigan':'SS',\n",
    " 'R.Poleski':'other',\n",
    " 'R.Silvotti':'other',\n",
    " 'S.Gezari':'TVS',\n",
    " 'S.Laine':\"other\",\n",
    " 'I.Andreoni':'TVS',\n",
    " 'W.N. Brandt':'AGN',\n",
    " 'O. Dore':'other',\n",
    " 'R. Bonito':'TVS',\n",
    "     \"W.N.Brandt\":\"AGN\",\n",
    "      \"The WFIRST Deep Field Working Group\":\"other\",\n",
    "      \"The TVS Multiwavelength Characterization/GW Counterparts subgroup\": \"TVS\"}\n",
    "\n",
    "\n",
    "sccolors = {'TVS':'DarkBlue',\n",
    "           'Galaxies':'Chocolate',\n",
    "           'SL':'CornflowerBlue',\n",
    "           'SS':'DarkKhaki',\n",
    "           'MW':'DarkMagenta',\n",
    "           'AGN':'GoldenRod',\n",
    "           'IS':'Orange',\n",
    "           'DESC':'DarkGreen',\n",
    "           'other':'black'}"
   ]
  },
  {
   "cell_type": "code",
   "execution_count": 51,
   "metadata": {
    "ExecuteTime": {
     "end_time": "2019-02-23T14:25:00.329513Z",
     "start_time": "2019-02-23T14:25:00.325268Z"
    }
   },
   "outputs": [],
   "source": [
    "for f in fa:\n",
    "    if not f in scs.keys():\n",
    "        print(f, f in scs.keys())"
   ]
  },
  {
   "cell_type": "code",
   "execution_count": 52,
   "metadata": {
    "ExecuteTime": {
     "end_time": "2019-02-23T14:25:09.440542Z",
     "start_time": "2019-02-23T14:25:09.428880Z"
    },
    "run_control": {
     "frozen": false,
     "read_only": false
    }
   },
   "outputs": [
    {
     "data": {
      "text/plain": [
       "(44,)"
      ]
     },
     "execution_count": 52,
     "metadata": {},
     "output_type": "execute_result"
    }
   ],
   "source": [
    "tmp2 = np.hstack([tmp[1:], tmp[:1]])\n",
    "titles = np.array([t.replace('<p style=\"text-align: left;\">','').replace(\"</p>\",\"\") for t in plist[tmp2]])\n",
    "titles.shape\n"
   ]
  },
  {
   "cell_type": "code",
   "execution_count": 53,
   "metadata": {
    "ExecuteTime": {
     "end_time": "2019-02-23T14:25:14.791873Z",
     "start_time": "2019-02-23T14:25:14.786623Z"
    }
   },
   "outputs": [],
   "source": [
    "titles = np.array([t.replace('<p style=\"text-align: left;\">','').replace(\"</p>\",\"\") for t in plist[tmp2]])\n"
   ]
  },
  {
   "cell_type": "code",
   "execution_count": 54,
   "metadata": {
    "ExecuteTime": {
     "end_time": "2019-02-23T14:25:15.516851Z",
     "start_time": "2019-02-23T14:25:15.512300Z"
    },
    "run_control": {
     "frozen": false,
     "read_only": false
    }
   },
   "outputs": [],
   "source": [
    "from fuzzywuzzy import fuzz\n",
    "from fuzzywuzzy import process"
   ]
  },
  {
   "cell_type": "code",
   "execution_count": 55,
   "metadata": {
    "ExecuteTime": {
     "end_time": "2019-02-23T14:25:16.093374Z",
     "start_time": "2019-02-23T14:25:16.080218Z"
    },
    "run_control": {
     "frozen": false,
     "read_only": false
    }
   },
   "outputs": [
    {
     "data": {
      "text/plain": [
       "(94, 80)"
      ]
     },
     "execution_count": 55,
     "metadata": {},
     "output_type": "execute_result"
    }
   ],
   "source": [
    "fuzz.ratio(\"Catherine M Gitau\",\"Catherine Gitau\"),\\\n",
    "fuzz.partial_ratio(\"Catherine M. Gitau\",\"Catherine Gitau\")\n"
   ]
  },
  {
   "cell_type": "code",
   "execution_count": 56,
   "metadata": {
    "ExecuteTime": {
     "end_time": "2019-02-23T14:25:16.534924Z",
     "start_time": "2019-02-23T14:25:16.528761Z"
    },
    "run_control": {
     "frozen": false,
     "read_only": false
    }
   },
   "outputs": [
    {
     "data": {
      "text/plain": [
       "100"
      ]
     },
     "execution_count": 56,
     "metadata": {},
     "output_type": "execute_result"
    }
   ],
   "source": [
    "fuzz.partial_ratio(authors[0][2],authors[3][6])"
   ]
  },
  {
   "cell_type": "code",
   "execution_count": 57,
   "metadata": {
    "ExecuteTime": {
     "end_time": "2019-02-23T14:25:17.923770Z",
     "start_time": "2019-02-23T14:25:17.910967Z"
    },
    "run_control": {
     "frozen": false,
     "read_only": false
    }
   },
   "outputs": [
    {
     "data": {
      "text/plain": [
       "[0,\n",
       " 0,\n",
       " 0,\n",
       " 0,\n",
       " 0,\n",
       " 0,\n",
       " 0,\n",
       " 0,\n",
       " 0,\n",
       " 0,\n",
       " 0,\n",
       " 0,\n",
       " 1,\n",
       " 0,\n",
       " 0,\n",
       " 1,\n",
       " 0,\n",
       " 0,\n",
       " 0,\n",
       " 0,\n",
       " 0,\n",
       " 1,\n",
       " 0,\n",
       " 0,\n",
       " 0,\n",
       " 1,\n",
       " 0,\n",
       " 0,\n",
       " 0,\n",
       " 0,\n",
       " 1,\n",
       " 2,\n",
       " 1,\n",
       " 0,\n",
       " 0,\n",
       " 0,\n",
       " 0,\n",
       " 0,\n",
       " 0,\n",
       " 1,\n",
       " 0,\n",
       " 0,\n",
       " 0,\n",
       " 0]"
      ]
     },
     "execution_count": 57,
     "metadata": {},
     "output_type": "execute_result"
    }
   ],
   "source": [
    "lenths = [len(paper) for paper in authors]\n",
    "groups = [np.sum(np.array([(('Group' in p) or\n",
    "                 ('group' in p) or\n",
    "                 ('Tream' in p) or\n",
    "                 ('team' in p) or\n",
    "                 ('Collaboration' in p) or\n",
    "                 ('collaboration' in p) or\n",
    "                 ('subgroup' in p))\n",
    "                for p in paper])) for paper in authors]\n",
    "groups"
   ]
  },
  {
   "cell_type": "code",
   "execution_count": 58,
   "metadata": {
    "ExecuteTime": {
     "end_time": "2019-02-23T14:25:21.463786Z",
     "start_time": "2019-02-23T14:25:21.457894Z"
    },
    "run_control": {
     "frozen": false,
     "read_only": false
    }
   },
   "outputs": [],
   "source": [
    "import json\n",
    "f = open(\"dataWP.json\", \"a\")"
   ]
  },
  {
   "cell_type": "code",
   "execution_count": 59,
   "metadata": {
    "ExecuteTime": {
     "end_time": "2019-02-23T14:25:26.618502Z",
     "start_time": "2019-02-23T14:25:25.028031Z"
    },
    "run_control": {
     "frozen": false,
     "read_only": false
    }
   },
   "outputs": [],
   "source": [
    "#print(\"var connections = [\")\n",
    "connections = []\n",
    "for t,p in zip(titles,authors):\n",
    "    for a in p: \n",
    "        for t2,pp in zip(titles,authors):\n",
    "            if p == pp: continue\n",
    "            for aa in pp:\n",
    "                fr = fuzz.ratio(a, aa)\n",
    "                if fr > 85:\n",
    "                    connections.append({\"source\":t, \"target\": t2})\n"
   ]
  },
  {
   "cell_type": "code",
   "execution_count": 61,
   "metadata": {
    "ExecuteTime": {
     "end_time": "2019-02-23T14:25:58.190632Z",
     "start_time": "2019-02-23T14:25:58.177026Z"
    },
    "run_control": {
     "frozen": false,
     "read_only": false
    },
    "scrolled": true
   },
   "outputs": [
    {
     "name": "stdout",
     "output_type": "stream",
     "text": [
      "[\n",
      "    {\n",
      "        \"color\": \"DarkMagenta\",\n",
      "        \"name\": \"A Big Sky Approach to Cadence Diplomacy\",\n",
      "        \"size\": 10\n",
      "    },\n",
      "    {\n",
      "        \"color\": \"DarkBlue\",\n",
      "        \"name\": \"A Cadence to Reduce Aliasing in LSST\",\n",
      "        \"size\": 4\n",
      "    },\n",
      "    {\n",
      "        \"color\": \"DarkBlue\",\n",
      "        \"name\": \"A Higher Cadence Subsurvey Located in the Galactic Plane\",\n",
      "        \"size\": 7\n",
      "    },\n",
      "    {\n",
      "        \"color\": \"DarkKhaki\",\n",
      "        \"name\": \"A Northern Ecliptic Survey for Solar System Science\",\n",
      "        \"size\": 14\n",
      "    },\n",
      "    {\n",
      "        \"color\": \"DarkBlue\",\n",
      "        \"name\": \"A Smart and Colorful Cadence for the Wide-Fast Deep Survey\",\n",
      "        \"size\": 5\n",
      "    },\n",
      "    {\n",
      "        \"color\": \"DarkMagenta\",\n",
      "        \"name\": \"Kunal P. Mooley, Caltech; Tyler A. Pritchard, NYU;\",\n",
      "        \"size\": 2\n",
      "    },\n",
      "    {\n",
      "        \"color\": \"GoldenRod\",\n",
      "        \"name\": \"Active Galaxy Science in the LSST Deep-Drilling Fields: Footprints, Cadence Requirements, and Total-Depth Requirements\",\n",
      "        \"size\": 28\n",
      "    },\n",
      "    {\n",
      "        \"color\": \"DarkBlue\",\n",
      "        \"name\": \"Blazars and Fast Radio Bursts with LSST\",\n",
      "        \"size\": 6\n",
      "    },\n",
      "    {\n",
      "        \"color\": \"DarkMagenta\",\n",
      "        \"name\": \"Calibrating Milky Way Maps: An LSST Bright() Star Survey\",\n",
      "        \"size\": 1\n",
      "    },\n",
      "    {\n",
      "        \"color\": \"Orange\",\n",
      "        \"name\": \"Characterizing Variable Stars in a Single Night with LSST\",\n",
      "        \"size\": 3\n",
      "    },\n",
      "    {\n",
      "        \"color\": \"DarkBlue\",\n",
      "        \"name\": \"Continuous Cadence Acquisition of the LSST Deep Drilling Fields\",\n",
      "        \"size\": 2\n",
      "    },\n",
      "    {\n",
      "        \"color\": \"DarkKhaki\",\n",
      "        \"name\": \"Deep Drilling Fields for Solar System Science\",\n",
      "        \"size\": 7\n",
      "    },\n",
      "    {\n",
      "        \"color\": \"CornflowerBlue\",\n",
      "        \"name\": \"Discovery of Strongly-lensed Gravitational Waves \\u2013Implications for the LSST Observing Strategy\",\n",
      "        \"size\": 6\n",
      "    },\n",
      "    {\n",
      "        \"color\": \"black\",\n",
      "        \"name\": \"Enabling Cosmological Synergies between the LSST and WFIRST High Latitude Survey\",\n",
      "        \"size\": 9\n",
      "    },\n",
      "    {\n",
      "        \"color\": \"DarkKhaki\",\n",
      "        \"name\": \"Enabling Deep All-Sky Searches of Outer Solar System Objects\",\n",
      "        \"size\": 13\n",
      "    },\n",
      "    {\n",
      "        \"color\": \"black\",\n",
      "        \"name\": \"Enhancing LSST Science with Euclid Synergy\",\n",
      "        \"size\": 26\n",
      "    },\n",
      "    {\n",
      "        \"color\": \"DarkMagenta\",\n",
      "        \"name\": \"Investigating the population of Galactic star formation regions and star clusters within a Wide-Fast-Deep Coverage of the Galactic Plane\",\n",
      "        \"size\": 2\n",
      "    },\n",
      "    {\n",
      "        \"color\": \"DarkBlue\",\n",
      "        \"name\": \"Large Synoptic Survey Telescope White Paper; The Case for Matching U-band on Deep Drilling Fields\",\n",
      "        \"size\": 15\n",
      "    },\n",
      "    {\n",
      "        \"color\": \"GoldenRod\",\n",
      "        \"name\": \"Leveraging Differential Chromatic Refraction in LSST\",\n",
      "        \"size\": 7\n",
      "    },\n",
      "    {\n",
      "        \"color\": \"black\",\n",
      "        \"name\": \"LSST Cadence Optimization White Paper in Support of Observations of Unresolved Tidal Stellar Streams in Galaxies beyond the Local Group\",\n",
      "        \"size\": 14\n",
      "    },\n",
      "    {\n",
      "        \"color\": \"DarkBlue\",\n",
      "        \"name\": \"LSST Local Volume mini-survey\",\n",
      "        \"size\": 21\n",
      "    },\n",
      "    {\n",
      "        \"color\": \"black\",\n",
      "        \"name\": \"LSST Observations of WFIRST Deep Fields\",\n",
      "        \"size\": 43\n",
      "    },\n",
      "    {\n",
      "        \"color\": \"DarkGreen\",\n",
      "        \"name\": \"LSST Target of Opportunity proposal for locating a core collapse supernova in our galaxy triggered by a neutrino supernova alert\",\n",
      "        \"size\": 3\n",
      "    },\n",
      "    {\n",
      "        \"color\": \"DarkMagenta\",\n",
      "        \"name\": \"Mapping the Periphery and Variability of the Magellanic Clouds\",\n",
      "        \"size\": 13\n",
      "    },\n",
      "    {\n",
      "        \"color\": \"Chocolate\",\n",
      "        \"name\": \"Maximizing the Joint Science Return of LSST and DESI\",\n",
      "        \"size\": 19\n",
      "    },\n",
      "    {\n",
      "        \"color\": \"black\",\n",
      "        \"name\": \"Mini-survey of the northern sky to Dec &lt; +30\",\n",
      "        \"size\": 28\n",
      "    },\n",
      "    {\n",
      "        \"color\": \"DarkGreen\",\n",
      "        \"name\": \"Optimizing the LSST Observing Strategy for Dark Energy Science:\\u00a0 DESC Recommendations for the Deep Drilling Fields and other Special Programs\",\n",
      "        \"size\": 24\n",
      "    },\n",
      "    {\n",
      "        \"color\": \"DarkGreen\",\n",
      "        \"name\": \"Optimizing the LSST Observing Strategy for Dark Energy Science: DESC Recommendations for the Wide-Fast-Deep Survey\",\n",
      "        \"size\": 35\n",
      "    },\n",
      "    {\n",
      "        \"color\": \"DarkBlue\",\n",
      "        \"name\": \"Presto-Color: An LSST Cadence for Explosive Physics &amp; Fast Transients\",\n",
      "        \"size\": 9\n",
      "    },\n",
      "    {\n",
      "        \"color\": \"black\",\n",
      "        \"name\": \"Searching for white dwarf transits with LSST\",\n",
      "        \"size\": 2\n",
      "    },\n",
      "    {\n",
      "        \"color\": \"DarkKhaki\",\n",
      "        \"name\": \"Simultaneous LSST and Euclid observations \\u2013advantages for Solar System Objects\",\n",
      "        \"size\": 21\n",
      "    },\n",
      "    {\n",
      "        \"color\": \"CornflowerBlue\",\n",
      "        \"name\": \"Strong Lensing considerations for the LSST observing strategy\",\n",
      "        \"size\": 5\n",
      "    },\n",
      "    {\n",
      "        \"color\": \"DarkBlue\",\n",
      "        \"name\": \"Target of Opportunity Observations of Gravitational Wave Events with LSST\",\n",
      "        \"size\": 72\n",
      "    },\n",
      "    {\n",
      "        \"color\": \"DarkBlue\",\n",
      "        \"name\": \"TDEs with LSST\",\n",
      "        \"size\": 2\n",
      "    },\n",
      "    {\n",
      "        \"color\": \"GoldenRod\",\n",
      "        \"name\": \"Testing of LSST AGN Selection Using Rolling Cadences\",\n",
      "        \"size\": 7\n",
      "    },\n",
      "    {\n",
      "        \"color\": \"DarkMagenta\",\n",
      "        \"name\": \"The Definitive Map of the Galactic bulge\",\n",
      "        \"size\": 17\n",
      "    },\n",
      "    {\n",
      "        \"color\": \"DarkKhaki\",\n",
      "        \"name\": \"The Effects of Filter Choice on Outer Solar System Science with LSST\",\n",
      "        \"size\": 9\n",
      "    },\n",
      "    {\n",
      "        \"color\": \"black\",\n",
      "        \"name\": \"The First Extragalactic Exoplanets \\u2014 What We Gain From High Cadence Observations of the Small Magellanic Cloud?\",\n",
      "        \"size\": 2\n",
      "    },\n",
      "    {\n",
      "        \"color\": \"DarkBlue\",\n",
      "        \"name\": \"The Gaia-LSST Synergy: resolved stellar populations in selected Local Group stellar systems\",\n",
      "        \"size\": 20\n",
      "    },\n",
      "    {\n",
      "        \"color\": \"DarkMagenta\",\n",
      "        \"name\": \"The Plane\\u2019s The Thing: The Case for Wide-Fast-Deep Coverage of the Galactic Plane and Bulge\",\n",
      "        \"size\": 27\n",
      "    },\n",
      "    {\n",
      "        \"color\": \"DarkBlue\",\n",
      "        \"name\": \"Unique Science from a Coordinated LSST-WFIRST Survey of the Galactic Bulge\",\n",
      "        \"size\": 22\n",
      "    },\n",
      "    {\n",
      "        \"color\": \"DarkMagenta\",\n",
      "        \"name\": \"unVEil the darknesS of The gAlactic bulge ()\",\n",
      "        \"size\": 57\n",
      "    },\n",
      "    {\n",
      "        \"color\": \"DarkBlue\",\n",
      "        \"name\": \"Unveiling the Rich and Diverse Universe of Subsecond Astrophysics through LSST Star Trails\",\n",
      "        \"size\": 12\n",
      "    },\n",
      "    {\n",
      "        \"color\": \"DarkKhaki\",\n",
      "        \"name\": \"Young Stars and their Variability with LSST\",\n",
      "        \"size\": 1\n",
      "    }\n",
      "]\n"
     ]
    }
   ],
   "source": [
    "sample_data = []\n",
    "for i in range(len(lenths)):\n",
    "    sample_data.append({\"name\": titles[i], \"size\": lenths[i], \"color\": sccolors[scs[fa[i]]]})\n",
    "    \n",
    "print(json.dumps(sample_data, sort_keys=True, indent=4))"
   ]
  },
  {
   "cell_type": "code",
   "execution_count": 50,
   "metadata": {
    "ExecuteTime": {
     "end_time": "2019-02-12T04:13:16.214992Z",
     "start_time": "2019-02-12T04:13:16.192316Z"
    },
    "run_control": {
     "frozen": false,
     "read_only": false
    }
   },
   "outputs": [],
   "source": [
    "x = 50 * np.cos(360/44/180*np.pi * np.arange(44))\n",
    "y = 50 * np.cos(360/44/180*np.pi * np.arange(44) + np.pi/2)\n",
    "strnamepos = []\n",
    "for i in range(len(lenths)):\n",
    "    strnamepos.append({\"name\": titles[i], \"x\": x[i], \"y\": y[i]})\n",
    "\n",
    "'''\n",
    "alldata = {}\n",
    "alldata[\"nodes\"] = []\n",
    "\n",
    "for i in range(len(lenths)):\n",
    "    alldata[\"nodes\"].append({\"name\": titles[i], \"x\": x[i], \"y\": y[i], \"size\": lenths[i]})\n",
    "\n",
    "alldata[\"edges\"] = connections\n",
    "\n",
    "with open('dataWP.json', 'w') as outfile:  \n",
    "    json.dump(alldata, outfile)\n",
    "\n",
    "    \n",
    "'''\n",
    "with open('dataWP.json', 'w') as outfile:  \n",
    "    json.dump(strnamepos, outfile)\n",
    "with open('dataWP.json', 'a') as outfile:  \n",
    "    json.dump(sample_data, outfile)\n",
    "with open('dataWP.json', 'w') as outfile:  \n",
    "    json.dump(connections, outfile)\n"
   ]
  },
  {
   "cell_type": "code",
   "execution_count": 43,
   "metadata": {
    "ExecuteTime": {
     "end_time": "2019-02-12T04:03:02.600059Z",
     "start_time": "2019-02-12T04:03:02.593548Z"
    },
    "run_control": {
     "frozen": false,
     "read_only": false
    }
   },
   "outputs": [],
   "source": [
    "x = 50 * np.cos(360/44/180*np.pi * np.arange(44))\n",
    "y = 50 * np.cos(360/44/180*np.pi * np.arange(44) + np.pi/2)"
   ]
  },
  {
   "cell_type": "code",
   "execution_count": 44,
   "metadata": {
    "ExecuteTime": {
     "end_time": "2019-02-12T04:03:02.926486Z",
     "start_time": "2019-02-12T04:03:02.917810Z"
    },
    "run_control": {
     "frozen": false,
     "read_only": false
    }
   },
   "outputs": [
    {
     "data": {
      "text/plain": [
       "(44,)"
      ]
     },
     "execution_count": 44,
     "metadata": {},
     "output_type": "execute_result"
    }
   ],
   "source": [
    "x.shape"
   ]
  },
  {
   "cell_type": "code",
   "execution_count": 45,
   "metadata": {
    "ExecuteTime": {
     "end_time": "2019-02-12T04:03:03.567782Z",
     "start_time": "2019-02-12T04:03:03.563745Z"
    },
    "run_control": {
     "frozen": false,
     "read_only": false
    }
   },
   "outputs": [],
   "source": [
    "f.close()"
   ]
  },
  {
   "cell_type": "code",
   "execution_count": 48,
   "metadata": {
    "ExecuteTime": {
     "end_time": "2019-02-12T04:10:42.880790Z",
     "start_time": "2019-02-12T04:10:42.699610Z"
    },
    "run_control": {
     "frozen": false,
     "read_only": false
    }
   },
   "outputs": [
    {
     "name": "stdout",
     "output_type": "stream",
     "text": [
      "{\"nodes\": [{\"name\": \"A Big Sky Approach to Cadence Diplomacy\", \"x\": 50.0, \"y\": 3.061616997868383e-15, \"size\": 10}, {\"name\": \"A Cadence to Reduce Aliasing in LSST\", \"x\": 49.491072094046636, \"y\": -7.11574191366425, \"size\": 4}, {\"name\": \"A Higher Cadence Subsurvey Located in the Galactic Plane\", \"x\": 47.97464868072487, \"y\": -14.086627842071483, \"size\": 7}, {\"name\": \"A Northern Ecliptic Survey for Solar System Science\", \"x\": 45.481599767725925, \"y\": -20.770750650094318, \"size\": 14}, {\"name\": \"A Smart and Colorful Cadence for the Wide-Fast Deep Survey\", \"x\": 42.06267664155906, \"y\": -27.032040872779877, \"size\": 5}, {\"name\": \"Kunal P. Mooley, Caltech; Tyler A. Pritchard, NYU;\", \"x\": 37.787478717712915, \"y\": -32.74303669726425, \"size\": 2}, {\"name\": \"Active Galaxy Science in the LSST Deep-Drilling Fields: Footprints, Cadence Requirements, and Total-Depth Requirements\", \"x\": 32.74303669726426, \"y\": -37.78747871771291, \"size\": 28}, {\"name\": \"Blazars and Fast Radio Bursts with LSST\", \"x\": 27.032040872779884, \"y\": -42.06267664155906, \"size\": 6}, {\"name\": \"Calibrating Milky Way Maps: An LSST Bright() Star Survey\", \"x\": 20.77075065009432, \"y\": -45.481599767725925, \"size\": 1}, {\"name\": \"Characterizing Variable Stars in a Single Night with LSST\", \"x\": 14.08662784207149, \"y\": -47.97464868072487, \"size\": 3}, {\"name\": \"Continuous Cadence Acquisition of the LSST Deep Drilling Fields\", \"x\": 7.115741913664256, \"y\": -49.491072094046636, \"size\": 2}, {\"name\": \"Deep Drilling Fields for Solar System Science\", \"x\": 3.061616997868383e-15, \"y\": -50.0, \"size\": 7}, {\"name\": \"Discovery of Strongly-lensed Gravitational Waves \\u2013Implications for the LSST Observing Strategy\", \"x\": -7.11574191366425, \"y\": -49.49107209404664, \"size\": 6}, {\"name\": \"Enabling Cosmological Synergies between the LSST and WFIRST High Latitude Survey\", \"x\": -14.086627842071483, \"y\": -47.974648680724876, \"size\": 9}, {\"name\": \"Enabling Deep All-Sky Searches of Outer Solar System Objects\", \"x\": -20.770750650094318, \"y\": -45.481599767725925, \"size\": 13}, {\"name\": \"Enhancing LSST Science with Euclid Synergy\", \"x\": -27.032040872779877, \"y\": -42.06267664155906, \"size\": 26}, {\"name\": \"Investigating the population of Galactic star formation regions and star clusters within a Wide-Fast-Deep Coverage of the Galactic Plane\", \"x\": -32.74303669726425, \"y\": -37.78747871771292, \"size\": 2}, {\"name\": \"Large Synoptic Survey Telescope White Paper; The Case for Matching U-band on Deep Drilling Fields\", \"x\": -37.78747871771291, \"y\": -32.74303669726426, \"size\": 15}, {\"name\": \"Leveraging Differential Chromatic Refraction in LSST\", \"x\": -42.06267664155906, \"y\": -27.032040872779874, \"size\": 7}, {\"name\": \"LSST Cadence Optimization White Paper in Support of Observations of Unresolved Tidal Stellar Streams in Galaxies beyond the Local Group\", \"x\": -45.481599767725925, \"y\": -20.770750650094318, \"size\": 14}, {\"name\": \"LSST Local Volume mini-survey\", \"x\": -47.97464868072487, \"y\": -14.086627842071483, \"size\": 21}, {\"name\": \"LSST Observations of WFIRST Deep Fields\", \"x\": -49.491072094046636, \"y\": -7.115741913664262, \"size\": 43}, {\"name\": \"LSST Target of Opportunity proposal for locating a core collapse supernova in our galaxy triggered by a neutrino supernova alert\", \"x\": -50.0, \"y\": -9.184850993605149e-15, \"size\": 3}, {\"name\": \"Mapping the Periphery and Variability of the Magellanic Clouds\", \"x\": -49.49107209404664, \"y\": 7.115741913664244, \"size\": 13}, {\"name\": \"Maximizing the Joint Science Return of LSST and DESI\", \"x\": -47.974648680724876, \"y\": 14.08662784207147, \"size\": 19}, {\"name\": \"Mini-survey of the northern sky to Dec &lt; +30\", \"x\": -45.48159976772592, \"y\": 20.770750650094342, \"size\": 28}, {\"name\": \"Optimizing the LSST Observing Strategy for Dark Energy Science:\\u00a0 DESC Recommendations for the Deep Drilling Fields and other Special Programs\", \"x\": -42.06267664155906, \"y\": 27.032040872779856, \"size\": 24}, {\"name\": \"Optimizing the LSST Observing Strategy for Dark Energy Science: DESC Recommendations for the Wide-Fast-Deep Survey\", \"x\": -37.78747871771292, \"y\": 32.74303669726426, \"size\": 35}, {\"name\": \"Presto-Color: An LSST Cadence for Explosive Physics &amp; Fast Transients\", \"x\": -32.74303669726426, \"y\": 37.787478717712894, \"size\": 9}, {\"name\": \"Searching for white dwarf transits with LSST\", \"x\": -27.032040872779874, \"y\": 42.06267664155906, \"size\": 2}, {\"name\": \"Simultaneous LSST and Euclid observations \\u2013advantages for Solar System Objects\", \"x\": -20.770750650094318, \"y\": 45.481599767725925, \"size\": 21}, {\"name\": \"Strong Lensing considerations for the LSST observing strategy\", \"x\": -14.086627842071483, \"y\": 47.97464868072487, \"size\": 5}, {\"name\": \"Target of Opportunity Observations of Gravitational Wave Events with LSST\", \"x\": -7.115741913664262, \"y\": 49.491072094046636, \"size\": 72}, {\"name\": \"TDEs with LSST\", \"x\": -9.184850993605149e-15, \"y\": 50.0, \"size\": 2}, {\"name\": \"Testing of LSST AGN Selection Using Rolling Cadences\", \"x\": 7.115741913664244, \"y\": 49.49107209404664, \"size\": 7}, {\"name\": \"The Definitive Map of the Galactic bulge\", \"x\": 14.08662784207147, \"y\": 47.974648680724876, \"size\": 17}, {\"name\": \"The Effects of Filter Choice on Outer Solar System Science with LSST\", \"x\": 20.770750650094303, \"y\": 45.481599767725925, \"size\": 9}, {\"name\": \"The First Extragalactic Exoplanets \\u2014 What We Gain From High Cadence Observations of the Small Magellanic Cloud?\", \"x\": 27.032040872779856, \"y\": 42.06267664155907, \"size\": 2}, {\"name\": \"The Gaia-LSST Synergy: resolved stellar populations in selected Local Group stellar systems\", \"x\": 32.74303669726426, \"y\": 37.78747871771291, \"size\": 20}, {\"name\": \"The Plane\\u2019s The Thing: The Case for Wide-Fast-Deep Coverage of the Galactic Plane and Bulge\", \"x\": 37.78747871771292, \"y\": 32.74303669726425, \"size\": 27}, {\"name\": \"Unique Science from a Coordinated LSST-WFIRST Survey of the Galactic Bulge\", \"x\": 42.06267664155906, \"y\": 27.032040872779877, \"size\": 22}, {\"name\": \"unVEil the darknesS of The gAlactic bulge ()\", \"x\": 45.481599767725925, \"y\": 20.770750650094325, \"size\": 57}, {\"name\": \"Unveiling the Rich and Diverse Universe of Subsecond Astrophysics through LSST Star Trails\", \"x\": 47.97464868072487, \"y\": 14.086627842071492, \"size\": 12}, {\"name\": \"Young Stars and their Variability with LSST\", \"x\": 49.491072094046636, \"y\": 7.115741913664269, \"size\": 1}], \"edges\": [{\"source\": \"A Big Sky Approach to Cadence Diplomacy\", \"target\": \"Mapping the Periphery and Variability of the Magellanic Clouds\"}, {\"source\": \"A Big Sky Approach to Cadence Diplomacy\", \"target\": \"Maximizing the Joint Science Return of LSST and DESI\"}, {\"source\": \"A Big Sky Approach to Cadence Diplomacy\", \"target\": \"Mini-survey of the northern sky to Dec &lt; +30\"}, {\"source\": \"A Big Sky Approach to Cadence Diplomacy\", \"target\": \"Mapping the Periphery and Variability of the Magellanic Clouds\"}, {\"source\": \"A Big Sky Approach to Cadence Diplomacy\", \"target\": \"The Gaia-LSST Synergy: resolved stellar populations in selected Local Group stellar systems\"}, {\"source\": \"A Big Sky Approach to Cadence Diplomacy\", \"target\": \"A Northern Ecliptic Survey for Solar System Science\"}, {\"source\": \"A Big Sky Approach to Cadence Diplomacy\", \"target\": \"Enabling Deep All-Sky Searches of Outer Solar System Objects\"}, {\"source\": \"A Big Sky Approach to Cadence Diplomacy\", \"target\": \"Simultaneous LSST and Euclid observations \\u2013advantages for Solar System Objects\"}, {\"source\": \"A Big Sky Approach to Cadence Diplomacy\", \"target\": \"The Effects of Filter Choice on Outer Solar System Science with LSST\"}, {\"source\": \"A Big Sky Approach to Cadence Diplomacy\", \"target\": \"A Northern Ecliptic Survey for Solar System Science\"}, {\"source\": \"A Big Sky Approach to Cadence Diplomacy\", \"target\": \"Deep Drilling Fields for Solar System Science\"}, {\"source\": \"A Big Sky Approach to Cadence Diplomacy\", \"target\": \"Enabling Deep All-Sky Searches of Outer Solar System Objects\"}, {\"source\": \"A Big Sky Approach to Cadence Diplomacy\", \"target\": \"The Effects of Filter Choice on Outer Solar System Science with LSST\"}, {\"source\": \"A Big Sky Approach to Cadence Diplomacy\", \"target\": \"A Northern Ecliptic Survey for Solar System Science\"}, {\"source\": \"A Big Sky Approach to Cadence Diplomacy\", \"target\": \"The Effects of Filter Choice on Outer Solar System Science with LSST\"}, {\"source\": \"A Big Sky Approach to Cadence Diplomacy\", \"target\": \"Optimizing the LSST Observing Strategy for Dark Energy Science:\\u00a0 DESC Recommendations for the Deep Drilling Fields and other Special Programs\"}, {\"source\": \"A Big Sky Approach to Cadence Diplomacy\", \"target\": \"Optimizing the LSST Observing Strategy for Dark Energy Science: DESC Recommendations for the Wide-Fast-Deep Survey\"}, {\"source\": \"A Big Sky Approach to Cadence Diplomacy\", \"target\": \"Optimizing the LSST Observing Strategy for Dark Energy Science:\\u00a0 DESC Recommendations for the Deep Drilling Fields and other Special Programs\"}, {\"source\": \"A Big Sky Approach to Cadence Diplomacy\", \"target\": \"Optimizing the LSST Observing Strategy for Dark Energy Science: DESC Recommendations for the Wide-Fast-Deep Survey\"}, {\"source\": \"A Big Sky Approach to Cadence Diplomacy\", \"target\": \"LSST Observations of WFIRST Deep Fields\"}, {\"source\": \"A Big Sky Approach to Cadence Diplomacy\", \"target\": \"Optimizing the LSST Observing Strategy for Dark Energy Science:\\u00a0 DESC Recommendations for the Deep Drilling Fields and other Special Programs\"}, {\"source\": \"A Big Sky Approach to Cadence Diplomacy\", \"target\": \"Optimizing the LSST Observing Strategy for Dark Energy Science: DESC Recommendations for the Wide-Fast-Deep Survey\"}, {\"source\": \"A Big Sky Approach to Cadence Diplomacy\", \"target\": \"Maximizing the Joint Science Return of LSST and DESI\"}, {\"source\": \"A Big Sky Approach to Cadence Diplomacy\", \"target\": \"Mini-survey of the northern sky to Dec &lt; +30\"}, {\"source\": \"A Big Sky Approach to Cadence Diplomacy\", \"target\": \"Maximizing the Joint Science Return of LSST and DESI\"}, {\"source\": \"A Big Sky Approach to Cadence Diplomacy\", \"target\": \"Mini-survey of the northern sky to Dec &lt; +30\"}, {\"source\": \"A Cadence to Reduce Aliasing in LSST\", \"target\": \"A Higher Cadence Subsurvey Located in the Galactic Plane\"}, {\"source\": \"A Cadence to Reduce Aliasing in LSST\", \"target\": \"Continuous Cadence Acquisition of the LSST Deep Drilling Fields\"}, {\"source\": \"A Cadence to Reduce Aliasing in LSST\", \"target\": \"A Higher Cadence Subsurvey Located in the Galactic Plane\"}, {\"source\": \"A Cadence to Reduce Aliasing in LSST\", \"target\": \"Unique Science from a Coordinated LSST-WFIRST Survey of the Galactic Bulge\"}, {\"source\": \"A Cadence to Reduce Aliasing in LSST\", \"target\": \"unVEil the darknesS of The gAlactic bulge ()\"}, {\"source\": \"A Higher Cadence Subsurvey Located in the Galactic Plane\", \"target\": \"A Cadence to Reduce Aliasing in LSST\"}, {\"source\": \"A Higher Cadence Subsurvey Located in the Galactic Plane\", \"target\": \"Unique Science from a Coordinated LSST-WFIRST Survey of the Galactic Bulge\"}, {\"source\": \"A Higher Cadence Subsurvey Located in the Galactic Plane\", \"target\": \"Unique Science from a Coordinated LSST-WFIRST Survey of the Galactic Bulge\"}, {\"source\": \"A Higher Cadence Subsurvey Located in the Galactic Plane\", \"target\": \"Unique Science from a Coordinated LSST-WFIRST Survey of the Galactic Bulge\"}, {\"source\": \"A Higher Cadence Subsurvey Located in the Galactic Plane\", \"target\": \"A Cadence to Reduce Aliasing in LSST\"}, {\"source\": \"A Higher Cadence Subsurvey Located in the Galactic Plane\", \"target\": \"Continuous Cadence Acquisition of the LSST Deep Drilling Fields\"}, {\"source\": \"A Northern Ecliptic Survey for Solar System Science\", \"target\": \"A Big Sky Approach to Cadence Diplomacy\"}, {\"source\": \"A Northern Ecliptic Survey for Solar System Science\", \"target\": \"Deep Drilling Fields for Solar System Science\"}, {\"source\": \"A Northern Ecliptic Survey for Solar System Science\", \"target\": \"Enabling Deep All-Sky Searches of Outer Solar System Objects\"}, {\"source\": \"A Northern Ecliptic Survey for Solar System Science\", \"target\": \"The Effects of Filter Choice on Outer Solar System Science with LSST\"}, {\"source\": \"A Northern Ecliptic Survey for Solar System Science\", \"target\": \"The Effects of Filter Choice on Outer Solar System Science with LSST\"}, {\"source\": \"A Northern Ecliptic Survey for Solar System Science\", \"target\": \"A Big Sky Approach to Cadence Diplomacy\"}, {\"source\": \"A Northern Ecliptic Survey for Solar System Science\", \"target\": \"The Effects of Filter Choice on Outer Solar System Science with LSST\"}, {\"source\": \"A Northern Ecliptic Survey for Solar System Science\", \"target\": \"The Effects of Filter Choice on Outer Solar System Science with LSST\"}, {\"source\": \"A Northern Ecliptic Survey for Solar System Science\", \"target\": \"Deep Drilling Fields for Solar System Science\"}, {\"source\": \"A Northern Ecliptic Survey for Solar System Science\", \"target\": \"The Effects of Filter Choice on Outer Solar System Science with LSST\"}, {\"source\": \"A Northern Ecliptic Survey for Solar System Science\", \"target\": \"A Big Sky Approach to Cadence Diplomacy\"}, {\"source\": \"A Northern Ecliptic Survey for Solar System Science\", \"target\": \"Enabling Deep All-Sky Searches of Outer Solar System Objects\"}, {\"source\": \"A Northern Ecliptic Survey for Solar System Science\", \"target\": \"Simultaneous LSST and Euclid observations \\u2013advantages for Solar System Objects\"}, {\"source\": \"A Northern Ecliptic Survey for Solar System Science\", \"target\": \"The Effects of Filter Choice on Outer Solar System Science with LSST\"}, {\"source\": \"A Northern Ecliptic Survey for Solar System Science\", \"target\": \"Deep Drilling Fields for Solar System Science\"}, {\"source\": \"A Northern Ecliptic Survey for Solar System Science\", \"target\": \"Enabling Deep All-Sky Searches of Outer Solar System Objects\"}, {\"source\": \"A Northern Ecliptic Survey for Solar System Science\", \"target\": \"Simultaneous LSST and Euclid observations \\u2013advantages for Solar System Objects\"}, {\"source\": \"A Northern Ecliptic Survey for Solar System Science\", \"target\": \"Simultaneous LSST and Euclid observations \\u2013advantages for Solar System Objects\"}, {\"source\": \"A Northern Ecliptic Survey for Solar System Science\", \"target\": \"The Effects of Filter Choice on Outer Solar System Science with LSST\"}, {\"source\": \"A Northern Ecliptic Survey for Solar System Science\", \"target\": \"The Effects of Filter Choice on Outer Solar System Science with LSST\"}, {\"source\": \"A Northern Ecliptic Survey for Solar System Science\", \"target\": \"Enabling Deep All-Sky Searches of Outer Solar System Objects\"}, {\"source\": \"A Northern Ecliptic Survey for Solar System Science\", \"target\": \"Simultaneous LSST and Euclid observations \\u2013advantages for Solar System Objects\"}, {\"source\": \"A Smart and Colorful Cadence for the Wide-Fast Deep Survey\", \"target\": \"Active Galaxy Science in the LSST Deep-Drilling Fields: Footprints, Cadence Requirements, and Total-Depth Requirements\"}, {\"source\": \"A Smart and Colorful Cadence for the Wide-Fast Deep Survey\", \"target\": \"Target of Opportunity Observations of Gravitational Wave Events with LSST\"}, {\"source\": \"A Smart and Colorful Cadence for the Wide-Fast Deep Survey\", \"target\": \"Target of Opportunity Observations of Gravitational Wave Events with LSST\"}, {\"source\": \"Kunal P. Mooley, Caltech; Tyler A. Pritchard, NYU;\", \"target\": \"Target of Opportunity Observations of Gravitational Wave Events with LSST\"}, {\"source\": \"Active Galaxy Science in the LSST Deep-Drilling Fields: Footprints, Cadence Requirements, and Total-Depth Requirements\", \"target\": \"Testing of LSST AGN Selection Using Rolling Cadences\"}, {\"source\": \"Active Galaxy Science in the LSST Deep-Drilling Fields: Footprints, Cadence Requirements, and Total-Depth Requirements\", \"target\": \"Testing of LSST AGN Selection Using Rolling Cadences\"}, {\"source\": \"Active Galaxy Science in the LSST Deep-Drilling Fields: Footprints, Cadence Requirements, and Total-Depth Requirements\", \"target\": \"Testing of LSST AGN Selection Using Rolling Cadences\"}, {\"source\": \"Active Galaxy Science in the LSST Deep-Drilling Fields: Footprints, Cadence Requirements, and Total-Depth Requirements\", \"target\": \"Leveraging Differential Chromatic Refraction in LSST\"}, {\"source\": \"Active Galaxy Science in the LSST Deep-Drilling Fields: Footprints, Cadence Requirements, and Total-Depth Requirements\", \"target\": \"Testing of LSST AGN Selection Using Rolling Cadences\"}, {\"source\": \"Active Galaxy Science in the LSST Deep-Drilling Fields: Footprints, Cadence Requirements, and Total-Depth Requirements\", \"target\": \"A Smart and Colorful Cadence for the Wide-Fast Deep Survey\"}, {\"source\": \"Active Galaxy Science in the LSST Deep-Drilling Fields: Footprints, Cadence Requirements, and Total-Depth Requirements\", \"target\": \"Leveraging Differential Chromatic Refraction in LSST\"}, {\"source\": \"Active Galaxy Science in the LSST Deep-Drilling Fields: Footprints, Cadence Requirements, and Total-Depth Requirements\", \"target\": \"Testing of LSST AGN Selection Using Rolling Cadences\"}, {\"source\": \"Blazars and Fast Radio Bursts with LSST\", \"target\": \"Unveiling the Rich and Diverse Universe of Subsecond Astrophysics through LSST Star Trails\"}, {\"source\": \"Blazars and Fast Radio Bursts with LSST\", \"target\": \"Target of Opportunity Observations of Gravitational Wave Events with LSST\"}, {\"source\": \"Blazars and Fast Radio Bursts with LSST\", \"target\": \"Target of Opportunity Observations of Gravitational Wave Events with LSST\"}, {\"source\": \"Blazars and Fast Radio Bursts with LSST\", \"target\": \"Target of Opportunity Observations of Gravitational Wave Events with LSST\"}, {\"source\": \"Blazars and Fast Radio Bursts with LSST\", \"target\": \"Target of Opportunity Observations of Gravitational Wave Events with LSST\"}, {\"source\": \"Calibrating Milky Way Maps: An LSST Bright() Star Survey\", \"target\": \"The Definitive Map of the Galactic bulge\"}, {\"source\": \"Calibrating Milky Way Maps: An LSST Bright() Star Survey\", \"target\": \"The Plane\\u2019s The Thing: The Case for Wide-Fast-Deep Coverage of the Galactic Plane and Bulge\"}, {\"source\": \"Characterizing Variable Stars in a Single Night with LSST\", \"target\": \"LSST Observations of WFIRST Deep Fields\"}, {\"source\": \"Characterizing Variable Stars in a Single Night with LSST\", \"target\": \"Presto-Color: An LSST Cadence for Explosive Physics &amp; Fast Transients\"}, {\"source\": \"Characterizing Variable Stars in a Single Night with LSST\", \"target\": \"Target of Opportunity Observations of Gravitational Wave Events with LSST\"}, {\"source\": \"Characterizing Variable Stars in a Single Night with LSST\", \"target\": \"Unveiling the Rich and Diverse Universe of Subsecond Astrophysics through LSST Star Trails\"}, {\"source\": \"Continuous Cadence Acquisition of the LSST Deep Drilling Fields\", \"target\": \"A Cadence to Reduce Aliasing in LSST\"}, {\"source\": \"Continuous Cadence Acquisition of the LSST Deep Drilling Fields\", \"target\": \"A Higher Cadence Subsurvey Located in the Galactic Plane\"}, {\"source\": \"Deep Drilling Fields for Solar System Science\", \"target\": \"Enabling Deep All-Sky Searches of Outer Solar System Objects\"}, {\"source\": \"Deep Drilling Fields for Solar System Science\", \"target\": \"A Northern Ecliptic Survey for Solar System Science\"}, {\"source\": \"Deep Drilling Fields for Solar System Science\", \"target\": \"The Effects of Filter Choice on Outer Solar System Science with LSST\"}, {\"source\": \"Deep Drilling Fields for Solar System Science\", \"target\": \"Enabling Deep All-Sky Searches of Outer Solar System Objects\"}, {\"source\": \"Deep Drilling Fields for Solar System Science\", \"target\": \"A Northern Ecliptic Survey for Solar System Science\"}, {\"source\": \"Deep Drilling Fields for Solar System Science\", \"target\": \"Enabling Deep All-Sky Searches of Outer Solar System Objects\"}, {\"source\": \"Deep Drilling Fields for Solar System Science\", \"target\": \"Simultaneous LSST and Euclid observations \\u2013advantages for Solar System Objects\"}, {\"source\": \"Deep Drilling Fields for Solar System Science\", \"target\": \"A Big Sky Approach to Cadence Diplomacy\"}, {\"source\": \"Deep Drilling Fields for Solar System Science\", \"target\": \"A Northern Ecliptic Survey for Solar System Science\"}, {\"source\": \"Deep Drilling Fields for Solar System Science\", \"target\": \"Enabling Deep All-Sky Searches of Outer Solar System Objects\"}, {\"source\": \"Deep Drilling Fields for Solar System Science\", \"target\": \"The Effects of Filter Choice on Outer Solar System Science with LSST\"}, {\"source\": \"Deep Drilling Fields for Solar System Science\", \"target\": \"LSST Cadence Optimization White Paper in Support of Observations of Unresolved Tidal Stellar Streams in Galaxies beyond the Local Group\"}, {\"source\": \"Discovery of Strongly-lensed Gravitational Waves \\u2013Implications for the LSST Observing Strategy\", \"target\": \"Strong Lensing considerations for the LSST observing strategy\"}, {\"source\": \"Discovery of Strongly-lensed Gravitational Waves \\u2013Implications for the LSST Observing Strategy\", \"target\": \"Enhancing LSST Science with Euclid Synergy\"}, {\"source\": \"Discovery of Strongly-lensed Gravitational Waves \\u2013Implications for the LSST Observing Strategy\", \"target\": \"LSST Observations of WFIRST Deep Fields\"}, {\"source\": \"Discovery of Strongly-lensed Gravitational Waves \\u2013Implications for the LSST Observing Strategy\", \"target\": \"Mini-survey of the northern sky to Dec &lt; +30\"}, {\"source\": \"Discovery of Strongly-lensed Gravitational Waves \\u2013Implications for the LSST Observing Strategy\", \"target\": \"Strong Lensing considerations for the LSST observing strategy\"}, {\"source\": \"Enabling Cosmological Synergies between the LSST and WFIRST High Latitude Survey\", \"target\": \"LSST Observations of WFIRST Deep Fields\"}, {\"source\": \"Enabling Cosmological Synergies between the LSST and WFIRST High Latitude Survey\", \"target\": \"Enhancing LSST Science with Euclid Synergy\"}, {\"source\": \"Enabling Cosmological Synergies between the LSST and WFIRST High Latitude Survey\", \"target\": \"Maximizing the Joint Science Return of LSST and DESI\"}, {\"source\": \"Enabling Cosmological Synergies between the LSST and WFIRST High Latitude Survey\", \"target\": \"Mini-survey of the northern sky to Dec &lt; +30\"}, {\"source\": \"Enabling Cosmological Synergies between the LSST and WFIRST High Latitude Survey\", \"target\": \"Optimizing the LSST Observing Strategy for Dark Energy Science: DESC Recommendations for the Wide-Fast-Deep Survey\"}, {\"source\": \"Enabling Cosmological Synergies between the LSST and WFIRST High Latitude Survey\", \"target\": \"Enhancing LSST Science with Euclid Synergy\"}, {\"source\": \"Enabling Cosmological Synergies between the LSST and WFIRST High Latitude Survey\", \"target\": \"LSST Observations of WFIRST Deep Fields\"}, {\"source\": \"Enabling Cosmological Synergies between the LSST and WFIRST High Latitude Survey\", \"target\": \"Mini-survey of the northern sky to Dec &lt; +30\"}, {\"source\": \"Enabling Cosmological Synergies between the LSST and WFIRST High Latitude Survey\", \"target\": \"Large Synoptic Survey Telescope White Paper; The Case for Matching U-band on Deep Drilling Fields\"}, {\"source\": \"Enabling Cosmological Synergies between the LSST and WFIRST High Latitude Survey\", \"target\": \"Optimizing the LSST Observing Strategy for Dark Energy Science: DESC Recommendations for the Wide-Fast-Deep Survey\"}, {\"source\": \"Enabling Cosmological Synergies between the LSST and WFIRST High Latitude Survey\", \"target\": \"Maximizing the Joint Science Return of LSST and DESI\"}, {\"source\": \"Enabling Cosmological Synergies between the LSST and WFIRST High Latitude Survey\", \"target\": \"Optimizing the LSST Observing Strategy for Dark Energy Science:\\u00a0 DESC Recommendations for the Deep Drilling Fields and other Special Programs\"}, {\"source\": \"Enabling Cosmological Synergies between the LSST and WFIRST High Latitude Survey\", \"target\": \"Optimizing the LSST Observing Strategy for Dark Energy Science: DESC Recommendations for the Wide-Fast-Deep Survey\"}, {\"source\": \"Enabling Deep All-Sky Searches of Outer Solar System Objects\", \"target\": \"A Northern Ecliptic Survey for Solar System Science\"}, {\"source\": \"Enabling Deep All-Sky Searches of Outer Solar System Objects\", \"target\": \"Simultaneous LSST and Euclid observations \\u2013advantages for Solar System Objects\"}, {\"source\": \"Enabling Deep All-Sky Searches of Outer Solar System Objects\", \"target\": \"A Big Sky Approach to Cadence Diplomacy\"}, {\"source\": \"Enabling Deep All-Sky Searches of Outer Solar System Objects\", \"target\": \"A Northern Ecliptic Survey for Solar System Science\"}, {\"source\": \"Enabling Deep All-Sky Searches of Outer Solar System Objects\", \"target\": \"Simultaneous LSST and Euclid observations \\u2013advantages for Solar System Objects\"}, {\"source\": \"Enabling Deep All-Sky Searches of Outer Solar System Objects\", \"target\": \"The Effects of Filter Choice on Outer Solar System Science with LSST\"}, {\"source\": \"Enabling Deep All-Sky Searches of Outer Solar System Objects\", \"target\": \"Leveraging Differential Chromatic Refraction in LSST\"}, {\"source\": \"Enabling Deep All-Sky Searches of Outer Solar System Objects\", \"target\": \"The Effects of Filter Choice on Outer Solar System Science with LSST\"}, {\"source\": \"Enabling Deep All-Sky Searches of Outer Solar System Objects\", \"target\": \"Deep Drilling Fields for Solar System Science\"}, {\"source\": \"Enabling Deep All-Sky Searches of Outer Solar System Objects\", \"target\": \"A Big Sky Approach to Cadence Diplomacy\"}, {\"source\": \"Enabling Deep All-Sky Searches of Outer Solar System Objects\", \"target\": \"A Northern Ecliptic Survey for Solar System Science\"}, {\"source\": \"Enabling Deep All-Sky Searches of Outer Solar System Objects\", \"target\": \"Deep Drilling Fields for Solar System Science\"}, {\"source\": \"Enabling Deep All-Sky Searches of Outer Solar System Objects\", \"target\": \"The Effects of Filter Choice on Outer Solar System Science with LSST\"}, {\"source\": \"Enabling Deep All-Sky Searches of Outer Solar System Objects\", \"target\": \"Deep Drilling Fields for Solar System Science\"}, {\"source\": \"Enabling Deep All-Sky Searches of Outer Solar System Objects\", \"target\": \"A Northern Ecliptic Survey for Solar System Science\"}, {\"source\": \"Enabling Deep All-Sky Searches of Outer Solar System Objects\", \"target\": \"Deep Drilling Fields for Solar System Science\"}, {\"source\": \"Enabling Deep All-Sky Searches of Outer Solar System Objects\", \"target\": \"Simultaneous LSST and Euclid observations \\u2013advantages for Solar System Objects\"}, {\"source\": \"Enhancing LSST Science with Euclid Synergy\", \"target\": \"LSST Observations of WFIRST Deep Fields\"}, {\"source\": \"Enhancing LSST Science with Euclid Synergy\", \"target\": \"Mini-survey of the northern sky to Dec &lt; +30\"}, {\"source\": \"Enhancing LSST Science with Euclid Synergy\", \"target\": \"Mini-survey of the northern sky to Dec &lt; +30\"}, {\"source\": \"Enhancing LSST Science with Euclid Synergy\", \"target\": \"Mini-survey of the northern sky to Dec &lt; +30\"}, {\"source\": \"Enhancing LSST Science with Euclid Synergy\", \"target\": \"Mini-survey of the northern sky to Dec &lt; +30\"}, {\"source\": \"Enhancing LSST Science with Euclid Synergy\", \"target\": \"Mini-survey of the northern sky to Dec &lt; +30\"}, {\"source\": \"Enhancing LSST Science with Euclid Synergy\", \"target\": \"Optimizing the LSST Observing Strategy for Dark Energy Science:\\u00a0 DESC Recommendations for the Deep Drilling Fields and other Special Programs\"}, {\"source\": \"Enhancing LSST Science with Euclid Synergy\", \"target\": \"Optimizing the LSST Observing Strategy for Dark Energy Science: DESC Recommendations for the Wide-Fast-Deep Survey\"}, {\"source\": \"Enhancing LSST Science with Euclid Synergy\", \"target\": \"LSST Cadence Optimization White Paper in Support of Observations of Unresolved Tidal Stellar Streams in Galaxies beyond the Local Group\"}, {\"source\": \"Enhancing LSST Science with Euclid Synergy\", \"target\": \"Mini-survey of the northern sky to Dec &lt; +30\"}, {\"source\": \"Enhancing LSST Science with Euclid Synergy\", \"target\": \"Mini-survey of the northern sky to Dec &lt; +30\"}, {\"source\": \"Enhancing LSST Science with Euclid Synergy\", \"target\": \"Optimizing the LSST Observing Strategy for Dark Energy Science:\\u00a0 DESC Recommendations for the Deep Drilling Fields and other Special Programs\"}, {\"source\": \"Enhancing LSST Science with Euclid Synergy\", \"target\": \"Optimizing the LSST Observing Strategy for Dark Energy Science: DESC Recommendations for the Wide-Fast-Deep Survey\"}, {\"source\": \"Enhancing LSST Science with Euclid Synergy\", \"target\": \"Enabling Cosmological Synergies between the LSST and WFIRST High Latitude Survey\"}, {\"source\": \"Enhancing LSST Science with Euclid Synergy\", \"target\": \"Maximizing the Joint Science Return of LSST and DESI\"}, {\"source\": \"Enhancing LSST Science with Euclid Synergy\", \"target\": \"Mini-survey of the northern sky to Dec &lt; +30\"}, {\"source\": \"Enhancing LSST Science with Euclid Synergy\", \"target\": \"Optimizing the LSST Observing Strategy for Dark Energy Science: DESC Recommendations for the Wide-Fast-Deep Survey\"}, {\"source\": \"Enhancing LSST Science with Euclid Synergy\", \"target\": \"Enabling Cosmological Synergies between the LSST and WFIRST High Latitude Survey\"}, {\"source\": \"Enhancing LSST Science with Euclid Synergy\", \"target\": \"LSST Observations of WFIRST Deep Fields\"}, {\"source\": \"Enhancing LSST Science with Euclid Synergy\", \"target\": \"Mini-survey of the northern sky to Dec &lt; +30\"}, {\"source\": \"Enhancing LSST Science with Euclid Synergy\", \"target\": \"Mini-survey of the northern sky to Dec &lt; +30\"}, {\"source\": \"Enhancing LSST Science with Euclid Synergy\", \"target\": \"Optimizing the LSST Observing Strategy for Dark Energy Science:\\u00a0 DESC Recommendations for the Deep Drilling Fields and other Special Programs\"}, {\"source\": \"Enhancing LSST Science with Euclid Synergy\", \"target\": \"Optimizing the LSST Observing Strategy for Dark Energy Science: DESC Recommendations for the Wide-Fast-Deep Survey\"}, {\"source\": \"Enhancing LSST Science with Euclid Synergy\", \"target\": \"Mini-survey of the northern sky to Dec &lt; +30\"}, {\"source\": \"Enhancing LSST Science with Euclid Synergy\", \"target\": \"Optimizing the LSST Observing Strategy for Dark Energy Science:\\u00a0 DESC Recommendations for the Deep Drilling Fields and other Special Programs\"}, {\"source\": \"Enhancing LSST Science with Euclid Synergy\", \"target\": \"Optimizing the LSST Observing Strategy for Dark Energy Science: DESC Recommendations for the Wide-Fast-Deep Survey\"}, {\"source\": \"Enhancing LSST Science with Euclid Synergy\", \"target\": \"Mini-survey of the northern sky to Dec &lt; +30\"}, {\"source\": \"Enhancing LSST Science with Euclid Synergy\", \"target\": \"LSST Observations of WFIRST Deep Fields\"}, {\"source\": \"Enhancing LSST Science with Euclid Synergy\", \"target\": \"Mini-survey of the northern sky to Dec &lt; +30\"}, {\"source\": \"Enhancing LSST Science with Euclid Synergy\", \"target\": \"Optimizing the LSST Observing Strategy for Dark Energy Science:\\u00a0 DESC Recommendations for the Deep Drilling Fields and other Special Programs\"}, {\"source\": \"Enhancing LSST Science with Euclid Synergy\", \"target\": \"Optimizing the LSST Observing Strategy for Dark Energy Science: DESC Recommendations for the Wide-Fast-Deep Survey\"}, {\"source\": \"Enhancing LSST Science with Euclid Synergy\", \"target\": \"Discovery of Strongly-lensed Gravitational Waves \\u2013Implications for the LSST Observing Strategy\"}, {\"source\": \"Enhancing LSST Science with Euclid Synergy\", \"target\": \"LSST Observations of WFIRST Deep Fields\"}, {\"source\": \"Enhancing LSST Science with Euclid Synergy\", \"target\": \"Mini-survey of the northern sky to Dec &lt; +30\"}, {\"source\": \"Enhancing LSST Science with Euclid Synergy\", \"target\": \"LSST Observations of WFIRST Deep Fields\"}, {\"source\": \"Enhancing LSST Science with Euclid Synergy\", \"target\": \"Mini-survey of the northern sky to Dec &lt; +30\"}, {\"source\": \"Enhancing LSST Science with Euclid Synergy\", \"target\": \"Mini-survey of the northern sky to Dec &lt; +30\"}, {\"source\": \"Enhancing LSST Science with Euclid Synergy\", \"target\": \"LSST Observations of WFIRST Deep Fields\"}, {\"source\": \"Enhancing LSST Science with Euclid Synergy\", \"target\": \"LSST Target of Opportunity proposal for locating a core collapse supernova in our galaxy triggered by a neutrino supernova alert\"}, {\"source\": \"Enhancing LSST Science with Euclid Synergy\", \"target\": \"Mini-survey of the northern sky to Dec &lt; +30\"}, {\"source\": \"Enhancing LSST Science with Euclid Synergy\", \"target\": \"Optimizing the LSST Observing Strategy for Dark Energy Science:\\u00a0 DESC Recommendations for the Deep Drilling Fields and other Special Programs\"}, {\"source\": \"Enhancing LSST Science with Euclid Synergy\", \"target\": \"Optimizing the LSST Observing Strategy for Dark Energy Science: DESC Recommendations for the Wide-Fast-Deep Survey\"}, {\"source\": \"Enhancing LSST Science with Euclid Synergy\", \"target\": \"Target of Opportunity Observations of Gravitational Wave Events with LSST\"}, {\"source\": \"Enhancing LSST Science with Euclid Synergy\", \"target\": \"Mini-survey of the northern sky to Dec &lt; +30\"}, {\"source\": \"Enhancing LSST Science with Euclid Synergy\", \"target\": \"Mini-survey of the northern sky to Dec &lt; +30\"}, {\"source\": \"Enhancing LSST Science with Euclid Synergy\", \"target\": \"LSST Observations of WFIRST Deep Fields\"}, {\"source\": \"Enhancing LSST Science with Euclid Synergy\", \"target\": \"Mini-survey of the northern sky to Dec &lt; +30\"}, {\"source\": \"Enhancing LSST Science with Euclid Synergy\", \"target\": \"Mini-survey of the northern sky to Dec &lt; +30\"}, {\"source\": \"Investigating the population of Galactic star formation regions and star clusters within a Wide-Fast-Deep Coverage of the Galactic Plane\", \"target\": \"unVEil the darknesS of The gAlactic bulge ()\"}, {\"source\": \"Large Synoptic Survey Telescope White Paper; The Case for Matching U-band on Deep Drilling Fields\", \"target\": \"LSST Observations of WFIRST Deep Fields\"}, {\"source\": \"Large Synoptic Survey Telescope White Paper; The Case for Matching U-band on Deep Drilling Fields\", \"target\": \"Enabling Cosmological Synergies between the LSST and WFIRST High Latitude Survey\"}, {\"source\": \"Large Synoptic Survey Telescope White Paper; The Case for Matching U-band on Deep Drilling Fields\", \"target\": \"Optimizing the LSST Observing Strategy for Dark Energy Science: DESC Recommendations for the Wide-Fast-Deep Survey\"}, {\"source\": \"Leveraging Differential Chromatic Refraction in LSST\", \"target\": \"Active Galaxy Science in the LSST Deep-Drilling Fields: Footprints, Cadence Requirements, and Total-Depth Requirements\"}, {\"source\": \"Leveraging Differential Chromatic Refraction in LSST\", \"target\": \"Testing of LSST AGN Selection Using Rolling Cadences\"}, {\"source\": \"Leveraging Differential Chromatic Refraction in LSST\", \"target\": \"Testing of LSST AGN Selection Using Rolling Cadences\"}, {\"source\": \"Leveraging Differential Chromatic Refraction in LSST\", \"target\": \"Enabling Deep All-Sky Searches of Outer Solar System Objects\"}, {\"source\": \"Leveraging Differential Chromatic Refraction in LSST\", \"target\": \"Active Galaxy Science in the LSST Deep-Drilling Fields: Footprints, Cadence Requirements, and Total-Depth Requirements\"}, {\"source\": \"Leveraging Differential Chromatic Refraction in LSST\", \"target\": \"Testing of LSST AGN Selection Using Rolling Cadences\"}, {\"source\": \"LSST Cadence Optimization White Paper in Support of Observations of Unresolved Tidal Stellar Streams in Galaxies beyond the Local Group\", \"target\": \"Deep Drilling Fields for Solar System Science\"}, {\"source\": \"LSST Cadence Optimization White Paper in Support of Observations of Unresolved Tidal Stellar Streams in Galaxies beyond the Local Group\", \"target\": \"Enhancing LSST Science with Euclid Synergy\"}, {\"source\": \"LSST Cadence Optimization White Paper in Support of Observations of Unresolved Tidal Stellar Streams in Galaxies beyond the Local Group\", \"target\": \"Mini-survey of the northern sky to Dec &lt; +30\"}, {\"source\": \"LSST Cadence Optimization White Paper in Support of Observations of Unresolved Tidal Stellar Streams in Galaxies beyond the Local Group\", \"target\": \"LSST Observations of WFIRST Deep Fields\"}, {\"source\": \"LSST Cadence Optimization White Paper in Support of Observations of Unresolved Tidal Stellar Streams in Galaxies beyond the Local Group\", \"target\": \"Maximizing the Joint Science Return of LSST and DESI\"}, {\"source\": \"LSST Local Volume mini-survey\", \"target\": \"LSST Observations of WFIRST Deep Fields\"}, {\"source\": \"LSST Local Volume mini-survey\", \"target\": \"The Definitive Map of the Galactic bulge\"}, {\"source\": \"LSST Local Volume mini-survey\", \"target\": \"LSST Observations of WFIRST Deep Fields\"}, {\"source\": \"LSST Local Volume mini-survey\", \"target\": \"The Definitive Map of the Galactic bulge\"}, {\"source\": \"LSST Observations of WFIRST Deep Fields\", \"target\": \"Target of Opportunity Observations of Gravitational Wave Events with LSST\"}, {\"source\": \"LSST Observations of WFIRST Deep Fields\", \"target\": \"Characterizing Variable Stars in a Single Night with LSST\"}, {\"source\": \"LSST Observations of WFIRST Deep Fields\", \"target\": \"Presto-Color: An LSST Cadence for Explosive Physics &amp; Fast Transients\"}, {\"source\": \"LSST Observations of WFIRST Deep Fields\", \"target\": \"Target of Opportunity Observations of Gravitational Wave Events with LSST\"}, {\"source\": \"LSST Observations of WFIRST Deep Fields\", \"target\": \"Unveiling the Rich and Diverse Universe of Subsecond Astrophysics through LSST Star Trails\"}, {\"source\": \"LSST Observations of WFIRST Deep Fields\", \"target\": \"Enhancing LSST Science with Euclid Synergy\"}, {\"source\": \"LSST Observations of WFIRST Deep Fields\", \"target\": \"Mini-survey of the northern sky to Dec &lt; +30\"}, {\"source\": \"LSST Observations of WFIRST Deep Fields\", \"target\": \"Enabling Cosmological Synergies between the LSST and WFIRST High Latitude Survey\"}, {\"source\": \"LSST Observations of WFIRST Deep Fields\", \"target\": \"LSST Local Volume mini-survey\"}, {\"source\": \"LSST Observations of WFIRST Deep Fields\", \"target\": \"A Big Sky Approach to Cadence Diplomacy\"}, {\"source\": \"LSST Observations of WFIRST Deep Fields\", \"target\": \"Optimizing the LSST Observing Strategy for Dark Energy Science:\\u00a0 DESC Recommendations for the Deep Drilling Fields and other Special Programs\"}, {\"source\": \"LSST Observations of WFIRST Deep Fields\", \"target\": \"Optimizing the LSST Observing Strategy for Dark Energy Science: DESC Recommendations for the Wide-Fast-Deep Survey\"}, {\"source\": \"LSST Observations of WFIRST Deep Fields\", \"target\": \"Large Synoptic Survey Telescope White Paper; The Case for Matching U-band on Deep Drilling Fields\"}, {\"source\": \"LSST Observations of WFIRST Deep Fields\", \"target\": \"Enabling Cosmological Synergies between the LSST and WFIRST High Latitude Survey\"}, {\"source\": \"LSST Observations of WFIRST Deep Fields\", \"target\": \"Enhancing LSST Science with Euclid Synergy\"}, {\"source\": \"LSST Observations of WFIRST Deep Fields\", \"target\": \"Mini-survey of the northern sky to Dec &lt; +30\"}, {\"source\": \"LSST Observations of WFIRST Deep Fields\", \"target\": \"Optimizing the LSST Observing Strategy for Dark Energy Science:\\u00a0 DESC Recommendations for the Deep Drilling Fields and other Special Programs\"}, {\"source\": \"LSST Observations of WFIRST Deep Fields\", \"target\": \"Optimizing the LSST Observing Strategy for Dark Energy Science: DESC Recommendations for the Wide-Fast-Deep Survey\"}, {\"source\": \"LSST Observations of WFIRST Deep Fields\", \"target\": \"Maximizing the Joint Science Return of LSST and DESI\"}, {\"source\": \"LSST Observations of WFIRST Deep Fields\", \"target\": \"Optimizing the LSST Observing Strategy for Dark Energy Science: DESC Recommendations for the Wide-Fast-Deep Survey\"}, {\"source\": \"LSST Observations of WFIRST Deep Fields\", \"target\": \"Target of Opportunity Observations of Gravitational Wave Events with LSST\"}, {\"source\": \"LSST Observations of WFIRST Deep Fields\", \"target\": \"LSST Local Volume mini-survey\"}, {\"source\": \"LSST Observations of WFIRST Deep Fields\", \"target\": \"LSST Cadence Optimization White Paper in Support of Observations of Unresolved Tidal Stellar Streams in Galaxies beyond the Local Group\"}, {\"source\": \"LSST Observations of WFIRST Deep Fields\", \"target\": \"Maximizing the Joint Science Return of LSST and DESI\"}, {\"source\": \"LSST Observations of WFIRST Deep Fields\", \"target\": \"Maximizing the Joint Science Return of LSST and DESI\"}, {\"source\": \"LSST Observations of WFIRST Deep Fields\", \"target\": \"Mini-survey of the northern sky to Dec &lt; +30\"}, {\"source\": \"LSST Observations of WFIRST Deep Fields\", \"target\": \"Optimizing the LSST Observing Strategy for Dark Energy Science: DESC Recommendations for the Wide-Fast-Deep Survey\"}, {\"source\": \"LSST Observations of WFIRST Deep Fields\", \"target\": \"Enhancing LSST Science with Euclid Synergy\"}, {\"source\": \"LSST Observations of WFIRST Deep Fields\", \"target\": \"Mini-survey of the northern sky to Dec &lt; +30\"}, {\"source\": \"LSST Observations of WFIRST Deep Fields\", \"target\": \"Optimizing the LSST Observing Strategy for Dark Energy Science:\\u00a0 DESC Recommendations for the Deep Drilling Fields and other Special Programs\"}, {\"source\": \"LSST Observations of WFIRST Deep Fields\", \"target\": \"Optimizing the LSST Observing Strategy for Dark Energy Science: DESC Recommendations for the Wide-Fast-Deep Survey\"}, {\"source\": \"LSST Observations of WFIRST Deep Fields\", \"target\": \"Discovery of Strongly-lensed Gravitational Waves \\u2013Implications for the LSST Observing Strategy\"}, {\"source\": \"LSST Observations of WFIRST Deep Fields\", \"target\": \"Enhancing LSST Science with Euclid Synergy\"}, {\"source\": \"LSST Observations of WFIRST Deep Fields\", \"target\": \"Mini-survey of the northern sky to Dec &lt; +30\"}, {\"source\": \"LSST Observations of WFIRST Deep Fields\", \"target\": \"Enhancing LSST Science with Euclid Synergy\"}, {\"source\": \"LSST Observations of WFIRST Deep Fields\", \"target\": \"Mini-survey of the northern sky to Dec &lt; +30\"}, {\"source\": \"LSST Observations of WFIRST Deep Fields\", \"target\": \"Enhancing LSST Science with Euclid Synergy\"}, {\"source\": \"LSST Observations of WFIRST Deep Fields\", \"target\": \"LSST Target of Opportunity proposal for locating a core collapse supernova in our galaxy triggered by a neutrino supernova alert\"}, {\"source\": \"LSST Observations of WFIRST Deep Fields\", \"target\": \"Mini-survey of the northern sky to Dec &lt; +30\"}, {\"source\": \"LSST Observations of WFIRST Deep Fields\", \"target\": \"Optimizing the LSST Observing Strategy for Dark Energy Science:\\u00a0 DESC Recommendations for the Deep Drilling Fields and other Special Programs\"}, {\"source\": \"LSST Observations of WFIRST Deep Fields\", \"target\": \"Optimizing the LSST Observing Strategy for Dark Energy Science: DESC Recommendations for the Wide-Fast-Deep Survey\"}, {\"source\": \"LSST Observations of WFIRST Deep Fields\", \"target\": \"Target of Opportunity Observations of Gravitational Wave Events with LSST\"}, {\"source\": \"LSST Observations of WFIRST Deep Fields\", \"target\": \"The Definitive Map of the Galactic bulge\"}, {\"source\": \"LSST Observations of WFIRST Deep Fields\", \"target\": \"Unique Science from a Coordinated LSST-WFIRST Survey of the Galactic Bulge\"}, {\"source\": \"LSST Observations of WFIRST Deep Fields\", \"target\": \"unVEil the darknesS of The gAlactic bulge ()\"}, {\"source\": \"LSST Observations of WFIRST Deep Fields\", \"target\": \"Enhancing LSST Science with Euclid Synergy\"}, {\"source\": \"LSST Observations of WFIRST Deep Fields\", \"target\": \"Mini-survey of the northern sky to Dec &lt; +30\"}, {\"source\": \"LSST Target of Opportunity proposal for locating a core collapse supernova in our galaxy triggered by a neutrino supernova alert\", \"target\": \"Enhancing LSST Science with Euclid Synergy\"}, {\"source\": \"LSST Target of Opportunity proposal for locating a core collapse supernova in our galaxy triggered by a neutrino supernova alert\", \"target\": \"LSST Observations of WFIRST Deep Fields\"}, {\"source\": \"LSST Target of Opportunity proposal for locating a core collapse supernova in our galaxy triggered by a neutrino supernova alert\", \"target\": \"Mini-survey of the northern sky to Dec &lt; +30\"}, {\"source\": \"LSST Target of Opportunity proposal for locating a core collapse supernova in our galaxy triggered by a neutrino supernova alert\", \"target\": \"Optimizing the LSST Observing Strategy for Dark Energy Science:\\u00a0 DESC Recommendations for the Deep Drilling Fields and other Special Programs\"}, {\"source\": \"LSST Target of Opportunity proposal for locating a core collapse supernova in our galaxy triggered by a neutrino supernova alert\", \"target\": \"Optimizing the LSST Observing Strategy for Dark Energy Science: DESC Recommendations for the Wide-Fast-Deep Survey\"}, {\"source\": \"LSST Target of Opportunity proposal for locating a core collapse supernova in our galaxy triggered by a neutrino supernova alert\", \"target\": \"Target of Opportunity Observations of Gravitational Wave Events with LSST\"}, {\"source\": \"LSST Target of Opportunity proposal for locating a core collapse supernova in our galaxy triggered by a neutrino supernova alert\", \"target\": \"Optimizing the LSST Observing Strategy for Dark Energy Science:\\u00a0 DESC Recommendations for the Deep Drilling Fields and other Special Programs\"}, {\"source\": \"LSST Target of Opportunity proposal for locating a core collapse supernova in our galaxy triggered by a neutrino supernova alert\", \"target\": \"Optimizing the LSST Observing Strategy for Dark Energy Science: DESC Recommendations for the Wide-Fast-Deep Survey\"}, {\"source\": \"Mapping the Periphery and Variability of the Magellanic Clouds\", \"target\": \"A Big Sky Approach to Cadence Diplomacy\"}, {\"source\": \"Mapping the Periphery and Variability of the Magellanic Clouds\", \"target\": \"Maximizing the Joint Science Return of LSST and DESI\"}, {\"source\": \"Mapping the Periphery and Variability of the Magellanic Clouds\", \"target\": \"Mini-survey of the northern sky to Dec &lt; +30\"}, {\"source\": \"Mapping the Periphery and Variability of the Magellanic Clouds\", \"target\": \"Target of Opportunity Observations of Gravitational Wave Events with LSST\"}, {\"source\": \"Mapping the Periphery and Variability of the Magellanic Clouds\", \"target\": \"Unique Science from a Coordinated LSST-WFIRST Survey of the Galactic Bulge\"}, {\"source\": \"Mapping the Periphery and Variability of the Magellanic Clouds\", \"target\": \"The Gaia-LSST Synergy: resolved stellar populations in selected Local Group stellar systems\"}, {\"source\": \"Mapping the Periphery and Variability of the Magellanic Clouds\", \"target\": \"A Big Sky Approach to Cadence Diplomacy\"}, {\"source\": \"Mapping the Periphery and Variability of the Magellanic Clouds\", \"target\": \"The Gaia-LSST Synergy: resolved stellar populations in selected Local Group stellar systems\"}, {\"source\": \"Mapping the Periphery and Variability of the Magellanic Clouds\", \"target\": \"The Gaia-LSST Synergy: resolved stellar populations in selected Local Group stellar systems\"}, {\"source\": \"Mapping the Periphery and Variability of the Magellanic Clouds\", \"target\": \"unVEil the darknesS of The gAlactic bulge ()\"}, {\"source\": \"Mapping the Periphery and Variability of the Magellanic Clouds\", \"target\": \"The Gaia-LSST Synergy: resolved stellar populations in selected Local Group stellar systems\"}, {\"source\": \"Mapping the Periphery and Variability of the Magellanic Clouds\", \"target\": \"unVEil the darknesS of The gAlactic bulge ()\"}, {\"source\": \"Mapping the Periphery and Variability of the Magellanic Clouds\", \"target\": \"The Gaia-LSST Synergy: resolved stellar populations in selected Local Group stellar systems\"}, {\"source\": \"Mapping the Periphery and Variability of the Magellanic Clouds\", \"target\": \"unVEil the darknesS of The gAlactic bulge ()\"}, {\"source\": \"Mapping the Periphery and Variability of the Magellanic Clouds\", \"target\": \"The Plane\\u2019s The Thing: The Case for Wide-Fast-Deep Coverage of the Galactic Plane and Bulge\"}, {\"source\": \"Mapping the Periphery and Variability of the Magellanic Clouds\", \"target\": \"The Gaia-LSST Synergy: resolved stellar populations in selected Local Group stellar systems\"}, {\"source\": \"Mapping the Periphery and Variability of the Magellanic Clouds\", \"target\": \"Optimizing the LSST Observing Strategy for Dark Energy Science: DESC Recommendations for the Wide-Fast-Deep Survey\"}, {\"source\": \"Maximizing the Joint Science Return of LSST and DESI\", \"target\": \"A Big Sky Approach to Cadence Diplomacy\"}, {\"source\": \"Maximizing the Joint Science Return of LSST and DESI\", \"target\": \"Mini-survey of the northern sky to Dec &lt; +30\"}, {\"source\": \"Maximizing the Joint Science Return of LSST and DESI\", \"target\": \"A Big Sky Approach to Cadence Diplomacy\"}, {\"source\": \"Maximizing the Joint Science Return of LSST and DESI\", \"target\": \"Mini-survey of the northern sky to Dec &lt; +30\"}, {\"source\": \"Maximizing the Joint Science Return of LSST and DESI\", \"target\": \"A Big Sky Approach to Cadence Diplomacy\"}, {\"source\": \"Maximizing the Joint Science Return of LSST and DESI\", \"target\": \"Mapping the Periphery and Variability of the Magellanic Clouds\"}, {\"source\": \"Maximizing the Joint Science Return of LSST and DESI\", \"target\": \"Mini-survey of the northern sky to Dec &lt; +30\"}, {\"source\": \"Maximizing the Joint Science Return of LSST and DESI\", \"target\": \"Enabling Cosmological Synergies between the LSST and WFIRST High Latitude Survey\"}, {\"source\": \"Maximizing the Joint Science Return of LSST and DESI\", \"target\": \"Enhancing LSST Science with Euclid Synergy\"}, {\"source\": \"Maximizing the Joint Science Return of LSST and DESI\", \"target\": \"Mini-survey of the northern sky to Dec &lt; +30\"}, {\"source\": \"Maximizing the Joint Science Return of LSST and DESI\", \"target\": \"Optimizing the LSST Observing Strategy for Dark Energy Science: DESC Recommendations for the Wide-Fast-Deep Survey\"}, {\"source\": \"Maximizing the Joint Science Return of LSST and DESI\", \"target\": \"LSST Observations of WFIRST Deep Fields\"}, {\"source\": \"Maximizing the Joint Science Return of LSST and DESI\", \"target\": \"Optimizing the LSST Observing Strategy for Dark Energy Science: DESC Recommendations for the Wide-Fast-Deep Survey\"}, {\"source\": \"Maximizing the Joint Science Return of LSST and DESI\", \"target\": \"Enabling Cosmological Synergies between the LSST and WFIRST High Latitude Survey\"}, {\"source\": \"Maximizing the Joint Science Return of LSST and DESI\", \"target\": \"LSST Cadence Optimization White Paper in Support of Observations of Unresolved Tidal Stellar Streams in Galaxies beyond the Local Group\"}, {\"source\": \"Maximizing the Joint Science Return of LSST and DESI\", \"target\": \"LSST Observations of WFIRST Deep Fields\"}, {\"source\": \"Maximizing the Joint Science Return of LSST and DESI\", \"target\": \"LSST Observations of WFIRST Deep Fields\"}, {\"source\": \"Maximizing the Joint Science Return of LSST and DESI\", \"target\": \"Mini-survey of the northern sky to Dec &lt; +30\"}, {\"source\": \"Maximizing the Joint Science Return of LSST and DESI\", \"target\": \"Optimizing the LSST Observing Strategy for Dark Energy Science: DESC Recommendations for the Wide-Fast-Deep Survey\"}, {\"source\": \"Mini-survey of the northern sky to Dec &lt; +30\", \"target\": \"Enhancing LSST Science with Euclid Synergy\"}, {\"source\": \"Mini-survey of the northern sky to Dec &lt; +30\", \"target\": \"LSST Observations of WFIRST Deep Fields\"}, {\"source\": \"Mini-survey of the northern sky to Dec &lt; +30\", \"target\": \"Enhancing LSST Science with Euclid Synergy\"}, {\"source\": \"Mini-survey of the northern sky to Dec &lt; +30\", \"target\": \"LSST Observations of WFIRST Deep Fields\"}, {\"source\": \"Mini-survey of the northern sky to Dec &lt; +30\", \"target\": \"LSST Target of Opportunity proposal for locating a core collapse supernova in our galaxy triggered by a neutrino supernova alert\"}, {\"source\": \"Mini-survey of the northern sky to Dec &lt; +30\", \"target\": \"Target of Opportunity Observations of Gravitational Wave Events with LSST\"}, {\"source\": \"Mini-survey of the northern sky to Dec &lt; +30\", \"target\": \"Enhancing LSST Science with Euclid Synergy\"}, {\"source\": \"Mini-survey of the northern sky to Dec &lt; +30\", \"target\": \"Enhancing LSST Science with Euclid Synergy\"}, {\"source\": \"Mini-survey of the northern sky to Dec &lt; +30\", \"target\": \"A Big Sky Approach to Cadence Diplomacy\"}, {\"source\": \"Mini-survey of the northern sky to Dec &lt; +30\", \"target\": \"Maximizing the Joint Science Return of LSST and DESI\"}, {\"source\": \"Mini-survey of the northern sky to Dec &lt; +30\", \"target\": \"Enhancing LSST Science with Euclid Synergy\"}, {\"source\": \"Mini-survey of the northern sky to Dec &lt; +30\", \"target\": \"Enhancing LSST Science with Euclid Synergy\"}, {\"source\": \"Mini-survey of the northern sky to Dec &lt; +30\", \"target\": \"Optimizing the LSST Observing Strategy for Dark Energy Science:\\u00a0 DESC Recommendations for the Deep Drilling Fields and other Special Programs\"}, {\"source\": \"Mini-survey of the northern sky to Dec &lt; +30\", \"target\": \"Optimizing the LSST Observing Strategy for Dark Energy Science: DESC Recommendations for the Wide-Fast-Deep Survey\"}, {\"source\": \"Mini-survey of the northern sky to Dec &lt; +30\", \"target\": \"Enabling Cosmological Synergies between the LSST and WFIRST High Latitude Survey\"}, {\"source\": \"Mini-survey of the northern sky to Dec &lt; +30\", \"target\": \"Enhancing LSST Science with Euclid Synergy\"}, {\"source\": \"Mini-survey of the northern sky to Dec &lt; +30\", \"target\": \"Maximizing the Joint Science Return of LSST and DESI\"}, {\"source\": \"Mini-survey of the northern sky to Dec &lt; +30\", \"target\": \"Optimizing the LSST Observing Strategy for Dark Energy Science: DESC Recommendations for the Wide-Fast-Deep Survey\"}, {\"source\": \"Mini-survey of the northern sky to Dec &lt; +30\", \"target\": \"A Big Sky Approach to Cadence Diplomacy\"}, {\"source\": \"Mini-survey of the northern sky to Dec &lt; +30\", \"target\": \"Maximizing the Joint Science Return of LSST and DESI\"}, {\"source\": \"Mini-survey of the northern sky to Dec &lt; +30\", \"target\": \"Enhancing LSST Science with Euclid Synergy\"}, {\"source\": \"Mini-survey of the northern sky to Dec &lt; +30\", \"target\": \"LSST Cadence Optimization White Paper in Support of Observations of Unresolved Tidal Stellar Streams in Galaxies beyond the Local Group\"}, {\"source\": \"Mini-survey of the northern sky to Dec &lt; +30\", \"target\": \"Enhancing LSST Science with Euclid Synergy\"}, {\"source\": \"Mini-survey of the northern sky to Dec &lt; +30\", \"target\": \"Optimizing the LSST Observing Strategy for Dark Energy Science:\\u00a0 DESC Recommendations for the Deep Drilling Fields and other Special Programs\"}, {\"source\": \"Mini-survey of the northern sky to Dec &lt; +30\", \"target\": \"Optimizing the LSST Observing Strategy for Dark Energy Science: DESC Recommendations for the Wide-Fast-Deep Survey\"}, {\"source\": \"Mini-survey of the northern sky to Dec &lt; +30\", \"target\": \"Enhancing LSST Science with Euclid Synergy\"}, {\"source\": \"Mini-survey of the northern sky to Dec &lt; +30\", \"target\": \"Optimizing the LSST Observing Strategy for Dark Energy Science:\\u00a0 DESC Recommendations for the Deep Drilling Fields and other Special Programs\"}, {\"source\": \"Mini-survey of the northern sky to Dec &lt; +30\", \"target\": \"Optimizing the LSST Observing Strategy for Dark Energy Science: DESC Recommendations for the Wide-Fast-Deep Survey\"}, {\"source\": \"Mini-survey of the northern sky to Dec &lt; +30\", \"target\": \"Enabling Cosmological Synergies between the LSST and WFIRST High Latitude Survey\"}, {\"source\": \"Mini-survey of the northern sky to Dec &lt; +30\", \"target\": \"Enhancing LSST Science with Euclid Synergy\"}, {\"source\": \"Mini-survey of the northern sky to Dec &lt; +30\", \"target\": \"LSST Observations of WFIRST Deep Fields\"}, {\"source\": \"Mini-survey of the northern sky to Dec &lt; +30\", \"target\": \"Enhancing LSST Science with Euclid Synergy\"}, {\"source\": \"Mini-survey of the northern sky to Dec &lt; +30\", \"target\": \"Optimizing the LSST Observing Strategy for Dark Energy Science:\\u00a0 DESC Recommendations for the Deep Drilling Fields and other Special Programs\"}, {\"source\": \"Mini-survey of the northern sky to Dec &lt; +30\", \"target\": \"Optimizing the LSST Observing Strategy for Dark Energy Science: DESC Recommendations for the Wide-Fast-Deep Survey\"}, {\"source\": \"Mini-survey of the northern sky to Dec &lt; +30\", \"target\": \"LSST Observations of WFIRST Deep Fields\"}, {\"source\": \"Mini-survey of the northern sky to Dec &lt; +30\", \"target\": \"Maximizing the Joint Science Return of LSST and DESI\"}, {\"source\": \"Mini-survey of the northern sky to Dec &lt; +30\", \"target\": \"Optimizing the LSST Observing Strategy for Dark Energy Science: DESC Recommendations for the Wide-Fast-Deep Survey\"}, {\"source\": \"Mini-survey of the northern sky to Dec &lt; +30\", \"target\": \"Enhancing LSST Science with Euclid Synergy\"}, {\"source\": \"Mini-survey of the northern sky to Dec &lt; +30\", \"target\": \"A Big Sky Approach to Cadence Diplomacy\"}, {\"source\": \"Mini-survey of the northern sky to Dec &lt; +30\", \"target\": \"Mapping the Periphery and Variability of the Magellanic Clouds\"}, {\"source\": \"Mini-survey of the northern sky to Dec &lt; +30\", \"target\": \"Maximizing the Joint Science Return of LSST and DESI\"}, {\"source\": \"Mini-survey of the northern sky to Dec &lt; +30\", \"target\": \"Enhancing LSST Science with Euclid Synergy\"}, {\"source\": \"Mini-survey of the northern sky to Dec &lt; +30\", \"target\": \"LSST Observations of WFIRST Deep Fields\"}, {\"source\": \"Mini-survey of the northern sky to Dec &lt; +30\", \"target\": \"Optimizing the LSST Observing Strategy for Dark Energy Science:\\u00a0 DESC Recommendations for the Deep Drilling Fields and other Special Programs\"}, {\"source\": \"Mini-survey of the northern sky to Dec &lt; +30\", \"target\": \"Optimizing the LSST Observing Strategy for Dark Energy Science: DESC Recommendations for the Wide-Fast-Deep Survey\"}, {\"source\": \"Mini-survey of the northern sky to Dec &lt; +30\", \"target\": \"Discovery of Strongly-lensed Gravitational Waves \\u2013Implications for the LSST Observing Strategy\"}, {\"source\": \"Mini-survey of the northern sky to Dec &lt; +30\", \"target\": \"Enhancing LSST Science with Euclid Synergy\"}, {\"source\": \"Mini-survey of the northern sky to Dec &lt; +30\", \"target\": \"LSST Observations of WFIRST Deep Fields\"}, {\"source\": \"Mini-survey of the northern sky to Dec &lt; +30\", \"target\": \"Enhancing LSST Science with Euclid Synergy\"}, {\"source\": \"Mini-survey of the northern sky to Dec &lt; +30\", \"target\": \"LSST Observations of WFIRST Deep Fields\"}, {\"source\": \"Mini-survey of the northern sky to Dec &lt; +30\", \"target\": \"Enhancing LSST Science with Euclid Synergy\"}, {\"source\": \"Mini-survey of the northern sky to Dec &lt; +30\", \"target\": \"Enhancing LSST Science with Euclid Synergy\"}, {\"source\": \"Mini-survey of the northern sky to Dec &lt; +30\", \"target\": \"Enhancing LSST Science with Euclid Synergy\"}, {\"source\": \"Mini-survey of the northern sky to Dec &lt; +30\", \"target\": \"Enhancing LSST Science with Euclid Synergy\"}, {\"source\": \"Mini-survey of the northern sky to Dec &lt; +30\", \"target\": \"LSST Observations of WFIRST Deep Fields\"}, {\"source\": \"Mini-survey of the northern sky to Dec &lt; +30\", \"target\": \"Enhancing LSST Science with Euclid Synergy\"}, {\"source\": \"Optimizing the LSST Observing Strategy for Dark Energy Science:\\u00a0 DESC Recommendations for the Deep Drilling Fields and other Special Programs\", \"target\": \"Enhancing LSST Science with Euclid Synergy\"}, {\"source\": \"Optimizing the LSST Observing Strategy for Dark Energy Science:\\u00a0 DESC Recommendations for the Deep Drilling Fields and other Special Programs\", \"target\": \"LSST Observations of WFIRST Deep Fields\"}, {\"source\": \"Optimizing the LSST Observing Strategy for Dark Energy Science:\\u00a0 DESC Recommendations for the Deep Drilling Fields and other Special Programs\", \"target\": \"LSST Target of Opportunity proposal for locating a core collapse supernova in our galaxy triggered by a neutrino supernova alert\"}, {\"source\": \"Optimizing the LSST Observing Strategy for Dark Energy Science:\\u00a0 DESC Recommendations for the Deep Drilling Fields and other Special Programs\", \"target\": \"Optimizing the LSST Observing Strategy for Dark Energy Science: DESC Recommendations for the Wide-Fast-Deep Survey\"}, {\"source\": \"Optimizing the LSST Observing Strategy for Dark Energy Science:\\u00a0 DESC Recommendations for the Deep Drilling Fields and other Special Programs\", \"target\": \"Target of Opportunity Observations of Gravitational Wave Events with LSST\"}, {\"source\": \"Optimizing the LSST Observing Strategy for Dark Energy Science:\\u00a0 DESC Recommendations for the Deep Drilling Fields and other Special Programs\", \"target\": \"Enhancing LSST Science with Euclid Synergy\"}, {\"source\": \"Optimizing the LSST Observing Strategy for Dark Energy Science:\\u00a0 DESC Recommendations for the Deep Drilling Fields and other Special Programs\", \"target\": \"Mini-survey of the northern sky to Dec &lt; +30\"}, {\"source\": \"Optimizing the LSST Observing Strategy for Dark Energy Science:\\u00a0 DESC Recommendations for the Deep Drilling Fields and other Special Programs\", \"target\": \"Optimizing the LSST Observing Strategy for Dark Energy Science: DESC Recommendations for the Wide-Fast-Deep Survey\"}, {\"source\": \"Optimizing the LSST Observing Strategy for Dark Energy Science:\\u00a0 DESC Recommendations for the Deep Drilling Fields and other Special Programs\", \"target\": \"Enhancing LSST Science with Euclid Synergy\"}, {\"source\": \"Optimizing the LSST Observing Strategy for Dark Energy Science:\\u00a0 DESC Recommendations for the Deep Drilling Fields and other Special Programs\", \"target\": \"Mini-survey of the northern sky to Dec &lt; +30\"}, {\"source\": \"Optimizing the LSST Observing Strategy for Dark Energy Science:\\u00a0 DESC Recommendations for the Deep Drilling Fields and other Special Programs\", \"target\": \"Optimizing the LSST Observing Strategy for Dark Energy Science: DESC Recommendations for the Wide-Fast-Deep Survey\"}, {\"source\": \"Optimizing the LSST Observing Strategy for Dark Energy Science:\\u00a0 DESC Recommendations for the Deep Drilling Fields and other Special Programs\", \"target\": \"Optimizing the LSST Observing Strategy for Dark Energy Science: DESC Recommendations for the Wide-Fast-Deep Survey\"}, {\"source\": \"Optimizing the LSST Observing Strategy for Dark Energy Science:\\u00a0 DESC Recommendations for the Deep Drilling Fields and other Special Programs\", \"target\": \"Optimizing the LSST Observing Strategy for Dark Energy Science: DESC Recommendations for the Wide-Fast-Deep Survey\"}, {\"source\": \"Optimizing the LSST Observing Strategy for Dark Energy Science:\\u00a0 DESC Recommendations for the Deep Drilling Fields and other Special Programs\", \"target\": \"Optimizing the LSST Observing Strategy for Dark Energy Science: DESC Recommendations for the Wide-Fast-Deep Survey\"}, {\"source\": \"Optimizing the LSST Observing Strategy for Dark Energy Science:\\u00a0 DESC Recommendations for the Deep Drilling Fields and other Special Programs\", \"target\": \"A Big Sky Approach to Cadence Diplomacy\"}, {\"source\": \"Optimizing the LSST Observing Strategy for Dark Energy Science:\\u00a0 DESC Recommendations for the Deep Drilling Fields and other Special Programs\", \"target\": \"Optimizing the LSST Observing Strategy for Dark Energy Science: DESC Recommendations for the Wide-Fast-Deep Survey\"}, {\"source\": \"Optimizing the LSST Observing Strategy for Dark Energy Science:\\u00a0 DESC Recommendations for the Deep Drilling Fields and other Special Programs\", \"target\": \"Optimizing the LSST Observing Strategy for Dark Energy Science: DESC Recommendations for the Wide-Fast-Deep Survey\"}, {\"source\": \"Optimizing the LSST Observing Strategy for Dark Energy Science:\\u00a0 DESC Recommendations for the Deep Drilling Fields and other Special Programs\", \"target\": \"Presto-Color: An LSST Cadence for Explosive Physics &amp; Fast Transients\"}, {\"source\": \"Optimizing the LSST Observing Strategy for Dark Energy Science:\\u00a0 DESC Recommendations for the Deep Drilling Fields and other Special Programs\", \"target\": \"Optimizing the LSST Observing Strategy for Dark Energy Science: DESC Recommendations for the Wide-Fast-Deep Survey\"}, {\"source\": \"Optimizing the LSST Observing Strategy for Dark Energy Science:\\u00a0 DESC Recommendations for the Deep Drilling Fields and other Special Programs\", \"target\": \"Enhancing LSST Science with Euclid Synergy\"}, {\"source\": \"Optimizing the LSST Observing Strategy for Dark Energy Science:\\u00a0 DESC Recommendations for the Deep Drilling Fields and other Special Programs\", \"target\": \"Mini-survey of the northern sky to Dec &lt; +30\"}, {\"source\": \"Optimizing the LSST Observing Strategy for Dark Energy Science:\\u00a0 DESC Recommendations for the Deep Drilling Fields and other Special Programs\", \"target\": \"Optimizing the LSST Observing Strategy for Dark Energy Science: DESC Recommendations for the Wide-Fast-Deep Survey\"}, {\"source\": \"Optimizing the LSST Observing Strategy for Dark Energy Science:\\u00a0 DESC Recommendations for the Deep Drilling Fields and other Special Programs\", \"target\": \"A Big Sky Approach to Cadence Diplomacy\"}, {\"source\": \"Optimizing the LSST Observing Strategy for Dark Energy Science:\\u00a0 DESC Recommendations for the Deep Drilling Fields and other Special Programs\", \"target\": \"LSST Observations of WFIRST Deep Fields\"}, {\"source\": \"Optimizing the LSST Observing Strategy for Dark Energy Science:\\u00a0 DESC Recommendations for the Deep Drilling Fields and other Special Programs\", \"target\": \"Optimizing the LSST Observing Strategy for Dark Energy Science: DESC Recommendations for the Wide-Fast-Deep Survey\"}, {\"source\": \"Optimizing the LSST Observing Strategy for Dark Energy Science:\\u00a0 DESC Recommendations for the Deep Drilling Fields and other Special Programs\", \"target\": \"Optimizing the LSST Observing Strategy for Dark Energy Science: DESC Recommendations for the Wide-Fast-Deep Survey\"}, {\"source\": \"Optimizing the LSST Observing Strategy for Dark Energy Science:\\u00a0 DESC Recommendations for the Deep Drilling Fields and other Special Programs\", \"target\": \"Enhancing LSST Science with Euclid Synergy\"}, {\"source\": \"Optimizing the LSST Observing Strategy for Dark Energy Science:\\u00a0 DESC Recommendations for the Deep Drilling Fields and other Special Programs\", \"target\": \"Mini-survey of the northern sky to Dec &lt; +30\"}, {\"source\": \"Optimizing the LSST Observing Strategy for Dark Energy Science:\\u00a0 DESC Recommendations for the Deep Drilling Fields and other Special Programs\", \"target\": \"Optimizing the LSST Observing Strategy for Dark Energy Science: DESC Recommendations for the Wide-Fast-Deep Survey\"}, {\"source\": \"Optimizing the LSST Observing Strategy for Dark Energy Science:\\u00a0 DESC Recommendations for the Deep Drilling Fields and other Special Programs\", \"target\": \"LSST Observations of WFIRST Deep Fields\"}, {\"source\": \"Optimizing the LSST Observing Strategy for Dark Energy Science:\\u00a0 DESC Recommendations for the Deep Drilling Fields and other Special Programs\", \"target\": \"Optimizing the LSST Observing Strategy for Dark Energy Science: DESC Recommendations for the Wide-Fast-Deep Survey\"}, {\"source\": \"Optimizing the LSST Observing Strategy for Dark Energy Science:\\u00a0 DESC Recommendations for the Deep Drilling Fields and other Special Programs\", \"target\": \"Optimizing the LSST Observing Strategy for Dark Energy Science: DESC Recommendations for the Wide-Fast-Deep Survey\"}, {\"source\": \"Optimizing the LSST Observing Strategy for Dark Energy Science:\\u00a0 DESC Recommendations for the Deep Drilling Fields and other Special Programs\", \"target\": \"Enabling Cosmological Synergies between the LSST and WFIRST High Latitude Survey\"}, {\"source\": \"Optimizing the LSST Observing Strategy for Dark Energy Science:\\u00a0 DESC Recommendations for the Deep Drilling Fields and other Special Programs\", \"target\": \"Optimizing the LSST Observing Strategy for Dark Energy Science: DESC Recommendations for the Wide-Fast-Deep Survey\"}, {\"source\": \"Optimizing the LSST Observing Strategy for Dark Energy Science:\\u00a0 DESC Recommendations for the Deep Drilling Fields and other Special Programs\", \"target\": \"A Big Sky Approach to Cadence Diplomacy\"}, {\"source\": \"Optimizing the LSST Observing Strategy for Dark Energy Science:\\u00a0 DESC Recommendations for the Deep Drilling Fields and other Special Programs\", \"target\": \"Optimizing the LSST Observing Strategy for Dark Energy Science: DESC Recommendations for the Wide-Fast-Deep Survey\"}, {\"source\": \"Optimizing the LSST Observing Strategy for Dark Energy Science:\\u00a0 DESC Recommendations for the Deep Drilling Fields and other Special Programs\", \"target\": \"Target of Opportunity Observations of Gravitational Wave Events with LSST\"}, {\"source\": \"Optimizing the LSST Observing Strategy for Dark Energy Science:\\u00a0 DESC Recommendations for the Deep Drilling Fields and other Special Programs\", \"target\": \"Enhancing LSST Science with Euclid Synergy\"}, {\"source\": \"Optimizing the LSST Observing Strategy for Dark Energy Science:\\u00a0 DESC Recommendations for the Deep Drilling Fields and other Special Programs\", \"target\": \"LSST Observations of WFIRST Deep Fields\"}, {\"source\": \"Optimizing the LSST Observing Strategy for Dark Energy Science:\\u00a0 DESC Recommendations for the Deep Drilling Fields and other Special Programs\", \"target\": \"Mini-survey of the northern sky to Dec &lt; +30\"}, {\"source\": \"Optimizing the LSST Observing Strategy for Dark Energy Science:\\u00a0 DESC Recommendations for the Deep Drilling Fields and other Special Programs\", \"target\": \"Optimizing the LSST Observing Strategy for Dark Energy Science: DESC Recommendations for the Wide-Fast-Deep Survey\"}, {\"source\": \"Optimizing the LSST Observing Strategy for Dark Energy Science:\\u00a0 DESC Recommendations for the Deep Drilling Fields and other Special Programs\", \"target\": \"Optimizing the LSST Observing Strategy for Dark Energy Science: DESC Recommendations for the Wide-Fast-Deep Survey\"}, {\"source\": \"Optimizing the LSST Observing Strategy for Dark Energy Science:\\u00a0 DESC Recommendations for the Deep Drilling Fields and other Special Programs\", \"target\": \"Optimizing the LSST Observing Strategy for Dark Energy Science: DESC Recommendations for the Wide-Fast-Deep Survey\"}, {\"source\": \"Optimizing the LSST Observing Strategy for Dark Energy Science:\\u00a0 DESC Recommendations for the Deep Drilling Fields and other Special Programs\", \"target\": \"LSST Target of Opportunity proposal for locating a core collapse supernova in our galaxy triggered by a neutrino supernova alert\"}, {\"source\": \"Optimizing the LSST Observing Strategy for Dark Energy Science:\\u00a0 DESC Recommendations for the Deep Drilling Fields and other Special Programs\", \"target\": \"Optimizing the LSST Observing Strategy for Dark Energy Science: DESC Recommendations for the Wide-Fast-Deep Survey\"}, {\"source\": \"Optimizing the LSST Observing Strategy for Dark Energy Science:\\u00a0 DESC Recommendations for the Deep Drilling Fields and other Special Programs\", \"target\": \"Optimizing the LSST Observing Strategy for Dark Energy Science: DESC Recommendations for the Wide-Fast-Deep Survey\"}, {\"source\": \"Optimizing the LSST Observing Strategy for Dark Energy Science: DESC Recommendations for the Wide-Fast-Deep Survey\", \"target\": \"Enhancing LSST Science with Euclid Synergy\"}, {\"source\": \"Optimizing the LSST Observing Strategy for Dark Energy Science: DESC Recommendations for the Wide-Fast-Deep Survey\", \"target\": \"Mini-survey of the northern sky to Dec &lt; +30\"}, {\"source\": \"Optimizing the LSST Observing Strategy for Dark Energy Science: DESC Recommendations for the Wide-Fast-Deep Survey\", \"target\": \"Optimizing the LSST Observing Strategy for Dark Energy Science:\\u00a0 DESC Recommendations for the Deep Drilling Fields and other Special Programs\"}, {\"source\": \"Optimizing the LSST Observing Strategy for Dark Energy Science: DESC Recommendations for the Wide-Fast-Deep Survey\", \"target\": \"Enhancing LSST Science with Euclid Synergy\"}, {\"source\": \"Optimizing the LSST Observing Strategy for Dark Energy Science: DESC Recommendations for the Wide-Fast-Deep Survey\", \"target\": \"LSST Observations of WFIRST Deep Fields\"}, {\"source\": \"Optimizing the LSST Observing Strategy for Dark Energy Science: DESC Recommendations for the Wide-Fast-Deep Survey\", \"target\": \"LSST Target of Opportunity proposal for locating a core collapse supernova in our galaxy triggered by a neutrino supernova alert\"}, {\"source\": \"Optimizing the LSST Observing Strategy for Dark Energy Science: DESC Recommendations for the Wide-Fast-Deep Survey\", \"target\": \"Optimizing the LSST Observing Strategy for Dark Energy Science:\\u00a0 DESC Recommendations for the Deep Drilling Fields and other Special Programs\"}, {\"source\": \"Optimizing the LSST Observing Strategy for Dark Energy Science: DESC Recommendations for the Wide-Fast-Deep Survey\", \"target\": \"Target of Opportunity Observations of Gravitational Wave Events with LSST\"}, {\"source\": \"Optimizing the LSST Observing Strategy for Dark Energy Science: DESC Recommendations for the Wide-Fast-Deep Survey\", \"target\": \"A Big Sky Approach to Cadence Diplomacy\"}, {\"source\": \"Optimizing the LSST Observing Strategy for Dark Energy Science: DESC Recommendations for the Wide-Fast-Deep Survey\", \"target\": \"Optimizing the LSST Observing Strategy for Dark Energy Science:\\u00a0 DESC Recommendations for the Deep Drilling Fields and other Special Programs\"}, {\"source\": \"Optimizing the LSST Observing Strategy for Dark Energy Science: DESC Recommendations for the Wide-Fast-Deep Survey\", \"target\": \"Optimizing the LSST Observing Strategy for Dark Energy Science:\\u00a0 DESC Recommendations for the Deep Drilling Fields and other Special Programs\"}, {\"source\": \"Optimizing the LSST Observing Strategy for Dark Energy Science: DESC Recommendations for the Wide-Fast-Deep Survey\", \"target\": \"Enhancing LSST Science with Euclid Synergy\"}, {\"source\": \"Optimizing the LSST Observing Strategy for Dark Energy Science: DESC Recommendations for the Wide-Fast-Deep Survey\", \"target\": \"Mini-survey of the northern sky to Dec &lt; +30\"}, {\"source\": \"Optimizing the LSST Observing Strategy for Dark Energy Science: DESC Recommendations for the Wide-Fast-Deep Survey\", \"target\": \"Optimizing the LSST Observing Strategy for Dark Energy Science:\\u00a0 DESC Recommendations for the Deep Drilling Fields and other Special Programs\"}, {\"source\": \"Optimizing the LSST Observing Strategy for Dark Energy Science: DESC Recommendations for the Wide-Fast-Deep Survey\", \"target\": \"Enabling Cosmological Synergies between the LSST and WFIRST High Latitude Survey\"}, {\"source\": \"Optimizing the LSST Observing Strategy for Dark Energy Science: DESC Recommendations for the Wide-Fast-Deep Survey\", \"target\": \"Optimizing the LSST Observing Strategy for Dark Energy Science:\\u00a0 DESC Recommendations for the Deep Drilling Fields and other Special Programs\"}, {\"source\": \"Optimizing the LSST Observing Strategy for Dark Energy Science: DESC Recommendations for the Wide-Fast-Deep Survey\", \"target\": \"A Big Sky Approach to Cadence Diplomacy\"}, {\"source\": \"Optimizing the LSST Observing Strategy for Dark Energy Science: DESC Recommendations for the Wide-Fast-Deep Survey\", \"target\": \"LSST Observations of WFIRST Deep Fields\"}, {\"source\": \"Optimizing the LSST Observing Strategy for Dark Energy Science: DESC Recommendations for the Wide-Fast-Deep Survey\", \"target\": \"Optimizing the LSST Observing Strategy for Dark Energy Science:\\u00a0 DESC Recommendations for the Deep Drilling Fields and other Special Programs\"}, {\"source\": \"Optimizing the LSST Observing Strategy for Dark Energy Science: DESC Recommendations for the Wide-Fast-Deep Survey\", \"target\": \"Presto-Color: An LSST Cadence for Explosive Physics &amp; Fast Transients\"}, {\"source\": \"Optimizing the LSST Observing Strategy for Dark Energy Science: DESC Recommendations for the Wide-Fast-Deep Survey\", \"target\": \"Optimizing the LSST Observing Strategy for Dark Energy Science:\\u00a0 DESC Recommendations for the Deep Drilling Fields and other Special Programs\"}, {\"source\": \"Optimizing the LSST Observing Strategy for Dark Energy Science: DESC Recommendations for the Wide-Fast-Deep Survey\", \"target\": \"Optimizing the LSST Observing Strategy for Dark Energy Science:\\u00a0 DESC Recommendations for the Deep Drilling Fields and other Special Programs\"}, {\"source\": \"Optimizing the LSST Observing Strategy for Dark Energy Science: DESC Recommendations for the Wide-Fast-Deep Survey\", \"target\": \"Presto-Color: An LSST Cadence for Explosive Physics &amp; Fast Transients\"}, {\"source\": \"Optimizing the LSST Observing Strategy for Dark Energy Science: DESC Recommendations for the Wide-Fast-Deep Survey\", \"target\": \"Enabling Cosmological Synergies between the LSST and WFIRST High Latitude Survey\"}, {\"source\": \"Optimizing the LSST Observing Strategy for Dark Energy Science: DESC Recommendations for the Wide-Fast-Deep Survey\", \"target\": \"Enhancing LSST Science with Euclid Synergy\"}, {\"source\": \"Optimizing the LSST Observing Strategy for Dark Energy Science: DESC Recommendations for the Wide-Fast-Deep Survey\", \"target\": \"Maximizing the Joint Science Return of LSST and DESI\"}, {\"source\": \"Optimizing the LSST Observing Strategy for Dark Energy Science: DESC Recommendations for the Wide-Fast-Deep Survey\", \"target\": \"Mini-survey of the northern sky to Dec &lt; +30\"}, {\"source\": \"Optimizing the LSST Observing Strategy for Dark Energy Science: DESC Recommendations for the Wide-Fast-Deep Survey\", \"target\": \"Optimizing the LSST Observing Strategy for Dark Energy Science:\\u00a0 DESC Recommendations for the Deep Drilling Fields and other Special Programs\"}, {\"source\": \"Optimizing the LSST Observing Strategy for Dark Energy Science: DESC Recommendations for the Wide-Fast-Deep Survey\", \"target\": \"Optimizing the LSST Observing Strategy for Dark Energy Science:\\u00a0 DESC Recommendations for the Deep Drilling Fields and other Special Programs\"}, {\"source\": \"Optimizing the LSST Observing Strategy for Dark Energy Science: DESC Recommendations for the Wide-Fast-Deep Survey\", \"target\": \"Optimizing the LSST Observing Strategy for Dark Energy Science:\\u00a0 DESC Recommendations for the Deep Drilling Fields and other Special Programs\"}, {\"source\": \"Optimizing the LSST Observing Strategy for Dark Energy Science: DESC Recommendations for the Wide-Fast-Deep Survey\", \"target\": \"Enhancing LSST Science with Euclid Synergy\"}, {\"source\": \"Optimizing the LSST Observing Strategy for Dark Energy Science: DESC Recommendations for the Wide-Fast-Deep Survey\", \"target\": \"Mini-survey of the northern sky to Dec &lt; +30\"}, {\"source\": \"Optimizing the LSST Observing Strategy for Dark Energy Science: DESC Recommendations for the Wide-Fast-Deep Survey\", \"target\": \"Optimizing the LSST Observing Strategy for Dark Energy Science:\\u00a0 DESC Recommendations for the Deep Drilling Fields and other Special Programs\"}, {\"source\": \"Optimizing the LSST Observing Strategy for Dark Energy Science: DESC Recommendations for the Wide-Fast-Deep Survey\", \"target\": \"Strong Lensing considerations for the LSST observing strategy\"}, {\"source\": \"Optimizing the LSST Observing Strategy for Dark Energy Science: DESC Recommendations for the Wide-Fast-Deep Survey\", \"target\": \"Optimizing the LSST Observing Strategy for Dark Energy Science:\\u00a0 DESC Recommendations for the Deep Drilling Fields and other Special Programs\"}, {\"source\": \"Optimizing the LSST Observing Strategy for Dark Energy Science: DESC Recommendations for the Wide-Fast-Deep Survey\", \"target\": \"Enhancing LSST Science with Euclid Synergy\"}, {\"source\": \"Optimizing the LSST Observing Strategy for Dark Energy Science: DESC Recommendations for the Wide-Fast-Deep Survey\", \"target\": \"Mini-survey of the northern sky to Dec &lt; +30\"}, {\"source\": \"Optimizing the LSST Observing Strategy for Dark Energy Science: DESC Recommendations for the Wide-Fast-Deep Survey\", \"target\": \"Optimizing the LSST Observing Strategy for Dark Energy Science:\\u00a0 DESC Recommendations for the Deep Drilling Fields and other Special Programs\"}, {\"source\": \"Optimizing the LSST Observing Strategy for Dark Energy Science: DESC Recommendations for the Wide-Fast-Deep Survey\", \"target\": \"Enabling Cosmological Synergies between the LSST and WFIRST High Latitude Survey\"}, {\"source\": \"Optimizing the LSST Observing Strategy for Dark Energy Science: DESC Recommendations for the Wide-Fast-Deep Survey\", \"target\": \"Large Synoptic Survey Telescope White Paper; The Case for Matching U-band on Deep Drilling Fields\"}, {\"source\": \"Optimizing the LSST Observing Strategy for Dark Energy Science: DESC Recommendations for the Wide-Fast-Deep Survey\", \"target\": \"LSST Observations of WFIRST Deep Fields\"}, {\"source\": \"Optimizing the LSST Observing Strategy for Dark Energy Science: DESC Recommendations for the Wide-Fast-Deep Survey\", \"target\": \"Optimizing the LSST Observing Strategy for Dark Energy Science:\\u00a0 DESC Recommendations for the Deep Drilling Fields and other Special Programs\"}, {\"source\": \"Optimizing the LSST Observing Strategy for Dark Energy Science: DESC Recommendations for the Wide-Fast-Deep Survey\", \"target\": \"LSST Observations of WFIRST Deep Fields\"}, {\"source\": \"Optimizing the LSST Observing Strategy for Dark Energy Science: DESC Recommendations for the Wide-Fast-Deep Survey\", \"target\": \"Maximizing the Joint Science Return of LSST and DESI\"}, {\"source\": \"Optimizing the LSST Observing Strategy for Dark Energy Science: DESC Recommendations for the Wide-Fast-Deep Survey\", \"target\": \"A Big Sky Approach to Cadence Diplomacy\"}, {\"source\": \"Optimizing the LSST Observing Strategy for Dark Energy Science: DESC Recommendations for the Wide-Fast-Deep Survey\", \"target\": \"Optimizing the LSST Observing Strategy for Dark Energy Science:\\u00a0 DESC Recommendations for the Deep Drilling Fields and other Special Programs\"}, {\"source\": \"Optimizing the LSST Observing Strategy for Dark Energy Science: DESC Recommendations for the Wide-Fast-Deep Survey\", \"target\": \"Optimizing the LSST Observing Strategy for Dark Energy Science:\\u00a0 DESC Recommendations for the Deep Drilling Fields and other Special Programs\"}, {\"source\": \"Optimizing the LSST Observing Strategy for Dark Energy Science: DESC Recommendations for the Wide-Fast-Deep Survey\", \"target\": \"Mapping the Periphery and Variability of the Magellanic Clouds\"}, {\"source\": \"Optimizing the LSST Observing Strategy for Dark Energy Science: DESC Recommendations for the Wide-Fast-Deep Survey\", \"target\": \"LSST Observations of WFIRST Deep Fields\"}, {\"source\": \"Optimizing the LSST Observing Strategy for Dark Energy Science: DESC Recommendations for the Wide-Fast-Deep Survey\", \"target\": \"Maximizing the Joint Science Return of LSST and DESI\"}, {\"source\": \"Optimizing the LSST Observing Strategy for Dark Energy Science: DESC Recommendations for the Wide-Fast-Deep Survey\", \"target\": \"Mini-survey of the northern sky to Dec &lt; +30\"}, {\"source\": \"Optimizing the LSST Observing Strategy for Dark Energy Science: DESC Recommendations for the Wide-Fast-Deep Survey\", \"target\": \"Enhancing LSST Science with Euclid Synergy\"}, {\"source\": \"Optimizing the LSST Observing Strategy for Dark Energy Science: DESC Recommendations for the Wide-Fast-Deep Survey\", \"target\": \"LSST Observations of WFIRST Deep Fields\"}, {\"source\": \"Optimizing the LSST Observing Strategy for Dark Energy Science: DESC Recommendations for the Wide-Fast-Deep Survey\", \"target\": \"Mini-survey of the northern sky to Dec &lt; +30\"}, {\"source\": \"Optimizing the LSST Observing Strategy for Dark Energy Science: DESC Recommendations for the Wide-Fast-Deep Survey\", \"target\": \"Optimizing the LSST Observing Strategy for Dark Energy Science:\\u00a0 DESC Recommendations for the Deep Drilling Fields and other Special Programs\"}, {\"source\": \"Optimizing the LSST Observing Strategy for Dark Energy Science: DESC Recommendations for the Wide-Fast-Deep Survey\", \"target\": \"Optimizing the LSST Observing Strategy for Dark Energy Science:\\u00a0 DESC Recommendations for the Deep Drilling Fields and other Special Programs\"}, {\"source\": \"Optimizing the LSST Observing Strategy for Dark Energy Science: DESC Recommendations for the Wide-Fast-Deep Survey\", \"target\": \"LSST Target of Opportunity proposal for locating a core collapse supernova in our galaxy triggered by a neutrino supernova alert\"}, {\"source\": \"Optimizing the LSST Observing Strategy for Dark Energy Science: DESC Recommendations for the Wide-Fast-Deep Survey\", \"target\": \"Optimizing the LSST Observing Strategy for Dark Energy Science:\\u00a0 DESC Recommendations for the Deep Drilling Fields and other Special Programs\"}, {\"source\": \"Optimizing the LSST Observing Strategy for Dark Energy Science: DESC Recommendations for the Wide-Fast-Deep Survey\", \"target\": \"Optimizing the LSST Observing Strategy for Dark Energy Science:\\u00a0 DESC Recommendations for the Deep Drilling Fields and other Special Programs\"}, {\"source\": \"Presto-Color: An LSST Cadence for Explosive Physics &amp; Fast Transients\", \"target\": \"Characterizing Variable Stars in a Single Night with LSST\"}, {\"source\": \"Presto-Color: An LSST Cadence for Explosive Physics &amp; Fast Transients\", \"target\": \"LSST Observations of WFIRST Deep Fields\"}, {\"source\": \"Presto-Color: An LSST Cadence for Explosive Physics &amp; Fast Transients\", \"target\": \"Target of Opportunity Observations of Gravitational Wave Events with LSST\"}, {\"source\": \"Presto-Color: An LSST Cadence for Explosive Physics &amp; Fast Transients\", \"target\": \"Unveiling the Rich and Diverse Universe of Subsecond Astrophysics through LSST Star Trails\"}, {\"source\": \"Presto-Color: An LSST Cadence for Explosive Physics &amp; Fast Transients\", \"target\": \"Optimizing the LSST Observing Strategy for Dark Energy Science: DESC Recommendations for the Wide-Fast-Deep Survey\"}, {\"source\": \"Presto-Color: An LSST Cadence for Explosive Physics &amp; Fast Transients\", \"target\": \"Target of Opportunity Observations of Gravitational Wave Events with LSST\"}, {\"source\": \"Presto-Color: An LSST Cadence for Explosive Physics &amp; Fast Transients\", \"target\": \"Optimizing the LSST Observing Strategy for Dark Energy Science:\\u00a0 DESC Recommendations for the Deep Drilling Fields and other Special Programs\"}, {\"source\": \"Presto-Color: An LSST Cadence for Explosive Physics &amp; Fast Transients\", \"target\": \"Optimizing the LSST Observing Strategy for Dark Energy Science: DESC Recommendations for the Wide-Fast-Deep Survey\"}, {\"source\": \"Presto-Color: An LSST Cadence for Explosive Physics &amp; Fast Transients\", \"target\": \"Target of Opportunity Observations of Gravitational Wave Events with LSST\"}, {\"source\": \"Presto-Color: An LSST Cadence for Explosive Physics &amp; Fast Transients\", \"target\": \"Target of Opportunity Observations of Gravitational Wave Events with LSST\"}, {\"source\": \"Simultaneous LSST and Euclid observations \\u2013advantages for Solar System Objects\", \"target\": \"A Northern Ecliptic Survey for Solar System Science\"}, {\"source\": \"Simultaneous LSST and Euclid observations \\u2013advantages for Solar System Objects\", \"target\": \"The Effects of Filter Choice on Outer Solar System Science with LSST\"}, {\"source\": \"Simultaneous LSST and Euclid observations \\u2013advantages for Solar System Objects\", \"target\": \"A Northern Ecliptic Survey for Solar System Science\"}, {\"source\": \"Simultaneous LSST and Euclid observations \\u2013advantages for Solar System Objects\", \"target\": \"Deep Drilling Fields for Solar System Science\"}, {\"source\": \"Simultaneous LSST and Euclid observations \\u2013advantages for Solar System Objects\", \"target\": \"Enabling Deep All-Sky Searches of Outer Solar System Objects\"}, {\"source\": \"Simultaneous LSST and Euclid observations \\u2013advantages for Solar System Objects\", \"target\": \"A Northern Ecliptic Survey for Solar System Science\"}, {\"source\": \"Simultaneous LSST and Euclid observations \\u2013advantages for Solar System Objects\", \"target\": \"Enabling Deep All-Sky Searches of Outer Solar System Objects\"}, {\"source\": \"Simultaneous LSST and Euclid observations \\u2013advantages for Solar System Objects\", \"target\": \"A Big Sky Approach to Cadence Diplomacy\"}, {\"source\": \"Simultaneous LSST and Euclid observations \\u2013advantages for Solar System Objects\", \"target\": \"A Northern Ecliptic Survey for Solar System Science\"}, {\"source\": \"Simultaneous LSST and Euclid observations \\u2013advantages for Solar System Objects\", \"target\": \"Enabling Deep All-Sky Searches of Outer Solar System Objects\"}, {\"source\": \"Simultaneous LSST and Euclid observations \\u2013advantages for Solar System Objects\", \"target\": \"The Effects of Filter Choice on Outer Solar System Science with LSST\"}, {\"source\": \"Strong Lensing considerations for the LSST observing strategy\", \"target\": \"Optimizing the LSST Observing Strategy for Dark Energy Science: DESC Recommendations for the Wide-Fast-Deep Survey\"}, {\"source\": \"Strong Lensing considerations for the LSST observing strategy\", \"target\": \"Discovery of Strongly-lensed Gravitational Waves \\u2013Implications for the LSST Observing Strategy\"}, {\"source\": \"Strong Lensing considerations for the LSST observing strategy\", \"target\": \"Discovery of Strongly-lensed Gravitational Waves \\u2013Implications for the LSST Observing Strategy\"}, {\"source\": \"Target of Opportunity Observations of Gravitational Wave Events with LSST\", \"target\": \"LSST Observations of WFIRST Deep Fields\"}, {\"source\": \"Target of Opportunity Observations of Gravitational Wave Events with LSST\", \"target\": \"Presto-Color: An LSST Cadence for Explosive Physics &amp; Fast Transients\"}, {\"source\": \"Target of Opportunity Observations of Gravitational Wave Events with LSST\", \"target\": \"Presto-Color: An LSST Cadence for Explosive Physics &amp; Fast Transients\"}, {\"source\": \"Target of Opportunity Observations of Gravitational Wave Events with LSST\", \"target\": \"Blazars and Fast Radio Bursts with LSST\"}, {\"source\": \"Target of Opportunity Observations of Gravitational Wave Events with LSST\", \"target\": \"Characterizing Variable Stars in a Single Night with LSST\"}, {\"source\": \"Target of Opportunity Observations of Gravitational Wave Events with LSST\", \"target\": \"LSST Observations of WFIRST Deep Fields\"}, {\"source\": \"Target of Opportunity Observations of Gravitational Wave Events with LSST\", \"target\": \"Presto-Color: An LSST Cadence for Explosive Physics &amp; Fast Transients\"}, {\"source\": \"Target of Opportunity Observations of Gravitational Wave Events with LSST\", \"target\": \"Unveiling the Rich and Diverse Universe of Subsecond Astrophysics through LSST Star Trails\"}, {\"source\": \"Target of Opportunity Observations of Gravitational Wave Events with LSST\", \"target\": \"Blazars and Fast Radio Bursts with LSST\"}, {\"source\": \"Target of Opportunity Observations of Gravitational Wave Events with LSST\", \"target\": \"A Smart and Colorful Cadence for the Wide-Fast Deep Survey\"}, {\"source\": \"Target of Opportunity Observations of Gravitational Wave Events with LSST\", \"target\": \"The Plane\\u2019s The Thing: The Case for Wide-Fast-Deep Coverage of the Galactic Plane and Bulge\"}, {\"source\": \"Target of Opportunity Observations of Gravitational Wave Events with LSST\", \"target\": \"Blazars and Fast Radio Bursts with LSST\"}, {\"source\": \"Target of Opportunity Observations of Gravitational Wave Events with LSST\", \"target\": \"LSST Observations of WFIRST Deep Fields\"}, {\"source\": \"Target of Opportunity Observations of Gravitational Wave Events with LSST\", \"target\": \"A Smart and Colorful Cadence for the Wide-Fast Deep Survey\"}, {\"source\": \"Target of Opportunity Observations of Gravitational Wave Events with LSST\", \"target\": \"Presto-Color: An LSST Cadence for Explosive Physics &amp; Fast Transients\"}, {\"source\": \"Target of Opportunity Observations of Gravitational Wave Events with LSST\", \"target\": \"Optimizing the LSST Observing Strategy for Dark Energy Science:\\u00a0 DESC Recommendations for the Deep Drilling Fields and other Special Programs\"}, {\"source\": \"Target of Opportunity Observations of Gravitational Wave Events with LSST\", \"target\": \"Blazars and Fast Radio Bursts with LSST\"}, {\"source\": \"Target of Opportunity Observations of Gravitational Wave Events with LSST\", \"target\": \"Enhancing LSST Science with Euclid Synergy\"}, {\"source\": \"Target of Opportunity Observations of Gravitational Wave Events with LSST\", \"target\": \"LSST Observations of WFIRST Deep Fields\"}, {\"source\": \"Target of Opportunity Observations of Gravitational Wave Events with LSST\", \"target\": \"LSST Target of Opportunity proposal for locating a core collapse supernova in our galaxy triggered by a neutrino supernova alert\"}, {\"source\": \"Target of Opportunity Observations of Gravitational Wave Events with LSST\", \"target\": \"Mini-survey of the northern sky to Dec &lt; +30\"}, {\"source\": \"Target of Opportunity Observations of Gravitational Wave Events with LSST\", \"target\": \"Optimizing the LSST Observing Strategy for Dark Energy Science:\\u00a0 DESC Recommendations for the Deep Drilling Fields and other Special Programs\"}, {\"source\": \"Target of Opportunity Observations of Gravitational Wave Events with LSST\", \"target\": \"Optimizing the LSST Observing Strategy for Dark Energy Science: DESC Recommendations for the Wide-Fast-Deep Survey\"}, {\"source\": \"Target of Opportunity Observations of Gravitational Wave Events with LSST\", \"target\": \"Kunal P. Mooley, Caltech; Tyler A. Pritchard, NYU;\"}, {\"source\": \"Target of Opportunity Observations of Gravitational Wave Events with LSST\", \"target\": \"Mapping the Periphery and Variability of the Magellanic Clouds\"}, {\"source\": \"Target of Opportunity Observations of Gravitational Wave Events with LSST\", \"target\": \"Unique Science from a Coordinated LSST-WFIRST Survey of the Galactic Bulge\"}, {\"source\": \"Testing of LSST AGN Selection Using Rolling Cadences\", \"target\": \"Active Galaxy Science in the LSST Deep-Drilling Fields: Footprints, Cadence Requirements, and Total-Depth Requirements\"}, {\"source\": \"Testing of LSST AGN Selection Using Rolling Cadences\", \"target\": \"Leveraging Differential Chromatic Refraction in LSST\"}, {\"source\": \"Testing of LSST AGN Selection Using Rolling Cadences\", \"target\": \"Active Galaxy Science in the LSST Deep-Drilling Fields: Footprints, Cadence Requirements, and Total-Depth Requirements\"}, {\"source\": \"Testing of LSST AGN Selection Using Rolling Cadences\", \"target\": \"Active Galaxy Science in the LSST Deep-Drilling Fields: Footprints, Cadence Requirements, and Total-Depth Requirements\"}, {\"source\": \"Testing of LSST AGN Selection Using Rolling Cadences\", \"target\": \"Leveraging Differential Chromatic Refraction in LSST\"}, {\"source\": \"Testing of LSST AGN Selection Using Rolling Cadences\", \"target\": \"Active Galaxy Science in the LSST Deep-Drilling Fields: Footprints, Cadence Requirements, and Total-Depth Requirements\"}, {\"source\": \"Testing of LSST AGN Selection Using Rolling Cadences\", \"target\": \"Active Galaxy Science in the LSST Deep-Drilling Fields: Footprints, Cadence Requirements, and Total-Depth Requirements\"}, {\"source\": \"Testing of LSST AGN Selection Using Rolling Cadences\", \"target\": \"Leveraging Differential Chromatic Refraction in LSST\"}, {\"source\": \"The Definitive Map of the Galactic bulge\", \"target\": \"unVEil the darknesS of The gAlactic bulge ()\"}, {\"source\": \"The Definitive Map of the Galactic bulge\", \"target\": \"The Plane\\u2019s The Thing: The Case for Wide-Fast-Deep Coverage of the Galactic Plane and Bulge\"}, {\"source\": \"The Definitive Map of the Galactic bulge\", \"target\": \"Unique Science from a Coordinated LSST-WFIRST Survey of the Galactic Bulge\"}, {\"source\": \"The Definitive Map of the Galactic bulge\", \"target\": \"unVEil the darknesS of The gAlactic bulge ()\"}, {\"source\": \"The Definitive Map of the Galactic bulge\", \"target\": \"unVEil the darknesS of The gAlactic bulge ()\"}, {\"source\": \"The Definitive Map of the Galactic bulge\", \"target\": \"LSST Local Volume mini-survey\"}, {\"source\": \"The Definitive Map of the Galactic bulge\", \"target\": \"unVEil the darknesS of The gAlactic bulge ()\"}, {\"source\": \"The Definitive Map of the Galactic bulge\", \"target\": \"unVEil the darknesS of The gAlactic bulge ()\"}, {\"source\": \"The Definitive Map of the Galactic bulge\", \"target\": \"Calibrating Milky Way Maps: An LSST Bright() Star Survey\"}, {\"source\": \"The Definitive Map of the Galactic bulge\", \"target\": \"The Plane\\u2019s The Thing: The Case for Wide-Fast-Deep Coverage of the Galactic Plane and Bulge\"}, {\"source\": \"The Definitive Map of the Galactic bulge\", \"target\": \"LSST Local Volume mini-survey\"}, {\"source\": \"The Definitive Map of the Galactic bulge\", \"target\": \"The Plane\\u2019s The Thing: The Case for Wide-Fast-Deep Coverage of the Galactic Plane and Bulge\"}, {\"source\": \"The Definitive Map of the Galactic bulge\", \"target\": \"The Plane\\u2019s The Thing: The Case for Wide-Fast-Deep Coverage of the Galactic Plane and Bulge\"}, {\"source\": \"The Definitive Map of the Galactic bulge\", \"target\": \"LSST Observations of WFIRST Deep Fields\"}, {\"source\": \"The Definitive Map of the Galactic bulge\", \"target\": \"Unique Science from a Coordinated LSST-WFIRST Survey of the Galactic Bulge\"}, {\"source\": \"The Definitive Map of the Galactic bulge\", \"target\": \"unVEil the darknesS of The gAlactic bulge ()\"}, {\"source\": \"The Definitive Map of the Galactic bulge\", \"target\": \"unVEil the darknesS of The gAlactic bulge ()\"}, {\"source\": \"The Definitive Map of the Galactic bulge\", \"target\": \"unVEil the darknesS of The gAlactic bulge ()\"}, {\"source\": \"The Effects of Filter Choice on Outer Solar System Science with LSST\", \"target\": \"A Northern Ecliptic Survey for Solar System Science\"}, {\"source\": \"The Effects of Filter Choice on Outer Solar System Science with LSST\", \"target\": \"A Big Sky Approach to Cadence Diplomacy\"}, {\"source\": \"The Effects of Filter Choice on Outer Solar System Science with LSST\", \"target\": \"A Northern Ecliptic Survey for Solar System Science\"}, {\"source\": \"The Effects of Filter Choice on Outer Solar System Science with LSST\", \"target\": \"Deep Drilling Fields for Solar System Science\"}, {\"source\": \"The Effects of Filter Choice on Outer Solar System Science with LSST\", \"target\": \"Enabling Deep All-Sky Searches of Outer Solar System Objects\"}, {\"source\": \"The Effects of Filter Choice on Outer Solar System Science with LSST\", \"target\": \"Enabling Deep All-Sky Searches of Outer Solar System Objects\"}, {\"source\": \"The Effects of Filter Choice on Outer Solar System Science with LSST\", \"target\": \"A Northern Ecliptic Survey for Solar System Science\"}, {\"source\": \"The Effects of Filter Choice on Outer Solar System Science with LSST\", \"target\": \"A Big Sky Approach to Cadence Diplomacy\"}, {\"source\": \"The Effects of Filter Choice on Outer Solar System Science with LSST\", \"target\": \"A Northern Ecliptic Survey for Solar System Science\"}, {\"source\": \"The Effects of Filter Choice on Outer Solar System Science with LSST\", \"target\": \"A Northern Ecliptic Survey for Solar System Science\"}, {\"source\": \"The Effects of Filter Choice on Outer Solar System Science with LSST\", \"target\": \"A Big Sky Approach to Cadence Diplomacy\"}, {\"source\": \"The Effects of Filter Choice on Outer Solar System Science with LSST\", \"target\": \"A Northern Ecliptic Survey for Solar System Science\"}, {\"source\": \"The Effects of Filter Choice on Outer Solar System Science with LSST\", \"target\": \"Enabling Deep All-Sky Searches of Outer Solar System Objects\"}, {\"source\": \"The Effects of Filter Choice on Outer Solar System Science with LSST\", \"target\": \"Simultaneous LSST and Euclid observations \\u2013advantages for Solar System Objects\"}, {\"source\": \"The Effects of Filter Choice on Outer Solar System Science with LSST\", \"target\": \"A Northern Ecliptic Survey for Solar System Science\"}, {\"source\": \"The Effects of Filter Choice on Outer Solar System Science with LSST\", \"target\": \"Simultaneous LSST and Euclid observations \\u2013advantages for Solar System Objects\"}, {\"source\": \"The Effects of Filter Choice on Outer Solar System Science with LSST\", \"target\": \"A Northern Ecliptic Survey for Solar System Science\"}, {\"source\": \"The Effects of Filter Choice on Outer Solar System Science with LSST\", \"target\": \"Deep Drilling Fields for Solar System Science\"}, {\"source\": \"The Gaia-LSST Synergy: resolved stellar populations in selected Local Group stellar systems\", \"target\": \"Mapping the Periphery and Variability of the Magellanic Clouds\"}, {\"source\": \"The Gaia-LSST Synergy: resolved stellar populations in selected Local Group stellar systems\", \"target\": \"unVEil the darknesS of The gAlactic bulge ()\"}, {\"source\": \"The Gaia-LSST Synergy: resolved stellar populations in selected Local Group stellar systems\", \"target\": \"Mapping the Periphery and Variability of the Magellanic Clouds\"}, {\"source\": \"The Gaia-LSST Synergy: resolved stellar populations in selected Local Group stellar systems\", \"target\": \"A Big Sky Approach to Cadence Diplomacy\"}, {\"source\": \"The Gaia-LSST Synergy: resolved stellar populations in selected Local Group stellar systems\", \"target\": \"Mapping the Periphery and Variability of the Magellanic Clouds\"}, {\"source\": \"The Gaia-LSST Synergy: resolved stellar populations in selected Local Group stellar systems\", \"target\": \"unVEil the darknesS of The gAlactic bulge ()\"}, {\"source\": \"The Gaia-LSST Synergy: resolved stellar populations in selected Local Group stellar systems\", \"target\": \"Mapping the Periphery and Variability of the Magellanic Clouds\"}, {\"source\": \"The Gaia-LSST Synergy: resolved stellar populations in selected Local Group stellar systems\", \"target\": \"unVEil the darknesS of The gAlactic bulge ()\"}, {\"source\": \"The Gaia-LSST Synergy: resolved stellar populations in selected Local Group stellar systems\", \"target\": \"unVEil the darknesS of The gAlactic bulge ()\"}, {\"source\": \"The Gaia-LSST Synergy: resolved stellar populations in selected Local Group stellar systems\", \"target\": \"Mapping the Periphery and Variability of the Magellanic Clouds\"}, {\"source\": \"The Gaia-LSST Synergy: resolved stellar populations in selected Local Group stellar systems\", \"target\": \"unVEil the darknesS of The gAlactic bulge ()\"}, {\"source\": \"The Gaia-LSST Synergy: resolved stellar populations in selected Local Group stellar systems\", \"target\": \"Mapping the Periphery and Variability of the Magellanic Clouds\"}, {\"source\": \"The Plane\\u2019s The Thing: The Case for Wide-Fast-Deep Coverage of the Galactic Plane and Bulge\", \"target\": \"The Definitive Map of the Galactic bulge\"}, {\"source\": \"The Plane\\u2019s The Thing: The Case for Wide-Fast-Deep Coverage of the Galactic Plane and Bulge\", \"target\": \"Target of Opportunity Observations of Gravitational Wave Events with LSST\"}, {\"source\": \"The Plane\\u2019s The Thing: The Case for Wide-Fast-Deep Coverage of the Galactic Plane and Bulge\", \"target\": \"The Definitive Map of the Galactic bulge\"}, {\"source\": \"The Plane\\u2019s The Thing: The Case for Wide-Fast-Deep Coverage of the Galactic Plane and Bulge\", \"target\": \"Unique Science from a Coordinated LSST-WFIRST Survey of the Galactic Bulge\"}, {\"source\": \"The Plane\\u2019s The Thing: The Case for Wide-Fast-Deep Coverage of the Galactic Plane and Bulge\", \"target\": \"unVEil the darknesS of The gAlactic bulge ()\"}, {\"source\": \"The Plane\\u2019s The Thing: The Case for Wide-Fast-Deep Coverage of the Galactic Plane and Bulge\", \"target\": \"Mapping the Periphery and Variability of the Magellanic Clouds\"}, {\"source\": \"The Plane\\u2019s The Thing: The Case for Wide-Fast-Deep Coverage of the Galactic Plane and Bulge\", \"target\": \"Calibrating Milky Way Maps: An LSST Bright() Star Survey\"}, {\"source\": \"The Plane\\u2019s The Thing: The Case for Wide-Fast-Deep Coverage of the Galactic Plane and Bulge\", \"target\": \"The Definitive Map of the Galactic bulge\"}, {\"source\": \"The Plane\\u2019s The Thing: The Case for Wide-Fast-Deep Coverage of the Galactic Plane and Bulge\", \"target\": \"The Definitive Map of the Galactic bulge\"}, {\"source\": \"Unique Science from a Coordinated LSST-WFIRST Survey of the Galactic Bulge\", \"target\": \"LSST Observations of WFIRST Deep Fields\"}, {\"source\": \"Unique Science from a Coordinated LSST-WFIRST Survey of the Galactic Bulge\", \"target\": \"The Definitive Map of the Galactic bulge\"}, {\"source\": \"Unique Science from a Coordinated LSST-WFIRST Survey of the Galactic Bulge\", \"target\": \"unVEil the darknesS of The gAlactic bulge ()\"}, {\"source\": \"Unique Science from a Coordinated LSST-WFIRST Survey of the Galactic Bulge\", \"target\": \"A Cadence to Reduce Aliasing in LSST\"}, {\"source\": \"Unique Science from a Coordinated LSST-WFIRST Survey of the Galactic Bulge\", \"target\": \"A Higher Cadence Subsurvey Located in the Galactic Plane\"}, {\"source\": \"Unique Science from a Coordinated LSST-WFIRST Survey of the Galactic Bulge\", \"target\": \"A Higher Cadence Subsurvey Located in the Galactic Plane\"}, {\"source\": \"Unique Science from a Coordinated LSST-WFIRST Survey of the Galactic Bulge\", \"target\": \"Mapping the Periphery and Variability of the Magellanic Clouds\"}, {\"source\": \"Unique Science from a Coordinated LSST-WFIRST Survey of the Galactic Bulge\", \"target\": \"Target of Opportunity Observations of Gravitational Wave Events with LSST\"}, {\"source\": \"Unique Science from a Coordinated LSST-WFIRST Survey of the Galactic Bulge\", \"target\": \"The Definitive Map of the Galactic bulge\"}, {\"source\": \"Unique Science from a Coordinated LSST-WFIRST Survey of the Galactic Bulge\", \"target\": \"The Plane\\u2019s The Thing: The Case for Wide-Fast-Deep Coverage of the Galactic Plane and Bulge\"}, {\"source\": \"Unique Science from a Coordinated LSST-WFIRST Survey of the Galactic Bulge\", \"target\": \"unVEil the darknesS of The gAlactic bulge ()\"}, {\"source\": \"Unique Science from a Coordinated LSST-WFIRST Survey of the Galactic Bulge\", \"target\": \"A Higher Cadence Subsurvey Located in the Galactic Plane\"}, {\"source\": \"unVEil the darknesS of The gAlactic bulge ()\", \"target\": \"The Definitive Map of the Galactic bulge\"}, {\"source\": \"unVEil the darknesS of The gAlactic bulge ()\", \"target\": \"The Definitive Map of the Galactic bulge\"}, {\"source\": \"unVEil the darknesS of The gAlactic bulge ()\", \"target\": \"The Gaia-LSST Synergy: resolved stellar populations in selected Local Group stellar systems\"}, {\"source\": \"unVEil the darknesS of The gAlactic bulge ()\", \"target\": \"The Definitive Map of the Galactic bulge\"}, {\"source\": \"unVEil the darknesS of The gAlactic bulge ()\", \"target\": \"The Plane\\u2019s The Thing: The Case for Wide-Fast-Deep Coverage of the Galactic Plane and Bulge\"}, {\"source\": \"unVEil the darknesS of The gAlactic bulge ()\", \"target\": \"Unique Science from a Coordinated LSST-WFIRST Survey of the Galactic Bulge\"}, {\"source\": \"unVEil the darknesS of The gAlactic bulge ()\", \"target\": \"The Definitive Map of the Galactic bulge\"}, {\"source\": \"unVEil the darknesS of The gAlactic bulge ()\", \"target\": \"The Definitive Map of the Galactic bulge\"}, {\"source\": \"unVEil the darknesS of The gAlactic bulge ()\", \"target\": \"Investigating the population of Galactic star formation regions and star clusters within a Wide-Fast-Deep Coverage of the Galactic Plane\"}, {\"source\": \"unVEil the darknesS of The gAlactic bulge ()\", \"target\": \"Mapping the Periphery and Variability of the Magellanic Clouds\"}, {\"source\": \"unVEil the darknesS of The gAlactic bulge ()\", \"target\": \"The Gaia-LSST Synergy: resolved stellar populations in selected Local Group stellar systems\"}, {\"source\": \"unVEil the darknesS of The gAlactic bulge ()\", \"target\": \"The Gaia-LSST Synergy: resolved stellar populations in selected Local Group stellar systems\"}, {\"source\": \"unVEil the darknesS of The gAlactic bulge ()\", \"target\": \"Mapping the Periphery and Variability of the Magellanic Clouds\"}, {\"source\": \"unVEil the darknesS of The gAlactic bulge ()\", \"target\": \"The Gaia-LSST Synergy: resolved stellar populations in selected Local Group stellar systems\"}, {\"source\": \"unVEil the darknesS of The gAlactic bulge ()\", \"target\": \"Mapping the Periphery and Variability of the Magellanic Clouds\"}, {\"source\": \"unVEil the darknesS of The gAlactic bulge ()\", \"target\": \"The Gaia-LSST Synergy: resolved stellar populations in selected Local Group stellar systems\"}, {\"source\": \"unVEil the darknesS of The gAlactic bulge ()\", \"target\": \"LSST Observations of WFIRST Deep Fields\"}, {\"source\": \"unVEil the darknesS of The gAlactic bulge ()\", \"target\": \"The Definitive Map of the Galactic bulge\"}, {\"source\": \"unVEil the darknesS of The gAlactic bulge ()\", \"target\": \"Unique Science from a Coordinated LSST-WFIRST Survey of the Galactic Bulge\"}, {\"source\": \"unVEil the darknesS of The gAlactic bulge ()\", \"target\": \"A Cadence to Reduce Aliasing in LSST\"}, {\"source\": \"unVEil the darknesS of The gAlactic bulge ()\", \"target\": \"The Definitive Map of the Galactic bulge\"}, {\"source\": \"unVEil the darknesS of The gAlactic bulge ()\", \"target\": \"The Definitive Map of the Galactic bulge\"}, {\"source\": \"Unveiling the Rich and Diverse Universe of Subsecond Astrophysics through LSST Star Trails\", \"target\": \"Characterizing Variable Stars in a Single Night with LSST\"}, {\"source\": \"Unveiling the Rich and Diverse Universe of Subsecond Astrophysics through LSST Star Trails\", \"target\": \"LSST Observations of WFIRST Deep Fields\"}, {\"source\": \"Unveiling the Rich and Diverse Universe of Subsecond Astrophysics through LSST Star Trails\", \"target\": \"Presto-Color: An LSST Cadence for Explosive Physics &amp; Fast Transients\"}, {\"source\": \"Unveiling the Rich and Diverse Universe of Subsecond Astrophysics through LSST Star Trails\", \"target\": \"Target of Opportunity Observations of Gravitational Wave Events with LSST\"}, {\"source\": \"Unveiling the Rich and Diverse Universe of Subsecond Astrophysics through LSST Star Trails\", \"target\": \"Blazars and Fast Radio Bursts with LSST\"}]}"
     ]
    }
   ],
   "source": [
    "!head dataWP.json\n"
   ]
  },
  {
   "cell_type": "code",
   "execution_count": null,
   "metadata": {
    "run_control": {
     "frozen": false,
     "read_only": false
    }
   },
   "outputs": [],
   "source": []
  }
 ],
 "metadata": {
  "kernelspec": {
   "display_name": "Python 3",
   "language": "python",
   "name": "python3"
  },
  "language_info": {
   "codemirror_mode": {
    "name": "ipython",
    "version": 3
   },
   "file_extension": ".py",
   "mimetype": "text/x-python",
   "name": "python",
   "nbconvert_exporter": "python",
   "pygments_lexer": "ipython3",
   "version": "3.6.8"
  },
  "toc": {
   "colors": {
    "hover_highlight": "#DAA520",
    "running_highlight": "#FF0000",
    "selected_highlight": "#FFD700"
   },
   "moveMenuLeft": true,
   "nav_menu": {
    "height": "12px",
    "width": "252px"
   },
   "navigate_menu": true,
   "number_sections": true,
   "sideBar": true,
   "threshold": 4,
   "toc_cell": false,
   "toc_section_display": "block",
   "toc_window_display": false
  }
 },
 "nbformat": 4,
 "nbformat_minor": 2
}
